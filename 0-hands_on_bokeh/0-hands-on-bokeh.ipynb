{
 "cells": [
  {
   "cell_type": "markdown",
   "metadata": {},
   "source": [
    "\n",
    "# Hands on with Bokeh\n",
    "\n",
    "> Bokeh is a Python library for creating interactive visualizations for modern web browsers. It helps you build beautiful graphics, ranging from simple plots to complex dashboards with streaming datasets. With Bokeh, you can create JavaScript-powered visualizations without writing any JavaScript yourself.\n",
    "\n",
    "\n",
    "## Blog\n",
    "\n",
    "- https://www.fouyapen.com/visualization/python/basic/2020/01/31/hands-on-with-bokeh.html\n",
    "\n",
    "\n",
    "## What you will learn in the notebook \n",
    "- Heatmap\n",
    "- Barchart\n",
    "- Bar plot \n",
    "- Line plot \n",
    "- Smoothing \n",
    "- Density plot \n",
    "- Area plot \n",
    "\n",
    "## Keywords \n",
    "- visualization\n",
    "- interactive plots \n",
    "\n",
    "## Data source \n",
    "- tranport of london: weekly volume of user \n",
    "\n",
    "\n",
    "## Requirements \n",
    "\n",
    "- python 3.7\n",
    "\n",
    "## Reference \n",
    "\n",
    "https://docs.bokeh.org/en/latest/index.html#:~:text=Bokeh%20is%20a%20Python%20library,without%20writing%20any%20JavaScript%20yourself.\n"
   ]
  },
  {
   "cell_type": "code",
   "execution_count": 13,
   "metadata": {},
   "outputs": [
    {
     "name": "stdout",
     "output_type": "stream",
     "text": [
      "The watermark extension is already loaded. To reload it, use:\n",
      "  %reload_ext watermark\n",
      "Last updated: 2021-03-29 22:06:40CEST\n",
      "\n"
     ]
    }
   ],
   "source": [
    "import pandas as pd \n",
    "import numpy as np \n",
    "%load_ext watermark\n",
    "%watermark -u -d -t -z"
   ]
  },
  {
   "cell_type": "code",
   "execution_count": 14,
   "metadata": {},
   "outputs": [],
   "source": [
    "# Some nice palettes\n",
    "COLOR_PALETTES = [\n",
    "'#000001'\n",
    "'#092a3a'\n",
    "'#395036'\n",
    "'#a37c19'\n",
    "'#ffe9c7'\n",
    "]\n",
    "\n",
    "\n",
    "CONTRASTING_PALETTES = [\n",
    "'#007b00',\n",
    "'#24e0b8',\n",
    "'#ffcc51',\n",
    "'#ff8b76',\n",
    "'#ff3031'\n",
    "]"
   ]
  },
  {
   "cell_type": "code",
   "execution_count": 15,
   "metadata": {},
   "outputs": [],
   "source": [
    "# objective: load data \n",
    "en17week = pd.read_csv('data/counts_tfl/En17week.csv',skiprows=6)\n",
    "ext17week = pd.read_csv('data/counts_tfl/Ex17week.csv',skiprows=6)"
   ]
  },
  {
   "cell_type": "markdown",
   "metadata": {},
   "source": [
    "## Data processing \n",
    " 269 rows \n",
    " 108 columns\n",
    " \n",
    " \n",
    " \n",
    "Vauxhall <- Stockwell <-Brixton\n",
    "\n",
    "\n",
    "\n",
    "\n",
    "victoria line :\n",
    "Victoria\t2009\t8\t986\t252\t734"
   ]
  },
  {
   "cell_type": "code",
   "execution_count": 17,
   "metadata": {},
   "outputs": [],
   "source": [
    "#en17week.columns[100:108]"
   ]
  },
  {
   "cell_type": "code",
   "execution_count": 19,
   "metadata": {},
   "outputs": [
    {
     "data": {
      "text/plain": [
       "(269, 108)"
      ]
     },
     "execution_count": 19,
     "metadata": {},
     "output_type": "execute_result"
    }
   ],
   "source": [
    "en17week.shape"
   ]
  },
  {
   "cell_type": "code",
   "execution_count": 20,
   "metadata": {},
   "outputs": [],
   "source": [
    "#objective: define columns \n",
    "COLUMNS_META = [\n",
    "                'nlc', \n",
    "                ' Station', \n",
    "                ' Date', \n",
    "                ' Note',\n",
    "                ' Total', \n",
    "                'Early', 'AM Peak',\n",
    "                'Inter peak', \n",
    "                'PM Peak',\n",
    "                'Evening', \n",
    "                'Late' \n",
    "            ]\n",
    "\n",
    "COLUMNS_HOURS = [\n",
    "        '0200-0215','0215-0230',\n",
    "       '0230-0245', '0245-0300', '0300-0315', '0315-0330', '0330-0345',\n",
    "       '0345-0400', '0400-0415', '0415-0430', '0430-0445', '0445-0500',\n",
    "       '0500-0515', '0515-0530', '0530-0545', '0545-0600', '0600-0615',\n",
    "       '0615-0630', '0630-0645', '0645-0700', '0700-0715', '0715-0730',\n",
    "       '0730-0745', '0745-0800', '0800-0815', '0815-0830', '0830-0845',\n",
    "       '0845-0900', '0900-0915', '0915-0930', '0930-0945', '0945-1000',\n",
    "       '1000-1015', '1015-1030', '1030-1045', '1045-1100', '1100-1115',\n",
    "       '1115-1130', '1130-1145', '1145-1200', '1200-1215', '1215-1230',\n",
    "       '1230-1245', '1245-1300', '1300-1315', '1315-1330', '1330-1345',\n",
    "       '1345-1400', '1400-1415', '1415-1430', '1430-1445', '1445-1500',\n",
    "       '1500-1515', '1515-1530', '1530-1545', '1545-1600', '1600-1615',\n",
    "       '1615-1630', '1630-1645', '1645-1700', '1700-1715', '1715-1730',\n",
    "       '1730-1745', '1745-1800', '1800-1815', '1815-1830', '1830-1845',\n",
    "       '1845-1900', '1900-1915', '1915-1930', '1930-1945', '1945-2000',\n",
    "       '2000-2015', '2015-2030', '2030-2045', '2045-2100', '2100-2115',\n",
    "       '2115-2130', '2130-2145', '2145-2200', '2200-2215', '2215-2230',\n",
    "       '2230-2245', '2245-2300', '2300-2315', '2315-2330', '2330-2345',\n",
    "       '2345-2400', '0000-0015', '0015-0030', '0030-0045', '0045-0100',\n",
    "       '0100-0115', '0115-0130', '0130-0145', '0145-0200']\n",
    "\n",
    "COLUMNS_ALL = COLUMNS_META + COLUMNS_HOURS"
   ]
  },
  {
   "cell_type": "code",
   "execution_count": 7,
   "metadata": {},
   "outputs": [],
   "source": [
    "time_categorical =  [\n",
    "                        'Early',\n",
    "                        'AM Peak',\n",
    "                        'Inter peak', \n",
    "                        'PM Peak',\n",
    "                        'Evening', \n",
    "                        'Late'\n",
    "]"
   ]
  },
  {
   "cell_type": "code",
   "execution_count": 21,
   "metadata": {},
   "outputs": [],
   "source": [
    "# entrance\n",
    "en17week_station =  en17week[[' Station']+COLUMNS_HOURS+ time_categorical]\n",
    "\n",
    "#Exit\n",
    "ext17week_station =  ext17week[[' Station']+COLUMNS_HOURS+ time_categorical]"
   ]
  },
  {
   "cell_type": "code",
   "execution_count": 22,
   "metadata": {},
   "outputs": [],
   "source": [
    "# ENTRANCE for brixton, stockwell, vauxhall\n",
    "vauxhall_ent = en17week_station[en17week_station[' Station'] == 'Vauxhall']\n",
    "brixton_ent = en17week_station[en17week_station[' Station'] == 'Brixton']\n",
    "stockwell_ent = en17week_station[en17week_station[' Station'] == 'Stockwell']"
   ]
  },
  {
   "cell_type": "code",
   "execution_count": 23,
   "metadata": {},
   "outputs": [],
   "source": [
    "main_ent = en17week_station[en17week_station[' Station'].isin(['Brixton','Stockwell','Vauxhall'])]\n",
    "#main_ent.transpose()"
   ]
  },
  {
   "cell_type": "code",
   "execution_count": 24,
   "metadata": {},
   "outputs": [
    {
     "data": {
      "text/html": [
       "<div>\n",
       "<style scoped>\n",
       "    .dataframe tbody tr th:only-of-type {\n",
       "        vertical-align: middle;\n",
       "    }\n",
       "\n",
       "    .dataframe tbody tr th {\n",
       "        vertical-align: top;\n",
       "    }\n",
       "\n",
       "    .dataframe thead th {\n",
       "        text-align: right;\n",
       "    }\n",
       "</style>\n",
       "<table border=\"1\" class=\"dataframe\">\n",
       "  <thead>\n",
       "    <tr style=\"text-align: right;\">\n",
       "      <th></th>\n",
       "      <th>Early</th>\n",
       "      <th>AM Peak</th>\n",
       "      <th>Inter peak</th>\n",
       "      <th>PM Peak</th>\n",
       "      <th>Evening</th>\n",
       "      <th>Late</th>\n",
       "    </tr>\n",
       "  </thead>\n",
       "  <tbody>\n",
       "    <tr>\n",
       "      <th>238</th>\n",
       "      <td>1587.0</td>\n",
       "      <td>16279.0</td>\n",
       "      <td>12144.0</td>\n",
       "      <td>14905.0</td>\n",
       "      <td>4277.0</td>\n",
       "      <td>1580.0</td>\n",
       "    </tr>\n",
       "  </tbody>\n",
       "</table>\n",
       "</div>"
      ],
      "text/plain": [
       "      Early  AM Peak  Inter peak  PM Peak  Evening    Late\n",
       "238  1587.0  16279.0     12144.0  14905.0   4277.0  1580.0"
      ]
     },
     "execution_count": 24,
     "metadata": {},
     "output_type": "execute_result"
    }
   ],
   "source": [
    "vauxhall_ent[time_categorical]"
   ]
  },
  {
   "cell_type": "code",
   "execution_count": 25,
   "metadata": {},
   "outputs": [],
   "source": [
    "# handle the column feature\n",
    "def break_down(vauxhall_ent):\n",
    "    '''\n",
    "    Description:\n",
    "    \n",
    "    '''\n",
    "    EARLY = COLUMNS_HOURS[0:20]\n",
    "    #print(EARLY[0])\n",
    "    #print(EARLY[-1])\n",
    "    #print('\\tEarly : {}\\n'.format(vauxhall_ent[EARLY].sum(axis=1)))\n",
    "    tmp = np.repeat('Early',len(EARLY)) \n",
    "    EARLY = list(zip(tmp,EARLY))\n",
    "\n",
    "    AM_Peak = COLUMNS_HOURS[20:32]\n",
    "    #print(AM_Peak[0])\n",
    "    #print(AM_Peak[-1])\n",
    "    #print('\\tAM_Peak: {}\\n'.format(vauxhall_ent[AM_Peak].sum(axis=1)))\n",
    "\n",
    "    tmp = np.repeat('AM Peak',len(AM_Peak)) \n",
    "    AM_Peak = list(zip(tmp,AM_Peak))\n",
    "\n",
    "    INTER_Peak = COLUMNS_HOURS[32:56]\n",
    "    #print(INTER_Peak[0])\n",
    "    #print(INTER_Peak[-1])\n",
    "    #print('\\t INTER_Peak: {}\\n'.format(vauxhall_ent[INTER_Peak].sum(axis=1)))\n",
    "    tmp = np.repeat('Inter peak',len(INTER_Peak)) \n",
    "    INTER_Peak = list(zip(tmp,INTER_Peak))\n",
    "\n",
    "    PM_Peak = COLUMNS_HOURS[56:68]\n",
    "    #print(PM_Peak[0])\n",
    "    #print(PM_Peak[-1])\n",
    "    #print('\\t PM_Peak: {}\\n'.format(vauxhall_ent[PM_Peak].sum(axis=1)))\n",
    "    tmp = np.repeat('PM Peak',len(PM_Peak)) \n",
    "    PM_Peak = list(zip(tmp,PM_Peak))\n",
    "\n",
    "\n",
    "    EVENING = COLUMNS_HOURS[68:80]\n",
    "    #print(EVENING[0])\n",
    "    #print(EVENING[-1])\n",
    "    #print('\\tEVENING: {}\\n'.format(vauxhall_ent[EVENING].sum(axis=1)))\n",
    "    tmp = np.repeat('Evening',len(EVENING)) \n",
    "    EVENING = list(zip(tmp,EVENING))\n",
    "\n",
    "\n",
    "    LATE = COLUMNS_HOURS[80:96]\n",
    "    #print(LATE[0])\n",
    "    #print(LATE[-1])\n",
    "    #print('\\tLATE: {}\\n'.format(vauxhall_ent[LATE].sum(axis=1)))\n",
    "    tmp = np.repeat('Late',len(LATE )) \n",
    "    LATE  = list(zip(tmp,LATE))\n",
    "    \n",
    "    factors = [EARLY+\n",
    "            AM_Peak+\n",
    "            INTER_Peak+\n",
    "            PM_Peak+\n",
    "            EVENING+\n",
    "            LATE\n",
    "            ] \n",
    "    return factors[0]\n"
   ]
  },
  {
   "cell_type": "code",
   "execution_count": 26,
   "metadata": {},
   "outputs": [],
   "source": [
    "#vauxhall data \n",
    "vauxhall_ent = en17week_station[en17week_station[' Station'] == 'Vauxhall']\n",
    "vauxhall_ext = ext17week_station[en17week_station[' Station'] == 'Vauxhall']\n",
    "\n",
    "#brixton data\n",
    "brixton_ent = en17week_station[en17week_station[' Station'] == 'Brixton']\n",
    "brixton_ext = ext17week_station[en17week_station[' Station'] == 'Brixton']\n",
    "\n",
    "\n",
    "#Stockwell data \n",
    "stockwell_ent = en17week_station[en17week_station[' Station'] == 'Stockwell']\n",
    "stockwell_ext = ext17week_station[en17week_station[' Station'] == 'Stockwell']"
   ]
  },
  {
   "cell_type": "code",
   "execution_count": 27,
   "metadata": {},
   "outputs": [],
   "source": [
    "# generate data to be plot \n",
    "factors_ent = break_down(vauxhall_ent)\n",
    "factors_ext = break_down(vauxhall_ext)"
   ]
  },
  {
   "cell_type": "markdown",
   "metadata": {},
   "source": [
    "## Visualizing data\n",
    "\n",
    "Now the data is ready we can focus on the ploting."
   ]
  },
  {
   "cell_type": "code",
   "execution_count": 43,
   "metadata": {},
   "outputs": [
    {
     "data": {
      "text/html": [
       "\n",
       "    <div class=\"bk-root\">\n",
       "        <a href=\"https://bokeh.org\" target=\"_blank\" class=\"bk-logo bk-logo-small bk-logo-notebook\"></a>\n",
       "        <span id=\"3030\">Loading BokehJS ...</span>\n",
       "    </div>"
      ]
     },
     "metadata": {},
     "output_type": "display_data"
    },
    {
     "data": {
      "application/javascript": [
       "\n",
       "(function(root) {\n",
       "  function now() {\n",
       "    return new Date();\n",
       "  }\n",
       "\n",
       "  var force = true;\n",
       "\n",
       "  if (typeof root._bokeh_onload_callbacks === \"undefined\" || force === true) {\n",
       "    root._bokeh_onload_callbacks = [];\n",
       "    root._bokeh_is_loading = undefined;\n",
       "  }\n",
       "\n",
       "  var JS_MIME_TYPE = 'application/javascript';\n",
       "  var HTML_MIME_TYPE = 'text/html';\n",
       "  var EXEC_MIME_TYPE = 'application/vnd.bokehjs_exec.v0+json';\n",
       "  var CLASS_NAME = 'output_bokeh rendered_html';\n",
       "\n",
       "  /**\n",
       "   * Render data to the DOM node\n",
       "   */\n",
       "  function render(props, node) {\n",
       "    var script = document.createElement(\"script\");\n",
       "    node.appendChild(script);\n",
       "  }\n",
       "\n",
       "  /**\n",
       "   * Handle when an output is cleared or removed\n",
       "   */\n",
       "  function handleClearOutput(event, handle) {\n",
       "    var cell = handle.cell;\n",
       "\n",
       "    var id = cell.output_area._bokeh_element_id;\n",
       "    var server_id = cell.output_area._bokeh_server_id;\n",
       "    // Clean up Bokeh references\n",
       "    if (id != null && id in Bokeh.index) {\n",
       "      Bokeh.index[id].model.document.clear();\n",
       "      delete Bokeh.index[id];\n",
       "    }\n",
       "\n",
       "    if (server_id !== undefined) {\n",
       "      // Clean up Bokeh references\n",
       "      var cmd = \"from bokeh.io.state import curstate; print(curstate().uuid_to_server['\" + server_id + \"'].get_sessions()[0].document.roots[0]._id)\";\n",
       "      cell.notebook.kernel.execute(cmd, {\n",
       "        iopub: {\n",
       "          output: function(msg) {\n",
       "            var id = msg.content.text.trim();\n",
       "            if (id in Bokeh.index) {\n",
       "              Bokeh.index[id].model.document.clear();\n",
       "              delete Bokeh.index[id];\n",
       "            }\n",
       "          }\n",
       "        }\n",
       "      });\n",
       "      // Destroy server and session\n",
       "      var cmd = \"import bokeh.io.notebook as ion; ion.destroy_server('\" + server_id + \"')\";\n",
       "      cell.notebook.kernel.execute(cmd);\n",
       "    }\n",
       "  }\n",
       "\n",
       "  /**\n",
       "   * Handle when a new output is added\n",
       "   */\n",
       "  function handleAddOutput(event, handle) {\n",
       "    var output_area = handle.output_area;\n",
       "    var output = handle.output;\n",
       "\n",
       "    // limit handleAddOutput to display_data with EXEC_MIME_TYPE content only\n",
       "    if ((output.output_type != \"display_data\") || (!output.data.hasOwnProperty(EXEC_MIME_TYPE))) {\n",
       "      return\n",
       "    }\n",
       "\n",
       "    var toinsert = output_area.element.find(\".\" + CLASS_NAME.split(' ')[0]);\n",
       "\n",
       "    if (output.metadata[EXEC_MIME_TYPE][\"id\"] !== undefined) {\n",
       "      toinsert[toinsert.length - 1].firstChild.textContent = output.data[JS_MIME_TYPE];\n",
       "      // store reference to embed id on output_area\n",
       "      output_area._bokeh_element_id = output.metadata[EXEC_MIME_TYPE][\"id\"];\n",
       "    }\n",
       "    if (output.metadata[EXEC_MIME_TYPE][\"server_id\"] !== undefined) {\n",
       "      var bk_div = document.createElement(\"div\");\n",
       "      bk_div.innerHTML = output.data[HTML_MIME_TYPE];\n",
       "      var script_attrs = bk_div.children[0].attributes;\n",
       "      for (var i = 0; i < script_attrs.length; i++) {\n",
       "        toinsert[toinsert.length - 1].firstChild.setAttribute(script_attrs[i].name, script_attrs[i].value);\n",
       "        toinsert[toinsert.length - 1].firstChild.textContent = bk_div.children[0].textContent\n",
       "      }\n",
       "      // store reference to server id on output_area\n",
       "      output_area._bokeh_server_id = output.metadata[EXEC_MIME_TYPE][\"server_id\"];\n",
       "    }\n",
       "  }\n",
       "\n",
       "  function register_renderer(events, OutputArea) {\n",
       "\n",
       "    function append_mime(data, metadata, element) {\n",
       "      // create a DOM node to render to\n",
       "      var toinsert = this.create_output_subarea(\n",
       "        metadata,\n",
       "        CLASS_NAME,\n",
       "        EXEC_MIME_TYPE\n",
       "      );\n",
       "      this.keyboard_manager.register_events(toinsert);\n",
       "      // Render to node\n",
       "      var props = {data: data, metadata: metadata[EXEC_MIME_TYPE]};\n",
       "      render(props, toinsert[toinsert.length - 1]);\n",
       "      element.append(toinsert);\n",
       "      return toinsert\n",
       "    }\n",
       "\n",
       "    /* Handle when an output is cleared or removed */\n",
       "    events.on('clear_output.CodeCell', handleClearOutput);\n",
       "    events.on('delete.Cell', handleClearOutput);\n",
       "\n",
       "    /* Handle when a new output is added */\n",
       "    events.on('output_added.OutputArea', handleAddOutput);\n",
       "\n",
       "    /**\n",
       "     * Register the mime type and append_mime function with output_area\n",
       "     */\n",
       "    OutputArea.prototype.register_mime_type(EXEC_MIME_TYPE, append_mime, {\n",
       "      /* Is output safe? */\n",
       "      safe: true,\n",
       "      /* Index of renderer in `output_area.display_order` */\n",
       "      index: 0\n",
       "    });\n",
       "  }\n",
       "\n",
       "  // register the mime type if in Jupyter Notebook environment and previously unregistered\n",
       "  if (root.Jupyter !== undefined) {\n",
       "    var events = require('base/js/events');\n",
       "    var OutputArea = require('notebook/js/outputarea').OutputArea;\n",
       "\n",
       "    if (OutputArea.prototype.mime_types().indexOf(EXEC_MIME_TYPE) == -1) {\n",
       "      register_renderer(events, OutputArea);\n",
       "    }\n",
       "  }\n",
       "\n",
       "  \n",
       "  if (typeof (root._bokeh_timeout) === \"undefined\" || force === true) {\n",
       "    root._bokeh_timeout = Date.now() + 5000;\n",
       "    root._bokeh_failed_load = false;\n",
       "  }\n",
       "\n",
       "  var NB_LOAD_WARNING = {'data': {'text/html':\n",
       "     \"<div style='background-color: #fdd'>\\n\"+\n",
       "     \"<p>\\n\"+\n",
       "     \"BokehJS does not appear to have successfully loaded. If loading BokehJS from CDN, this \\n\"+\n",
       "     \"may be due to a slow or bad network connection. Possible fixes:\\n\"+\n",
       "     \"</p>\\n\"+\n",
       "     \"<ul>\\n\"+\n",
       "     \"<li>re-rerun `output_notebook()` to attempt to load from CDN again, or</li>\\n\"+\n",
       "     \"<li>use INLINE resources instead, as so:</li>\\n\"+\n",
       "     \"</ul>\\n\"+\n",
       "     \"<code>\\n\"+\n",
       "     \"from bokeh.resources import INLINE\\n\"+\n",
       "     \"output_notebook(resources=INLINE)\\n\"+\n",
       "     \"</code>\\n\"+\n",
       "     \"</div>\"}};\n",
       "\n",
       "  function display_loaded() {\n",
       "    var el = document.getElementById(\"3030\");\n",
       "    if (el != null) {\n",
       "      el.textContent = \"BokehJS is loading...\";\n",
       "    }\n",
       "    if (root.Bokeh !== undefined) {\n",
       "      if (el != null) {\n",
       "        el.textContent = \"BokehJS \" + root.Bokeh.version + \" successfully loaded.\";\n",
       "      }\n",
       "    } else if (Date.now() < root._bokeh_timeout) {\n",
       "      setTimeout(display_loaded, 100)\n",
       "    }\n",
       "  }\n",
       "\n",
       "\n",
       "  function run_callbacks() {\n",
       "    try {\n",
       "      root._bokeh_onload_callbacks.forEach(function(callback) {\n",
       "        if (callback != null)\n",
       "          callback();\n",
       "      });\n",
       "    } finally {\n",
       "      delete root._bokeh_onload_callbacks\n",
       "    }\n",
       "    console.debug(\"Bokeh: all callbacks have finished\");\n",
       "  }\n",
       "\n",
       "  function load_libs(css_urls, js_urls, callback) {\n",
       "    if (css_urls == null) css_urls = [];\n",
       "    if (js_urls == null) js_urls = [];\n",
       "\n",
       "    root._bokeh_onload_callbacks.push(callback);\n",
       "    if (root._bokeh_is_loading > 0) {\n",
       "      console.debug(\"Bokeh: BokehJS is being loaded, scheduling callback at\", now());\n",
       "      return null;\n",
       "    }\n",
       "    if (js_urls == null || js_urls.length === 0) {\n",
       "      run_callbacks();\n",
       "      return null;\n",
       "    }\n",
       "    console.debug(\"Bokeh: BokehJS not loaded, scheduling load and callback at\", now());\n",
       "    root._bokeh_is_loading = css_urls.length + js_urls.length;\n",
       "\n",
       "    function on_load() {\n",
       "      root._bokeh_is_loading--;\n",
       "      if (root._bokeh_is_loading === 0) {\n",
       "        console.debug(\"Bokeh: all BokehJS libraries/stylesheets loaded\");\n",
       "        run_callbacks()\n",
       "      }\n",
       "    }\n",
       "\n",
       "    function on_error() {\n",
       "      console.error(\"failed to load \" + url);\n",
       "    }\n",
       "\n",
       "    for (var i = 0; i < css_urls.length; i++) {\n",
       "      var url = css_urls[i];\n",
       "      const element = document.createElement(\"link\");\n",
       "      element.onload = on_load;\n",
       "      element.onerror = on_error;\n",
       "      element.rel = \"stylesheet\";\n",
       "      element.type = \"text/css\";\n",
       "      element.href = url;\n",
       "      console.debug(\"Bokeh: injecting link tag for BokehJS stylesheet: \", url);\n",
       "      document.body.appendChild(element);\n",
       "    }\n",
       "\n",
       "    const hashes = {\"https://cdn.bokeh.org/bokeh/release/bokeh-2.0.1.min.js\": \"JpP8FXbgAZLkfur7LiK3j9AGBhHNIvF742meBJrjO2ShJDhCG2I1uVvW+0DUtrmc\", \"https://cdn.bokeh.org/bokeh/release/bokeh-widgets-2.0.1.min.js\": \"xZlADit0Q04ISQEdKg2k3L4W9AwQBAuDs9nJL9fM/WwzL1tEU9VPNezOFX0nLEAz\", \"https://cdn.bokeh.org/bokeh/release/bokeh-tables-2.0.1.min.js\": \"4BuPRZkdMKSnj3zoxiNrQ86XgNw0rYmBOxe7nshquXwwcauupgBF2DHLVG1WuZlV\", \"https://cdn.bokeh.org/bokeh/release/bokeh-gl-2.0.1.min.js\": \"Dv1SQ87hmDqK6S5OhBf0bCuwAEvL5QYL0PuR/F1SPVhCS/r/abjkbpKDYL2zeM19\"};\n",
       "\n",
       "    for (var i = 0; i < js_urls.length; i++) {\n",
       "      var url = js_urls[i];\n",
       "      var element = document.createElement('script');\n",
       "      element.onload = on_load;\n",
       "      element.onerror = on_error;\n",
       "      element.async = false;\n",
       "      element.src = url;\n",
       "      if (url in hashes) {\n",
       "        element.crossOrigin = \"anonymous\";\n",
       "        element.integrity = \"sha384-\" + hashes[url];\n",
       "      }\n",
       "      console.debug(\"Bokeh: injecting script tag for BokehJS library: \", url);\n",
       "      document.head.appendChild(element);\n",
       "    }\n",
       "  };var element = document.getElementById(\"3030\");\n",
       "  if (element == null) {\n",
       "    console.error(\"Bokeh: ERROR: autoload.js configured with elementid '3030' but no matching script tag was found. \")\n",
       "    return false;\n",
       "  }\n",
       "\n",
       "  function inject_raw_css(css) {\n",
       "    const element = document.createElement(\"style\");\n",
       "    element.appendChild(document.createTextNode(css));\n",
       "    document.body.appendChild(element);\n",
       "  }\n",
       "\n",
       "  \n",
       "  var js_urls = [\"https://cdn.bokeh.org/bokeh/release/bokeh-2.0.1.min.js\", \"https://cdn.bokeh.org/bokeh/release/bokeh-widgets-2.0.1.min.js\", \"https://cdn.bokeh.org/bokeh/release/bokeh-tables-2.0.1.min.js\", \"https://cdn.bokeh.org/bokeh/release/bokeh-gl-2.0.1.min.js\"];\n",
       "  var css_urls = [];\n",
       "  \n",
       "\n",
       "  var inline_js = [\n",
       "    function(Bokeh) {\n",
       "      Bokeh.set_log_level(\"info\");\n",
       "    },\n",
       "    function(Bokeh) {\n",
       "    \n",
       "    \n",
       "    }\n",
       "  ];\n",
       "\n",
       "  function run_inline_js() {\n",
       "    \n",
       "    if (root.Bokeh !== undefined || force === true) {\n",
       "      \n",
       "    for (var i = 0; i < inline_js.length; i++) {\n",
       "      inline_js[i].call(root, root.Bokeh);\n",
       "    }\n",
       "    if (force === true) {\n",
       "        display_loaded();\n",
       "      }} else if (Date.now() < root._bokeh_timeout) {\n",
       "      setTimeout(run_inline_js, 100);\n",
       "    } else if (!root._bokeh_failed_load) {\n",
       "      console.log(\"Bokeh: BokehJS failed to load within specified timeout.\");\n",
       "      root._bokeh_failed_load = true;\n",
       "    } else if (force !== true) {\n",
       "      var cell = $(document.getElementById(\"3030\")).parents('.cell').data().cell;\n",
       "      cell.output_area.append_execute_result(NB_LOAD_WARNING)\n",
       "    }\n",
       "\n",
       "  }\n",
       "\n",
       "  if (root._bokeh_is_loading === 0) {\n",
       "    console.debug(\"Bokeh: BokehJS loaded, going straight to plotting\");\n",
       "    run_inline_js();\n",
       "  } else {\n",
       "    load_libs(css_urls, js_urls, function() {\n",
       "      console.debug(\"Bokeh: BokehJS plotting callback run at\", now());\n",
       "      run_inline_js();\n",
       "    });\n",
       "  }\n",
       "}(window));"
      ],
      "application/vnd.bokehjs_load.v0+json": "\n(function(root) {\n  function now() {\n    return new Date();\n  }\n\n  var force = true;\n\n  if (typeof root._bokeh_onload_callbacks === \"undefined\" || force === true) {\n    root._bokeh_onload_callbacks = [];\n    root._bokeh_is_loading = undefined;\n  }\n\n  \n\n  \n  if (typeof (root._bokeh_timeout) === \"undefined\" || force === true) {\n    root._bokeh_timeout = Date.now() + 5000;\n    root._bokeh_failed_load = false;\n  }\n\n  var NB_LOAD_WARNING = {'data': {'text/html':\n     \"<div style='background-color: #fdd'>\\n\"+\n     \"<p>\\n\"+\n     \"BokehJS does not appear to have successfully loaded. If loading BokehJS from CDN, this \\n\"+\n     \"may be due to a slow or bad network connection. Possible fixes:\\n\"+\n     \"</p>\\n\"+\n     \"<ul>\\n\"+\n     \"<li>re-rerun `output_notebook()` to attempt to load from CDN again, or</li>\\n\"+\n     \"<li>use INLINE resources instead, as so:</li>\\n\"+\n     \"</ul>\\n\"+\n     \"<code>\\n\"+\n     \"from bokeh.resources import INLINE\\n\"+\n     \"output_notebook(resources=INLINE)\\n\"+\n     \"</code>\\n\"+\n     \"</div>\"}};\n\n  function display_loaded() {\n    var el = document.getElementById(\"3030\");\n    if (el != null) {\n      el.textContent = \"BokehJS is loading...\";\n    }\n    if (root.Bokeh !== undefined) {\n      if (el != null) {\n        el.textContent = \"BokehJS \" + root.Bokeh.version + \" successfully loaded.\";\n      }\n    } else if (Date.now() < root._bokeh_timeout) {\n      setTimeout(display_loaded, 100)\n    }\n  }\n\n\n  function run_callbacks() {\n    try {\n      root._bokeh_onload_callbacks.forEach(function(callback) {\n        if (callback != null)\n          callback();\n      });\n    } finally {\n      delete root._bokeh_onload_callbacks\n    }\n    console.debug(\"Bokeh: all callbacks have finished\");\n  }\n\n  function load_libs(css_urls, js_urls, callback) {\n    if (css_urls == null) css_urls = [];\n    if (js_urls == null) js_urls = [];\n\n    root._bokeh_onload_callbacks.push(callback);\n    if (root._bokeh_is_loading > 0) {\n      console.debug(\"Bokeh: BokehJS is being loaded, scheduling callback at\", now());\n      return null;\n    }\n    if (js_urls == null || js_urls.length === 0) {\n      run_callbacks();\n      return null;\n    }\n    console.debug(\"Bokeh: BokehJS not loaded, scheduling load and callback at\", now());\n    root._bokeh_is_loading = css_urls.length + js_urls.length;\n\n    function on_load() {\n      root._bokeh_is_loading--;\n      if (root._bokeh_is_loading === 0) {\n        console.debug(\"Bokeh: all BokehJS libraries/stylesheets loaded\");\n        run_callbacks()\n      }\n    }\n\n    function on_error() {\n      console.error(\"failed to load \" + url);\n    }\n\n    for (var i = 0; i < css_urls.length; i++) {\n      var url = css_urls[i];\n      const element = document.createElement(\"link\");\n      element.onload = on_load;\n      element.onerror = on_error;\n      element.rel = \"stylesheet\";\n      element.type = \"text/css\";\n      element.href = url;\n      console.debug(\"Bokeh: injecting link tag for BokehJS stylesheet: \", url);\n      document.body.appendChild(element);\n    }\n\n    const hashes = {\"https://cdn.bokeh.org/bokeh/release/bokeh-2.0.1.min.js\": \"JpP8FXbgAZLkfur7LiK3j9AGBhHNIvF742meBJrjO2ShJDhCG2I1uVvW+0DUtrmc\", \"https://cdn.bokeh.org/bokeh/release/bokeh-widgets-2.0.1.min.js\": \"xZlADit0Q04ISQEdKg2k3L4W9AwQBAuDs9nJL9fM/WwzL1tEU9VPNezOFX0nLEAz\", \"https://cdn.bokeh.org/bokeh/release/bokeh-tables-2.0.1.min.js\": \"4BuPRZkdMKSnj3zoxiNrQ86XgNw0rYmBOxe7nshquXwwcauupgBF2DHLVG1WuZlV\", \"https://cdn.bokeh.org/bokeh/release/bokeh-gl-2.0.1.min.js\": \"Dv1SQ87hmDqK6S5OhBf0bCuwAEvL5QYL0PuR/F1SPVhCS/r/abjkbpKDYL2zeM19\"};\n\n    for (var i = 0; i < js_urls.length; i++) {\n      var url = js_urls[i];\n      var element = document.createElement('script');\n      element.onload = on_load;\n      element.onerror = on_error;\n      element.async = false;\n      element.src = url;\n      if (url in hashes) {\n        element.crossOrigin = \"anonymous\";\n        element.integrity = \"sha384-\" + hashes[url];\n      }\n      console.debug(\"Bokeh: injecting script tag for BokehJS library: \", url);\n      document.head.appendChild(element);\n    }\n  };var element = document.getElementById(\"3030\");\n  if (element == null) {\n    console.error(\"Bokeh: ERROR: autoload.js configured with elementid '3030' but no matching script tag was found. \")\n    return false;\n  }\n\n  function inject_raw_css(css) {\n    const element = document.createElement(\"style\");\n    element.appendChild(document.createTextNode(css));\n    document.body.appendChild(element);\n  }\n\n  \n  var js_urls = [\"https://cdn.bokeh.org/bokeh/release/bokeh-2.0.1.min.js\", \"https://cdn.bokeh.org/bokeh/release/bokeh-widgets-2.0.1.min.js\", \"https://cdn.bokeh.org/bokeh/release/bokeh-tables-2.0.1.min.js\", \"https://cdn.bokeh.org/bokeh/release/bokeh-gl-2.0.1.min.js\"];\n  var css_urls = [];\n  \n\n  var inline_js = [\n    function(Bokeh) {\n      Bokeh.set_log_level(\"info\");\n    },\n    function(Bokeh) {\n    \n    \n    }\n  ];\n\n  function run_inline_js() {\n    \n    if (root.Bokeh !== undefined || force === true) {\n      \n    for (var i = 0; i < inline_js.length; i++) {\n      inline_js[i].call(root, root.Bokeh);\n    }\n    if (force === true) {\n        display_loaded();\n      }} else if (Date.now() < root._bokeh_timeout) {\n      setTimeout(run_inline_js, 100);\n    } else if (!root._bokeh_failed_load) {\n      console.log(\"Bokeh: BokehJS failed to load within specified timeout.\");\n      root._bokeh_failed_load = true;\n    } else if (force !== true) {\n      var cell = $(document.getElementById(\"3030\")).parents('.cell').data().cell;\n      cell.output_area.append_execute_result(NB_LOAD_WARNING)\n    }\n\n  }\n\n  if (root._bokeh_is_loading === 0) {\n    console.debug(\"Bokeh: BokehJS loaded, going straight to plotting\");\n    run_inline_js();\n  } else {\n    load_libs(css_urls, js_urls, function() {\n      console.debug(\"Bokeh: BokehJS plotting callback run at\", now());\n      run_inline_js();\n    });\n  }\n}(window));"
     },
     "metadata": {},
     "output_type": "display_data"
    }
   ],
   "source": [
    "from bokeh.models import NumeralTickFormatter\n",
    "from bokeh.models import LinearAxis, Range1d\n",
    "from bokeh.io import show, output_notebook\n",
    "from bokeh.models import CategoricalColorMapper, ColumnDataSource, FactorRange\n",
    "from bokeh.plotting import figure\n",
    "from bokeh.models import LinearAxis, Range1d\n",
    "from bokeh.models import NumeralTickFormatter\n",
    "from bokeh.transform import dodge\n",
    "\n",
    "from selenium import webdriver\n",
    "\n",
    "\n",
    "# save\n",
    "from bokeh.io import export_png\n",
    "from bokeh.io import export_svgs\n",
    "output_notebook()"
   ]
  },
  {
   "cell_type": "code",
   "execution_count": 19,
   "metadata": {},
   "outputs": [],
   "source": [
    "# tim_cat_value = []\n",
    "# for k,l in zip([len(EARLY),len(AM_Peak),len(INTER_Peak),len(PM_Peak),len(EVENING),len(LATE)],time_cat_value):\n",
    "#     tim_cat_value.append(l/k)\n",
    "    \n",
    "# tim_cat_value"
   ]
  },
  {
   "cell_type": "code",
   "execution_count": 29,
   "metadata": {},
   "outputs": [],
   "source": [
    "time_categorical = ['Early', 'AM Peak', 'Inter peak', 'PM Peak', 'Evening', 'Late']\n",
    "time_cat_value = vauxhall_ent[time_categorical].values[0]\n",
    "#time_cat_value  = time_cat_value  / [len(EARLY),len(AM_Peak),len(INTER_Peak),len(PM_Peak),len(EVENING),len(LATE)]\n"
   ]
  },
  {
   "cell_type": "code",
   "execution_count": 30,
   "metadata": {},
   "outputs": [],
   "source": [
    "# Entrance\n",
    "y_vaux_ent = vauxhall_ent[COLUMNS_HOURS].values[0]\n",
    "y_brix_ent = brixton_ent[COLUMNS_HOURS].values[0]\n",
    "y_stock_ent = stockwell_ent[COLUMNS_HOURS].values[0]\n",
    "\n",
    "#Exit\n",
    "y_vaux_ext = vauxhall_ext[COLUMNS_HOURS].values[0]\n",
    "y_brix_ext = brixton_ext[COLUMNS_HOURS].values[0]\n",
    "y_stock_ext = stockwell_ext[COLUMNS_HOURS].values[0]"
   ]
  },
  {
   "cell_type": "markdown",
   "metadata": {},
   "source": [
    "### Line plot\n",
    "Visualizing the volume of user using a line plot."
   ]
  },
  {
   "cell_type": "code",
   "execution_count": null,
   "metadata": {},
   "outputs": [],
   "source": []
  },
  {
   "cell_type": "code",
   "execution_count": 46,
   "metadata": {},
   "outputs": [],
   "source": [
    "# help(export_png)"
   ]
  },
  {
   "cell_type": "code",
   "execution_count": 52,
   "metadata": {},
   "outputs": [
    {
     "name": "stdout",
     "output_type": "stream",
     "text": [
      "Help on function export_png in module bokeh.io.export:\n",
      "\n",
      "export_png(obj: Union[bokeh.models.layouts.LayoutDOM, bokeh.document.document.Document], *, filename: Union[str, NoneType] = None, width: Union[int, NoneType] = None, height: Union[int, NoneType] = None, webdriver: 'Optional[WebDriver]' = None, timeout: int = 5) -> str\n",
      "    Export the ``LayoutDOM`` object or document as a PNG.\n",
      "    \n",
      "    If the filename is not given, it is derived from the script name (e.g.\n",
      "    ``/foo/myplot.py`` will create ``/foo/myplot.png``)\n",
      "    \n",
      "    Args:\n",
      "        obj (LayoutDOM or Document) : a Layout (Row/Column), Plot or Widget\n",
      "            object or Document to export.\n",
      "    \n",
      "        filename (str, optional) : filename to save document under (default: None)\n",
      "            If None, infer from the filename.\n",
      "    \n",
      "        width (int) : the desired width of the exported layout obj only if\n",
      "            it's a Plot instance. Otherwise the width kwarg is ignored.\n",
      "    \n",
      "        height (int) : the desired height of the exported layout obj only if\n",
      "            it's a Plot instance. Otherwise the height kwarg is ignored.\n",
      "    \n",
      "        webdriver (selenium.webdriver) : a selenium webdriver instance to use\n",
      "            to export the image.\n",
      "    \n",
      "        timeout (int) : the maximum amount of time (in seconds) to wait for\n",
      "            Bokeh to initialize (default: 5) (Added in 1.1.1).\n",
      "    \n",
      "    Returns:\n",
      "        filename (str) : the filename where the static file is saved.\n",
      "    \n",
      "    If you would like to access an Image object directly, rather than save a\n",
      "    file to disk, use the lower-level :func:`~bokeh.io.export.get_screenshot_as_png`\n",
      "    function.\n",
      "    \n",
      "    .. warning::\n",
      "        Responsive sizing_modes may generate layouts with unexpected size and\n",
      "        aspect ratios. It is recommended to use the default ``fixed`` sizing mode.\n",
      "\n"
     ]
    }
   ],
   "source": [
    "help(export_png)"
   ]
  },
  {
   "cell_type": "code",
   "execution_count": 83,
   "metadata": {},
   "outputs": [
    {
     "data": {
      "text/html": [
       "\n",
       "\n",
       "\n",
       "\n",
       "\n",
       "\n",
       "  <div class=\"bk-root\" id=\"6609aea2-24f8-4798-a73c-f40eb1320c03\" data-root-id=\"10325\"></div>\n"
      ]
     },
     "metadata": {},
     "output_type": "display_data"
    },
    {
     "data": {
      "application/javascript": [
       "(function(root) {\n",
       "  function embed_document(root) {\n",
       "    \n",
       "  var docs_json = {\"94aaf6ab-2bd7-40bf-9028-c87bbd530603\":{\"roots\":{\"references\":[{\"attributes\":{\"below\":[{\"id\":\"10335\"}],\"center\":[{\"id\":\"10337\"},{\"id\":\"10341\"},{\"id\":\"10367\"}],\"left\":[{\"id\":\"10338\"}],\"plot_height\":500,\"plot_width\":1200,\"renderers\":[{\"id\":\"10359\"},{\"id\":\"10372\"},{\"id\":\"10386\"}],\"title\":{\"id\":\"10326\"},\"toolbar\":{\"id\":\"10349\"},\"toolbar_location\":null,\"x_range\":{\"id\":\"10324\"},\"x_scale\":{\"id\":\"10331\"},\"y_range\":{\"id\":\"10329\"},\"y_scale\":{\"id\":\"10333\"}},\"id\":\"10325\",\"subtype\":\"Figure\",\"type\":\"Plot\"},{\"attributes\":{\"text\":\"Volume of exit at station\"},\"id\":\"10326\",\"type\":\"Title\"},{\"attributes\":{},\"id\":\"10342\",\"type\":\"PanTool\"},{\"attributes\":{\"label\":{\"value\":\"Stockwell\"},\"renderers\":[{\"id\":\"10386\"}]},\"id\":\"10398\",\"type\":\"LegendItem\"},{\"attributes\":{},\"id\":\"10395\",\"type\":\"UnionRenderers\"},{\"attributes\":{},\"id\":\"10343\",\"type\":\"WheelZoomTool\"},{\"attributes\":{},\"id\":\"10396\",\"type\":\"Selection\"},{\"attributes\":{\"start\":0},\"id\":\"10329\",\"type\":\"DataRange1d\"},{\"attributes\":{},\"id\":\"10347\",\"type\":\"HelpTool\"},{\"attributes\":{\"factors\":[[\"Early\",\"0200-0215\"],[\"Early\",\"0215-0230\"],[\"Early\",\"0230-0245\"],[\"Early\",\"0245-0300\"],[\"Early\",\"0300-0315\"],[\"Early\",\"0315-0330\"],[\"Early\",\"0330-0345\"],[\"Early\",\"0345-0400\"],[\"Early\",\"0400-0415\"],[\"Early\",\"0415-0430\"],[\"Early\",\"0430-0445\"],[\"Early\",\"0445-0500\"],[\"Early\",\"0500-0515\"],[\"Early\",\"0515-0530\"],[\"Early\",\"0530-0545\"],[\"Early\",\"0545-0600\"],[\"Early\",\"0600-0615\"],[\"Early\",\"0615-0630\"],[\"Early\",\"0630-0645\"],[\"Early\",\"0645-0700\"],[\"AM Peak\",\"0700-0715\"],[\"AM Peak\",\"0715-0730\"],[\"AM Peak\",\"0730-0745\"],[\"AM Peak\",\"0745-0800\"],[\"AM Peak\",\"0800-0815\"],[\"AM Peak\",\"0815-0830\"],[\"AM Peak\",\"0830-0845\"],[\"AM Peak\",\"0845-0900\"],[\"AM Peak\",\"0900-0915\"],[\"AM Peak\",\"0915-0930\"],[\"AM Peak\",\"0930-0945\"],[\"AM Peak\",\"0945-1000\"],[\"Inter peak\",\"1000-1015\"],[\"Inter peak\",\"1015-1030\"],[\"Inter peak\",\"1030-1045\"],[\"Inter peak\",\"1045-1100\"],[\"Inter peak\",\"1100-1115\"],[\"Inter peak\",\"1115-1130\"],[\"Inter peak\",\"1130-1145\"],[\"Inter peak\",\"1145-1200\"],[\"Inter peak\",\"1200-1215\"],[\"Inter peak\",\"1215-1230\"],[\"Inter peak\",\"1230-1245\"],[\"Inter peak\",\"1245-1300\"],[\"Inter peak\",\"1300-1315\"],[\"Inter peak\",\"1315-1330\"],[\"Inter peak\",\"1330-1345\"],[\"Inter peak\",\"1345-1400\"],[\"Inter peak\",\"1400-1415\"],[\"Inter peak\",\"1415-1430\"],[\"Inter peak\",\"1430-1445\"],[\"Inter peak\",\"1445-1500\"],[\"Inter peak\",\"1500-1515\"],[\"Inter peak\",\"1515-1530\"],[\"Inter peak\",\"1530-1545\"],[\"Inter peak\",\"1545-1600\"],[\"PM Peak\",\"1600-1615\"],[\"PM Peak\",\"1615-1630\"],[\"PM Peak\",\"1630-1645\"],[\"PM Peak\",\"1645-1700\"],[\"PM Peak\",\"1700-1715\"],[\"PM Peak\",\"1715-1730\"],[\"PM Peak\",\"1730-1745\"],[\"PM Peak\",\"1745-1800\"],[\"PM Peak\",\"1800-1815\"],[\"PM Peak\",\"1815-1830\"],[\"PM Peak\",\"1830-1845\"],[\"PM Peak\",\"1845-1900\"],[\"Evening\",\"1900-1915\"],[\"Evening\",\"1915-1930\"],[\"Evening\",\"1930-1945\"],[\"Evening\",\"1945-2000\"],[\"Evening\",\"2000-2015\"],[\"Evening\",\"2015-2030\"],[\"Evening\",\"2030-2045\"],[\"Evening\",\"2045-2100\"],[\"Evening\",\"2100-2115\"],[\"Evening\",\"2115-2130\"],[\"Evening\",\"2130-2145\"],[\"Evening\",\"2145-2200\"],[\"Late\",\"2200-2215\"],[\"Late\",\"2215-2230\"],[\"Late\",\"2230-2245\"],[\"Late\",\"2245-2300\"],[\"Late\",\"2300-2315\"],[\"Late\",\"2315-2330\"],[\"Late\",\"2330-2345\"],[\"Late\",\"2345-2400\"],[\"Late\",\"0000-0015\"],[\"Late\",\"0015-0030\"],[\"Late\",\"0030-0045\"],[\"Late\",\"0045-0100\"],[\"Late\",\"0100-0115\"],[\"Late\",\"0115-0130\"],[\"Late\",\"0130-0145\"],[\"Late\",\"0145-0200\"]],\"range_padding\":0.1},\"id\":\"10324\",\"type\":\"FactorRange\"},{\"attributes\":{\"active_drag\":\"auto\",\"active_inspect\":\"auto\",\"active_multi\":null,\"active_scroll\":\"auto\",\"active_tap\":\"auto\",\"tools\":[{\"id\":\"10342\"},{\"id\":\"10343\"},{\"id\":\"10344\"},{\"id\":\"10345\"},{\"id\":\"10346\"},{\"id\":\"10347\"}]},\"id\":\"10349\",\"type\":\"Toolbar\"},{\"attributes\":{\"data\":{\"x\":[[\"Early\",\"0200-0215\"],[\"Early\",\"0215-0230\"],[\"Early\",\"0230-0245\"],[\"Early\",\"0245-0300\"],[\"Early\",\"0300-0315\"],[\"Early\",\"0315-0330\"],[\"Early\",\"0330-0345\"],[\"Early\",\"0345-0400\"],[\"Early\",\"0400-0415\"],[\"Early\",\"0415-0430\"],[\"Early\",\"0430-0445\"],[\"Early\",\"0445-0500\"],[\"Early\",\"0500-0515\"],[\"Early\",\"0515-0530\"],[\"Early\",\"0530-0545\"],[\"Early\",\"0545-0600\"],[\"Early\",\"0600-0615\"],[\"Early\",\"0615-0630\"],[\"Early\",\"0630-0645\"],[\"Early\",\"0645-0700\"],[\"AM Peak\",\"0700-0715\"],[\"AM Peak\",\"0715-0730\"],[\"AM Peak\",\"0730-0745\"],[\"AM Peak\",\"0745-0800\"],[\"AM Peak\",\"0800-0815\"],[\"AM Peak\",\"0815-0830\"],[\"AM Peak\",\"0830-0845\"],[\"AM Peak\",\"0845-0900\"],[\"AM Peak\",\"0900-0915\"],[\"AM Peak\",\"0915-0930\"],[\"AM Peak\",\"0930-0945\"],[\"AM Peak\",\"0945-1000\"],[\"Inter peak\",\"1000-1015\"],[\"Inter peak\",\"1015-1030\"],[\"Inter peak\",\"1030-1045\"],[\"Inter peak\",\"1045-1100\"],[\"Inter peak\",\"1100-1115\"],[\"Inter peak\",\"1115-1130\"],[\"Inter peak\",\"1130-1145\"],[\"Inter peak\",\"1145-1200\"],[\"Inter peak\",\"1200-1215\"],[\"Inter peak\",\"1215-1230\"],[\"Inter peak\",\"1230-1245\"],[\"Inter peak\",\"1245-1300\"],[\"Inter peak\",\"1300-1315\"],[\"Inter peak\",\"1315-1330\"],[\"Inter peak\",\"1330-1345\"],[\"Inter peak\",\"1345-1400\"],[\"Inter peak\",\"1400-1415\"],[\"Inter peak\",\"1415-1430\"],[\"Inter peak\",\"1430-1445\"],[\"Inter peak\",\"1445-1500\"],[\"Inter peak\",\"1500-1515\"],[\"Inter peak\",\"1515-1530\"],[\"Inter peak\",\"1530-1545\"],[\"Inter peak\",\"1545-1600\"],[\"PM Peak\",\"1600-1615\"],[\"PM Peak\",\"1615-1630\"],[\"PM Peak\",\"1630-1645\"],[\"PM Peak\",\"1645-1700\"],[\"PM Peak\",\"1700-1715\"],[\"PM Peak\",\"1715-1730\"],[\"PM Peak\",\"1730-1745\"],[\"PM Peak\",\"1745-1800\"],[\"PM Peak\",\"1800-1815\"],[\"PM Peak\",\"1815-1830\"],[\"PM Peak\",\"1830-1845\"],[\"PM Peak\",\"1845-1900\"],[\"Evening\",\"1900-1915\"],[\"Evening\",\"1915-1930\"],[\"Evening\",\"1930-1945\"],[\"Evening\",\"1945-2000\"],[\"Evening\",\"2000-2015\"],[\"Evening\",\"2015-2030\"],[\"Evening\",\"2030-2045\"],[\"Evening\",\"2045-2100\"],[\"Evening\",\"2100-2115\"],[\"Evening\",\"2115-2130\"],[\"Evening\",\"2130-2145\"],[\"Evening\",\"2145-2200\"],[\"Late\",\"2200-2215\"],[\"Late\",\"2215-2230\"],[\"Late\",\"2230-2245\"],[\"Late\",\"2245-2300\"],[\"Late\",\"2300-2315\"],[\"Late\",\"2315-2330\"],[\"Late\",\"2330-2345\"],[\"Late\",\"2345-2400\"],[\"Late\",\"0000-0015\"],[\"Late\",\"0015-0030\"],[\"Late\",\"0030-0045\"],[\"Late\",\"0045-0100\"],[\"Late\",\"0100-0115\"],[\"Late\",\"0115-0130\"],[\"Late\",\"0130-0145\"],[\"Late\",\"0145-0200\"]],\"y\":[0,0,0,0,0,0,0,0,0,0,0,0,12,49,61,93,167,287,401,517,706,901,1132,1285,1585,1861,2010,1853,1653,1383,1096,814,693,638,579,491,457,470,465,455,454,480,477,458,449,465,461,436,438,455,461,471,508,565,611,707,826,934,983,1138,1322,1541,1693,1686,1515,1293,1096,878,722,597,481,399,350,308,277,246,233,227,223,214,214,206,196,178,172,151,136,109,88,54,27,11,12,12,9,5]},\"selected\":{\"id\":\"10380\"},\"selection_policy\":{\"id\":\"10379\"}},\"id\":\"10356\",\"type\":\"ColumnDataSource\"},{\"attributes\":{},\"id\":\"10333\",\"type\":\"LinearScale\"},{\"attributes\":{\"overlay\":{\"id\":\"10348\"}},\"id\":\"10344\",\"type\":\"BoxZoomTool\"},{\"attributes\":{},\"id\":\"10345\",\"type\":\"SaveTool\"},{\"attributes\":{\"axis\":{\"id\":\"10335\"},\"grid_line_color\":null,\"ticker\":null},\"id\":\"10337\",\"type\":\"Grid\"},{\"attributes\":{},\"id\":\"10346\",\"type\":\"ResetTool\"},{\"attributes\":{\"source\":{\"id\":\"10356\"}},\"id\":\"10360\",\"type\":\"CDSView\"},{\"attributes\":{\"line_alpha\":0.1,\"line_color\":\"#24e0b8\",\"line_width\":2,\"x\":{\"field\":\"x\"},\"y\":{\"field\":\"y\"}},\"id\":\"10371\",\"type\":\"Line\"},{\"attributes\":{\"source\":{\"id\":\"10369\"}},\"id\":\"10373\",\"type\":\"CDSView\"},{\"attributes\":{\"axis_label\":\"Volume\",\"formatter\":{\"id\":\"10363\"},\"ticker\":{\"id\":\"10339\"}},\"id\":\"10338\",\"type\":\"LinearAxis\"},{\"attributes\":{},\"id\":\"10379\",\"type\":\"UnionRenderers\"},{\"attributes\":{\"axis_label\":\"Time 15min\",\"formatter\":{\"id\":\"10365\"},\"major_label_orientation\":1.5,\"ticker\":{\"id\":\"10336\"}},\"id\":\"10335\",\"type\":\"CategoricalAxis\"},{\"attributes\":{},\"id\":\"10380\",\"type\":\"Selection\"},{\"attributes\":{},\"id\":\"10685\",\"type\":\"Selection\"},{\"attributes\":{},\"id\":\"10363\",\"type\":\"BasicTickFormatter\"},{\"attributes\":{},\"id\":\"10365\",\"type\":\"CategoricalTickFormatter\"},{\"attributes\":{},\"id\":\"10331\",\"type\":\"CategoricalScale\"},{\"attributes\":{},\"id\":\"10336\",\"type\":\"CategoricalTicker\"},{\"attributes\":{\"label\":{\"value\":\"Brixton\"},\"renderers\":[{\"id\":\"10372\"}]},\"id\":\"10382\",\"type\":\"LegendItem\"},{\"attributes\":{},\"id\":\"10339\",\"type\":\"BasicTicker\"},{\"attributes\":{\"line_alpha\":0.1,\"line_color\":\"#ff8b76\",\"line_width\":2,\"x\":{\"field\":\"x\"},\"y\":{\"field\":\"y\"}},\"id\":\"10358\",\"type\":\"Line\"},{\"attributes\":{\"data_source\":{\"id\":\"10356\"},\"glyph\":{\"id\":\"10357\"},\"hover_glyph\":null,\"muted_glyph\":null,\"nonselection_glyph\":{\"id\":\"10358\"},\"selection_glyph\":null,\"view\":{\"id\":\"10360\"}},\"id\":\"10359\",\"type\":\"GlyphRenderer\"},{\"attributes\":{},\"id\":\"10684\",\"type\":\"UnionRenderers\"},{\"attributes\":{\"bottom_units\":\"screen\",\"fill_alpha\":0.5,\"fill_color\":\"lightgrey\",\"left_units\":\"screen\",\"level\":\"overlay\",\"line_alpha\":1.0,\"line_color\":\"black\",\"line_dash\":[4,4],\"line_width\":2,\"render_mode\":\"css\",\"right_units\":\"screen\",\"top_units\":\"screen\"},\"id\":\"10348\",\"type\":\"BoxAnnotation\"},{\"attributes\":{\"axis\":{\"id\":\"10338\"},\"dimension\":1,\"ticker\":null},\"id\":\"10341\",\"type\":\"Grid\"},{\"attributes\":{\"line_color\":\"#ffcc51\",\"line_width\":2,\"x\":{\"field\":\"x\"},\"y\":{\"field\":\"y\"}},\"id\":\"10384\",\"type\":\"Line\"},{\"attributes\":{\"source\":{\"id\":\"10383\"}},\"id\":\"10387\",\"type\":\"CDSView\"},{\"attributes\":{\"data_source\":{\"id\":\"10369\"},\"glyph\":{\"id\":\"10370\"},\"hover_glyph\":null,\"muted_glyph\":null,\"nonselection_glyph\":{\"id\":\"10371\"},\"selection_glyph\":null,\"view\":{\"id\":\"10373\"}},\"id\":\"10372\",\"type\":\"GlyphRenderer\"},{\"attributes\":{\"data_source\":{\"id\":\"10383\"},\"glyph\":{\"id\":\"10384\"},\"hover_glyph\":null,\"muted_glyph\":null,\"nonselection_glyph\":{\"id\":\"10385\"},\"selection_glyph\":null,\"view\":{\"id\":\"10387\"}},\"id\":\"10386\",\"type\":\"GlyphRenderer\"},{\"attributes\":{\"items\":[{\"id\":\"10368\"},{\"id\":\"10382\"},{\"id\":\"10398\"}],\"label_text_font\":\"times\",\"location\":\"top_left\",\"orientation\":\"horizontal\",\"title\":\"Station\",\"title_text_font_size\":\"12pt\",\"title_text_font_style\":\"bold\"},\"id\":\"10367\",\"type\":\"Legend\"},{\"attributes\":{\"line_alpha\":0.1,\"line_color\":\"#ffcc51\",\"line_width\":2,\"x\":{\"field\":\"x\"},\"y\":{\"field\":\"y\"}},\"id\":\"10385\",\"type\":\"Line\"},{\"attributes\":{\"line_color\":\"#ff8b76\",\"line_width\":2,\"x\":{\"field\":\"x\"},\"y\":{\"field\":\"y\"}},\"id\":\"10357\",\"type\":\"Line\"},{\"attributes\":{\"line_color\":\"#24e0b8\",\"line_width\":2,\"x\":{\"field\":\"x\"},\"y\":{\"field\":\"y\"}},\"id\":\"10370\",\"type\":\"Line\"},{\"attributes\":{\"data\":{\"x\":[[\"Early\",\"0200-0215\"],[\"Early\",\"0215-0230\"],[\"Early\",\"0230-0245\"],[\"Early\",\"0245-0300\"],[\"Early\",\"0300-0315\"],[\"Early\",\"0315-0330\"],[\"Early\",\"0330-0345\"],[\"Early\",\"0345-0400\"],[\"Early\",\"0400-0415\"],[\"Early\",\"0415-0430\"],[\"Early\",\"0430-0445\"],[\"Early\",\"0445-0500\"],[\"Early\",\"0500-0515\"],[\"Early\",\"0515-0530\"],[\"Early\",\"0530-0545\"],[\"Early\",\"0545-0600\"],[\"Early\",\"0600-0615\"],[\"Early\",\"0615-0630\"],[\"Early\",\"0630-0645\"],[\"Early\",\"0645-0700\"],[\"AM Peak\",\"0700-0715\"],[\"AM Peak\",\"0715-0730\"],[\"AM Peak\",\"0730-0745\"],[\"AM Peak\",\"0745-0800\"],[\"AM Peak\",\"0800-0815\"],[\"AM Peak\",\"0815-0830\"],[\"AM Peak\",\"0830-0845\"],[\"AM Peak\",\"0845-0900\"],[\"AM Peak\",\"0900-0915\"],[\"AM Peak\",\"0915-0930\"],[\"AM Peak\",\"0930-0945\"],[\"AM Peak\",\"0945-1000\"],[\"Inter peak\",\"1000-1015\"],[\"Inter peak\",\"1015-1030\"],[\"Inter peak\",\"1030-1045\"],[\"Inter peak\",\"1045-1100\"],[\"Inter peak\",\"1100-1115\"],[\"Inter peak\",\"1115-1130\"],[\"Inter peak\",\"1130-1145\"],[\"Inter peak\",\"1145-1200\"],[\"Inter peak\",\"1200-1215\"],[\"Inter peak\",\"1215-1230\"],[\"Inter peak\",\"1230-1245\"],[\"Inter peak\",\"1245-1300\"],[\"Inter peak\",\"1300-1315\"],[\"Inter peak\",\"1315-1330\"],[\"Inter peak\",\"1330-1345\"],[\"Inter peak\",\"1345-1400\"],[\"Inter peak\",\"1400-1415\"],[\"Inter peak\",\"1415-1430\"],[\"Inter peak\",\"1430-1445\"],[\"Inter peak\",\"1445-1500\"],[\"Inter peak\",\"1500-1515\"],[\"Inter peak\",\"1515-1530\"],[\"Inter peak\",\"1530-1545\"],[\"Inter peak\",\"1545-1600\"],[\"PM Peak\",\"1600-1615\"],[\"PM Peak\",\"1615-1630\"],[\"PM Peak\",\"1630-1645\"],[\"PM Peak\",\"1645-1700\"],[\"PM Peak\",\"1700-1715\"],[\"PM Peak\",\"1715-1730\"],[\"PM Peak\",\"1730-1745\"],[\"PM Peak\",\"1745-1800\"],[\"PM Peak\",\"1800-1815\"],[\"PM Peak\",\"1815-1830\"],[\"PM Peak\",\"1830-1845\"],[\"PM Peak\",\"1845-1900\"],[\"Evening\",\"1900-1915\"],[\"Evening\",\"1915-1930\"],[\"Evening\",\"1930-1945\"],[\"Evening\",\"1945-2000\"],[\"Evening\",\"2000-2015\"],[\"Evening\",\"2015-2030\"],[\"Evening\",\"2030-2045\"],[\"Evening\",\"2045-2100\"],[\"Evening\",\"2100-2115\"],[\"Evening\",\"2115-2130\"],[\"Evening\",\"2130-2145\"],[\"Evening\",\"2145-2200\"],[\"Late\",\"2200-2215\"],[\"Late\",\"2215-2230\"],[\"Late\",\"2230-2245\"],[\"Late\",\"2245-2300\"],[\"Late\",\"2300-2315\"],[\"Late\",\"2315-2330\"],[\"Late\",\"2330-2345\"],[\"Late\",\"2345-2400\"],[\"Late\",\"0000-0015\"],[\"Late\",\"0015-0030\"],[\"Late\",\"0030-0045\"],[\"Late\",\"0045-0100\"],[\"Late\",\"0100-0115\"],[\"Late\",\"0115-0130\"],[\"Late\",\"0130-0145\"],[\"Late\",\"0145-0200\"]],\"y\":[0,0,0,0,0,0,0,0,0,0,0,0,60,146,220,247,375,553,732,869,1114,1405,1707,2084,2639,3058,2977,2505,1980,1596,1205,855,634,598,553,480,451,479,463,428,415,438,427,411,409,427,415,385,386,405,392,372,386,418,410,433,493,563,576,625,679,716,678,639,602,572,518,458,401,363,316,282,256,243,218,215,221,221,205,214,230,367,587,779,670,420,213,170,134,82,40,27,30,29,22,12]},\"selected\":{\"id\":\"10396\"},\"selection_policy\":{\"id\":\"10395\"}},\"id\":\"10369\",\"type\":\"ColumnDataSource\"},{\"attributes\":{\"label\":{\"value\":\"Vauxhall\"},\"renderers\":[{\"id\":\"10359\"}]},\"id\":\"10368\",\"type\":\"LegendItem\"},{\"attributes\":{\"data\":{\"x\":[[\"Early\",\"0200-0215\"],[\"Early\",\"0215-0230\"],[\"Early\",\"0230-0245\"],[\"Early\",\"0245-0300\"],[\"Early\",\"0300-0315\"],[\"Early\",\"0315-0330\"],[\"Early\",\"0330-0345\"],[\"Early\",\"0345-0400\"],[\"Early\",\"0400-0415\"],[\"Early\",\"0415-0430\"],[\"Early\",\"0430-0445\"],[\"Early\",\"0445-0500\"],[\"Early\",\"0500-0515\"],[\"Early\",\"0515-0530\"],[\"Early\",\"0530-0545\"],[\"Early\",\"0545-0600\"],[\"Early\",\"0600-0615\"],[\"Early\",\"0615-0630\"],[\"Early\",\"0630-0645\"],[\"Early\",\"0645-0700\"],[\"AM Peak\",\"0700-0715\"],[\"AM Peak\",\"0715-0730\"],[\"AM Peak\",\"0730-0745\"],[\"AM Peak\",\"0745-0800\"],[\"AM Peak\",\"0800-0815\"],[\"AM Peak\",\"0815-0830\"],[\"AM Peak\",\"0830-0845\"],[\"AM Peak\",\"0845-0900\"],[\"AM Peak\",\"0900-0915\"],[\"AM Peak\",\"0915-0930\"],[\"AM Peak\",\"0930-0945\"],[\"AM Peak\",\"0945-1000\"],[\"Inter peak\",\"1000-1015\"],[\"Inter peak\",\"1015-1030\"],[\"Inter peak\",\"1030-1045\"],[\"Inter peak\",\"1045-1100\"],[\"Inter peak\",\"1100-1115\"],[\"Inter peak\",\"1115-1130\"],[\"Inter peak\",\"1130-1145\"],[\"Inter peak\",\"1145-1200\"],[\"Inter peak\",\"1200-1215\"],[\"Inter peak\",\"1215-1230\"],[\"Inter peak\",\"1230-1245\"],[\"Inter peak\",\"1245-1300\"],[\"Inter peak\",\"1300-1315\"],[\"Inter peak\",\"1315-1330\"],[\"Inter peak\",\"1330-1345\"],[\"Inter peak\",\"1345-1400\"],[\"Inter peak\",\"1400-1415\"],[\"Inter peak\",\"1415-1430\"],[\"Inter peak\",\"1430-1445\"],[\"Inter peak\",\"1445-1500\"],[\"Inter peak\",\"1500-1515\"],[\"Inter peak\",\"1515-1530\"],[\"Inter peak\",\"1530-1545\"],[\"Inter peak\",\"1545-1600\"],[\"PM Peak\",\"1600-1615\"],[\"PM Peak\",\"1615-1630\"],[\"PM Peak\",\"1630-1645\"],[\"PM Peak\",\"1645-1700\"],[\"PM Peak\",\"1700-1715\"],[\"PM Peak\",\"1715-1730\"],[\"PM Peak\",\"1730-1745\"],[\"PM Peak\",\"1745-1800\"],[\"PM Peak\",\"1800-1815\"],[\"PM Peak\",\"1815-1830\"],[\"PM Peak\",\"1830-1845\"],[\"PM Peak\",\"1845-1900\"],[\"Evening\",\"1900-1915\"],[\"Evening\",\"1915-1930\"],[\"Evening\",\"1930-1945\"],[\"Evening\",\"1945-2000\"],[\"Evening\",\"2000-2015\"],[\"Evening\",\"2015-2030\"],[\"Evening\",\"2030-2045\"],[\"Evening\",\"2045-2100\"],[\"Evening\",\"2100-2115\"],[\"Evening\",\"2115-2130\"],[\"Evening\",\"2130-2145\"],[\"Evening\",\"2145-2200\"],[\"Late\",\"2200-2215\"],[\"Late\",\"2215-2230\"],[\"Late\",\"2230-2245\"],[\"Late\",\"2245-2300\"],[\"Late\",\"2300-2315\"],[\"Late\",\"2315-2330\"],[\"Late\",\"2330-2345\"],[\"Late\",\"2345-2400\"],[\"Late\",\"0000-0015\"],[\"Late\",\"0015-0030\"],[\"Late\",\"0030-0045\"],[\"Late\",\"0045-0100\"],[\"Late\",\"0100-0115\"],[\"Late\",\"0115-0130\"],[\"Late\",\"0130-0145\"],[\"Late\",\"0145-0200\"]],\"y\":[0,0,0,0,0,0,0,0,0,0,0,0,33,55,67,77,119,179,220,286,393,542,689,946,1323,1650,1579,1232,841,627,454,333,240,220,202,174,163,175,170,156,150,161,156,150,145,151,144,138,142,152,146,141,150,164,162,170,184,201,202,226,251,274,263,257,249,241,215,195,179,160,132,116,105,96,82,77,79,78,71,67,70,73,75,77,73,61,49,39,31,23,17,11,7,6,5,3]},\"selected\":{\"id\":\"10685\"},\"selection_policy\":{\"id\":\"10684\"}},\"id\":\"10383\",\"type\":\"ColumnDataSource\"}],\"root_ids\":[\"10325\"]},\"title\":\"Bokeh Application\",\"version\":\"2.0.1\"}};\n",
       "  var render_items = [{\"docid\":\"94aaf6ab-2bd7-40bf-9028-c87bbd530603\",\"notebook_comms_target\":\"10687\",\"root_ids\":[\"10325\"],\"roots\":{\"10325\":\"6609aea2-24f8-4798-a73c-f40eb1320c03\"}}];\n",
       "  root.Bokeh.embed.embed_items_notebook(docs_json, render_items);\n",
       "\n",
       "  }\n",
       "  if (root.Bokeh !== undefined) {\n",
       "    embed_document(root);\n",
       "  } else {\n",
       "    var attempts = 0;\n",
       "    var timer = setInterval(function(root) {\n",
       "      if (root.Bokeh !== undefined) {\n",
       "        clearInterval(timer);\n",
       "        embed_document(root);\n",
       "      } else {\n",
       "        attempts++;\n",
       "        if (attempts > 100) {\n",
       "          clearInterval(timer);\n",
       "          console.log(\"Bokeh: ERROR: Unable to run BokehJS code because BokehJS library is missing\");\n",
       "        }\n",
       "      }\n",
       "    }, 10, root)\n",
       "  }\n",
       "})(window);"
      ],
      "application/vnd.bokehjs_exec.v0+json": ""
     },
     "metadata": {
      "application/vnd.bokehjs_exec.v0+json": {
       "id": "10325"
      }
     },
     "output_type": "display_data"
    },
    {
     "data": {
      "text/plain": [
       "'/Users/cyrilnrt/Desktop/Lemili/mlstack/0-hands_on_bokeh/plots/exit_stations.png'"
      ]
     },
     "execution_count": 83,
     "metadata": {},
     "output_type": "execute_result"
    }
   ],
   "source": [
    "##\n",
    "x_hours = COLUMNS_HOURS\n",
    "##\n",
    "p_ext = figure(x_range=FactorRange(*factors_ext), \n",
    "           plot_height=500,\n",
    "           plot_width=1200,\n",
    "           toolbar_location=None,\n",
    "           title='Volume of exit at station',\n",
    "#            tools=\"\"\n",
    "              )\n",
    "\n",
    "\n",
    "\n",
    "# total = np.sum(y_counts_ext)\n",
    "# y_counts_2_ext = y_counts_ext/total\n",
    "\n",
    "\n",
    "# Setting the second y axis range name and range\n",
    "#p_ext.extra_y_ranges = {\"foo\": Range1d(start=0, end=1)}\n",
    "#p_ext.add_layout(LinearAxis(y_range_name=\"foo\"), 'right')\n",
    "\n",
    "\n",
    "\n",
    "CONTRASTING_PALETTES = [\n",
    "'#007b00',\n",
    "'#24e0b8',\n",
    "'#ffcc51',\n",
    "'#ff8b76',\n",
    "'#ff3031'\n",
    "]\n",
    "\n",
    "p_ext.line(x=factors_ext, y=y_vaux_ent , color='#ff8b76', line_width=2,alpha=1,legend_label='Vauxhall')\n",
    "p_ext.line(x=factors_ext, y=y_brix_ent , color='#24e0b8', line_width=2,alpha=1,legend_label='Brixton')\n",
    "p_ext.line(x=factors_ext, y=y_stock_ent , color='#ffcc51', line_width=2,alpha=1,legend_label='Stockwell')\n",
    "\n",
    "\n",
    "\n",
    "# p_ext.vbar(x=factors_ent,\n",
    "#        top=y_vaux_ent,\n",
    "#        fill_color= '#ff8b76',\n",
    "#        line_color= '#ff8b76',\n",
    "#        alpha=0.3,\n",
    "#        width=0.5)\n",
    "\n",
    "# p_ext.vbar(x=factors_ent,\n",
    "#        top=y_brix_ent,\n",
    "#        fill_color= '#24e0b8',\n",
    "#        line_color= '#24e0b8',\n",
    "#        alpha=0.1,\n",
    "#        width=0.5)\n",
    "\n",
    "# p_ext.vbar(x=factors_ent,\n",
    "#        top=y_stock_ent,\n",
    "#        fill_color= '#ffcc51',\n",
    "#        line_color= '#ffcc51',\n",
    "#        alpha=0.1,\n",
    "#        width=0.5)\n",
    "\n",
    "p_ext.xaxis.axis_label = 'Time 15min'\n",
    "p_ext.yaxis[0].axis_label = 'Volume'\n",
    "#p_ext.yaxis[1].axis_label = 'Percentage'\n",
    "#p_ext.yaxis[1].formatter = NumeralTickFormatter(format=\"0.0%\")\n",
    "p_ext.y_range.start = 0\n",
    "p_ext.x_range.range_padding = 0.1\n",
    "p_ext.xaxis.major_label_orientation = 1.5\n",
    "p_ext.xgrid.grid_line_color = None\n",
    "\n",
    "#LEGEND\n",
    "p_ext.legend.title = 'Station'\n",
    "p_ext.legend.label_text_font= 'times'\n",
    "p_ext.legend.title_text_font_style = \"bold\"\n",
    "p_ext.legend.title_text_font_size = \"12pt\"\n",
    "p_ext.legend.location = \"top_left\"\n",
    "p_ext.legend.orientation = \"horizontal\"\n",
    "\n",
    "\n",
    "# p_ext.background_fill_color = None\n",
    "# p_ext.border_fill_color = None\n",
    "show(p_ext, notebook_handle=True)\n",
    "#Save plot\n",
    "\n",
    "# driver = webdriver.Chrome(executable_path='/Users/cyrilnrt/Downloads/chromedriver',options=webdriver.ChromeOptions().add_argument('headless'))\n",
    "driver = webdriver.Chrome(executable_path='/Users/cyrilnrt/Desktop/Lemili/mlstack/0-hands_on_bokeh/chromedriver-2')\n",
    "export_png(obj=p_ext,filename= \"plots/exit_stations.png\", webdriver =driver)"
   ]
  },
  {
   "cell_type": "code",
   "execution_count": 70,
   "metadata": {},
   "outputs": [],
   "source": []
  },
  {
   "cell_type": "code",
   "execution_count": 23,
   "metadata": {},
   "outputs": [],
   "source": [
    "tmp = en17week_station[[' Station']+time_categorical]\n",
    "avg_time_cat = tmp[tmp[' Station'].isin(['Brixton','Stockwell','Vauxhall'])].mean(axis=0).values"
   ]
  },
  {
   "cell_type": "code",
   "execution_count": 62,
   "metadata": {},
   "outputs": [
    {
     "ename": "WebDriverException",
     "evalue": "Message: Service /Users/cyrilnrt/Downloads/geckodriver unexpectedly exited. Status code was: -9\n",
     "output_type": "error",
     "traceback": [
      "\u001b[0;31m---------------------------------------------------------------------------\u001b[0m",
      "\u001b[0;31mWebDriverException\u001b[0m                        Traceback (most recent call last)",
      "\u001b[0;32m<ipython-input-62-df569239ae85>\u001b[0m in \u001b[0;36m<module>\u001b[0;34m\u001b[0m\n\u001b[1;32m      2\u001b[0m \u001b[0;34m\u001b[0m\u001b[0m\n\u001b[1;32m      3\u001b[0m \u001b[0;31m# profile = webdriver.FirefoxProfile('/Users/cyrilnrt/Downloads/')\u001b[0m\u001b[0;34m\u001b[0m\u001b[0;34m\u001b[0m\u001b[0;34m\u001b[0m\u001b[0m\n\u001b[0;32m----> 4\u001b[0;31m \u001b[0mdriver\u001b[0m \u001b[0;34m=\u001b[0m \u001b[0mwebdriver\u001b[0m\u001b[0;34m.\u001b[0m\u001b[0mFirefox\u001b[0m\u001b[0;34m(\u001b[0m\u001b[0mexecutable_path\u001b[0m\u001b[0;34m=\u001b[0m\u001b[0;34m'/Users/cyrilnrt/Downloads/geckodriver'\u001b[0m\u001b[0;34m,\u001b[0m\u001b[0moptions\u001b[0m\u001b[0;34m=\u001b[0m\u001b[0mwebdriver\u001b[0m\u001b[0;34m.\u001b[0m\u001b[0mFirefoxOptions\u001b[0m\u001b[0;34m(\u001b[0m\u001b[0;34m)\u001b[0m\u001b[0;34m.\u001b[0m\u001b[0madd_argument\u001b[0m\u001b[0;34m(\u001b[0m\u001b[0;34m'headless'\u001b[0m\u001b[0;34m)\u001b[0m\u001b[0;34m)\u001b[0m\u001b[0;34m\u001b[0m\u001b[0;34m\u001b[0m\u001b[0m\n\u001b[0m",
      "\u001b[0;32m~/.pyenv/versions/3.8.1/envs/ml/lib/python3.8/site-packages/selenium/webdriver/firefox/webdriver.py\u001b[0m in \u001b[0;36m__init__\u001b[0;34m(self, firefox_profile, firefox_binary, timeout, capabilities, proxy, executable_path, options, service_log_path, firefox_options, service_args, desired_capabilities, log_path, keep_alive)\u001b[0m\n\u001b[1;32m    162\u001b[0m                 \u001b[0mservice_args\u001b[0m\u001b[0;34m=\u001b[0m\u001b[0mservice_args\u001b[0m\u001b[0;34m,\u001b[0m\u001b[0;34m\u001b[0m\u001b[0;34m\u001b[0m\u001b[0m\n\u001b[1;32m    163\u001b[0m                 log_path=service_log_path)\n\u001b[0;32m--> 164\u001b[0;31m             \u001b[0mself\u001b[0m\u001b[0;34m.\u001b[0m\u001b[0mservice\u001b[0m\u001b[0;34m.\u001b[0m\u001b[0mstart\u001b[0m\u001b[0;34m(\u001b[0m\u001b[0;34m)\u001b[0m\u001b[0;34m\u001b[0m\u001b[0;34m\u001b[0m\u001b[0m\n\u001b[0m\u001b[1;32m    165\u001b[0m \u001b[0;34m\u001b[0m\u001b[0m\n\u001b[1;32m    166\u001b[0m             \u001b[0mcapabilities\u001b[0m\u001b[0;34m.\u001b[0m\u001b[0mupdate\u001b[0m\u001b[0;34m(\u001b[0m\u001b[0moptions\u001b[0m\u001b[0;34m.\u001b[0m\u001b[0mto_capabilities\u001b[0m\u001b[0;34m(\u001b[0m\u001b[0;34m)\u001b[0m\u001b[0;34m)\u001b[0m\u001b[0;34m\u001b[0m\u001b[0;34m\u001b[0m\u001b[0m\n",
      "\u001b[0;32m~/.pyenv/versions/3.8.1/envs/ml/lib/python3.8/site-packages/selenium/webdriver/common/service.py\u001b[0m in \u001b[0;36mstart\u001b[0;34m(self)\u001b[0m\n\u001b[1;32m     96\u001b[0m         \u001b[0mcount\u001b[0m \u001b[0;34m=\u001b[0m \u001b[0;36m0\u001b[0m\u001b[0;34m\u001b[0m\u001b[0;34m\u001b[0m\u001b[0m\n\u001b[1;32m     97\u001b[0m         \u001b[0;32mwhile\u001b[0m \u001b[0;32mTrue\u001b[0m\u001b[0;34m:\u001b[0m\u001b[0;34m\u001b[0m\u001b[0;34m\u001b[0m\u001b[0m\n\u001b[0;32m---> 98\u001b[0;31m             \u001b[0mself\u001b[0m\u001b[0;34m.\u001b[0m\u001b[0massert_process_still_running\u001b[0m\u001b[0;34m(\u001b[0m\u001b[0;34m)\u001b[0m\u001b[0;34m\u001b[0m\u001b[0;34m\u001b[0m\u001b[0m\n\u001b[0m\u001b[1;32m     99\u001b[0m             \u001b[0;32mif\u001b[0m \u001b[0mself\u001b[0m\u001b[0;34m.\u001b[0m\u001b[0mis_connectable\u001b[0m\u001b[0;34m(\u001b[0m\u001b[0;34m)\u001b[0m\u001b[0;34m:\u001b[0m\u001b[0;34m\u001b[0m\u001b[0;34m\u001b[0m\u001b[0m\n\u001b[1;32m    100\u001b[0m                 \u001b[0;32mbreak\u001b[0m\u001b[0;34m\u001b[0m\u001b[0;34m\u001b[0m\u001b[0m\n",
      "\u001b[0;32m~/.pyenv/versions/3.8.1/envs/ml/lib/python3.8/site-packages/selenium/webdriver/common/service.py\u001b[0m in \u001b[0;36massert_process_still_running\u001b[0;34m(self)\u001b[0m\n\u001b[1;32m    107\u001b[0m         \u001b[0mreturn_code\u001b[0m \u001b[0;34m=\u001b[0m \u001b[0mself\u001b[0m\u001b[0;34m.\u001b[0m\u001b[0mprocess\u001b[0m\u001b[0;34m.\u001b[0m\u001b[0mpoll\u001b[0m\u001b[0;34m(\u001b[0m\u001b[0;34m)\u001b[0m\u001b[0;34m\u001b[0m\u001b[0;34m\u001b[0m\u001b[0m\n\u001b[1;32m    108\u001b[0m         \u001b[0;32mif\u001b[0m \u001b[0mreturn_code\u001b[0m \u001b[0;32mis\u001b[0m \u001b[0;32mnot\u001b[0m \u001b[0;32mNone\u001b[0m\u001b[0;34m:\u001b[0m\u001b[0;34m\u001b[0m\u001b[0;34m\u001b[0m\u001b[0m\n\u001b[0;32m--> 109\u001b[0;31m             raise WebDriverException(\n\u001b[0m\u001b[1;32m    110\u001b[0m                 \u001b[0;34m'Service %s unexpectedly exited. Status code was: %s'\u001b[0m\u001b[0;34m\u001b[0m\u001b[0;34m\u001b[0m\u001b[0m\n\u001b[1;32m    111\u001b[0m                 \u001b[0;34m%\u001b[0m \u001b[0;34m(\u001b[0m\u001b[0mself\u001b[0m\u001b[0;34m.\u001b[0m\u001b[0mpath\u001b[0m\u001b[0;34m,\u001b[0m \u001b[0mreturn_code\u001b[0m\u001b[0;34m)\u001b[0m\u001b[0;34m\u001b[0m\u001b[0;34m\u001b[0m\u001b[0m\n",
      "\u001b[0;31mWebDriverException\u001b[0m: Message: Service /Users/cyrilnrt/Downloads/geckodriver unexpectedly exited. Status code was: -9\n"
     ]
    }
   ],
   "source": [
    "\n",
    "# profile = webdriver.FirefoxProfile('/Users/cyrilnrt/Downloads/')\n"
   ]
  },
  {
   "cell_type": "code",
   "execution_count": 24,
   "metadata": {},
   "outputs": [],
   "source": [
    "# perform some smoothing with scipy since bokeh doesn't support it\n",
    "from scipy.interpolate import interp1d\n",
    "from scipy.signal import find_peaks\n",
    "\n",
    "\n",
    "#f3 = interp1d(x=val,y=avg, kind='next')\n",
    "#x_new = np.linspace(start=0,stop=95,num=95,endpoint=True)\n",
    "#f3(x_new)"
   ]
  },
  {
   "cell_type": "markdown",
   "metadata": {},
   "source": [
    "## Barplot with Bokeh\n",
    "- Visualise volume of user for three stations : Brixton, Stockwell and Vauxhall\n",
    "- Using visualisation to compare volume of user for three station"
   ]
  },
  {
   "cell_type": "code",
   "execution_count": 45,
   "metadata": {},
   "outputs": [
    {
     "data": {
      "text/html": [
       "\n",
       "\n",
       "\n",
       "\n",
       "\n",
       "\n",
       "  <div class=\"bk-root\" id=\"7de39865-de95-4e91-a19c-2bd5b20c617e\" data-root-id=\"2486\"></div>\n"
      ]
     },
     "metadata": {},
     "output_type": "display_data"
    },
    {
     "data": {
      "application/javascript": [
       "(function(root) {\n",
       "  function embed_document(root) {\n",
       "    \n",
       "  var docs_json = {\"30236490-4c87-47f1-95ca-fa9bb59809b7\":{\"roots\":{\"references\":[{\"attributes\":{\"below\":[{\"id\":\"2496\"}],\"center\":[{\"id\":\"2498\"},{\"id\":\"2502\"},{\"id\":\"2520\"}],\"left\":[{\"id\":\"2499\"}],\"plot_height\":500,\"plot_width\":1500,\"renderers\":[{\"id\":\"2513\"},{\"id\":\"2525\"},{\"id\":\"2538\"}],\"title\":{\"id\":\"2487\"},\"toolbar\":{\"id\":\"2503\"},\"toolbar_location\":null,\"x_range\":{\"id\":\"2485\"},\"x_scale\":{\"id\":\"2492\"},\"y_range\":{\"id\":\"2490\"},\"y_scale\":{\"id\":\"2494\"}},\"id\":\"2486\",\"subtype\":\"Figure\",\"type\":\"Plot\"},{\"attributes\":{\"start\":0},\"id\":\"2490\",\"type\":\"DataRange1d\"},{\"attributes\":{\"axis\":{\"id\":\"2496\"},\"grid_line_color\":null,\"ticker\":null},\"id\":\"2498\",\"type\":\"Grid\"},{\"attributes\":{\"bottom\":{\"expr\":{\"id\":\"2506\"}},\"fill_alpha\":{\"value\":0.5},\"fill_color\":{\"value\":\"#ffcc51\"},\"line_alpha\":{\"value\":0.5},\"line_color\":{\"value\":\"#ffcc51\"},\"top\":{\"expr\":{\"id\":\"2507\"}},\"width\":{\"value\":0.5},\"x\":{\"field\":\"x\"}},\"id\":\"2523\",\"type\":\"VBar\"},{\"attributes\":{},\"id\":\"2518\",\"type\":\"CategoricalTickFormatter\"},{\"attributes\":{\"active_drag\":\"auto\",\"active_inspect\":\"auto\",\"active_multi\":null,\"active_scroll\":\"auto\",\"active_tap\":\"auto\"},\"id\":\"2503\",\"type\":\"Toolbar\"},{\"attributes\":{\"data\":{\"Brixton\":[0,0,0,0,0,0,0,0,0,0,0,0,60,146,220,247,375,553,732,869,1114,1405,1707,2084,2639,3058,2977,2505,1980,1596,1205,855,634,598,553,480,451,479,463,428,415,438,427,411,409,427,415,385,386,405,392,372,386,418,410,433,493,563,576,625,679,716,678,639,602,572,518,458,401,363,316,282,256,243,218,215,221,221,205,214,230,367,587,779,670,420,213,170,134,82,40,27,30,29,22,12],\"Stockwell\":[0,0,0,0,0,0,0,0,0,0,0,0,33,55,67,77,119,179,220,286,393,542,689,946,1323,1650,1579,1232,841,627,454,333,240,220,202,174,163,175,170,156,150,161,156,150,145,151,144,138,142,152,146,141,150,164,162,170,184,201,202,226,251,274,263,257,249,241,215,195,179,160,132,116,105,96,82,77,79,78,71,67,70,73,75,77,73,61,49,39,31,23,17,11,7,6,5,3],\"Vauxhall\":[0,0,0,0,0,0,0,0,0,0,0,0,12,49,61,93,167,287,401,517,706,901,1132,1285,1585,1861,2010,1853,1653,1383,1096,814,693,638,579,491,457,470,465,455,454,480,477,458,449,465,461,436,438,455,461,471,508,565,611,707,826,934,983,1138,1322,1541,1693,1686,1515,1293,1096,878,722,597,481,399,350,308,277,246,233,227,223,214,214,206,196,178,172,151,136,109,88,54,27,11,12,12,9,5],\"x\":[[\"Early\",\"0200-0215\"],[\"Early\",\"0215-0230\"],[\"Early\",\"0230-0245\"],[\"Early\",\"0245-0300\"],[\"Early\",\"0300-0315\"],[\"Early\",\"0315-0330\"],[\"Early\",\"0330-0345\"],[\"Early\",\"0345-0400\"],[\"Early\",\"0400-0415\"],[\"Early\",\"0415-0430\"],[\"Early\",\"0430-0445\"],[\"Early\",\"0445-0500\"],[\"Early\",\"0500-0515\"],[\"Early\",\"0515-0530\"],[\"Early\",\"0530-0545\"],[\"Early\",\"0545-0600\"],[\"Early\",\"0600-0615\"],[\"Early\",\"0615-0630\"],[\"Early\",\"0630-0645\"],[\"Early\",\"0645-0700\"],[\"AM Peak\",\"0700-0715\"],[\"AM Peak\",\"0715-0730\"],[\"AM Peak\",\"0730-0745\"],[\"AM Peak\",\"0745-0800\"],[\"AM Peak\",\"0800-0815\"],[\"AM Peak\",\"0815-0830\"],[\"AM Peak\",\"0830-0845\"],[\"AM Peak\",\"0845-0900\"],[\"AM Peak\",\"0900-0915\"],[\"AM Peak\",\"0915-0930\"],[\"AM Peak\",\"0930-0945\"],[\"AM Peak\",\"0945-1000\"],[\"Inter peak\",\"1000-1015\"],[\"Inter peak\",\"1015-1030\"],[\"Inter peak\",\"1030-1045\"],[\"Inter peak\",\"1045-1100\"],[\"Inter peak\",\"1100-1115\"],[\"Inter peak\",\"1115-1130\"],[\"Inter peak\",\"1130-1145\"],[\"Inter peak\",\"1145-1200\"],[\"Inter peak\",\"1200-1215\"],[\"Inter peak\",\"1215-1230\"],[\"Inter peak\",\"1230-1245\"],[\"Inter peak\",\"1245-1300\"],[\"Inter peak\",\"1300-1315\"],[\"Inter peak\",\"1315-1330\"],[\"Inter peak\",\"1330-1345\"],[\"Inter peak\",\"1345-1400\"],[\"Inter peak\",\"1400-1415\"],[\"Inter peak\",\"1415-1430\"],[\"Inter peak\",\"1430-1445\"],[\"Inter peak\",\"1445-1500\"],[\"Inter peak\",\"1500-1515\"],[\"Inter peak\",\"1515-1530\"],[\"Inter peak\",\"1530-1545\"],[\"Inter peak\",\"1545-1600\"],[\"PM Peak\",\"1600-1615\"],[\"PM Peak\",\"1615-1630\"],[\"PM Peak\",\"1630-1645\"],[\"PM Peak\",\"1645-1700\"],[\"PM Peak\",\"1700-1715\"],[\"PM Peak\",\"1715-1730\"],[\"PM Peak\",\"1730-1745\"],[\"PM Peak\",\"1745-1800\"],[\"PM Peak\",\"1800-1815\"],[\"PM Peak\",\"1815-1830\"],[\"PM Peak\",\"1830-1845\"],[\"PM Peak\",\"1845-1900\"],[\"Evening\",\"1900-1915\"],[\"Evening\",\"1915-1930\"],[\"Evening\",\"1930-1945\"],[\"Evening\",\"1945-2000\"],[\"Evening\",\"2000-2015\"],[\"Evening\",\"2015-2030\"],[\"Evening\",\"2030-2045\"],[\"Evening\",\"2045-2100\"],[\"Evening\",\"2100-2115\"],[\"Evening\",\"2115-2130\"],[\"Evening\",\"2130-2145\"],[\"Evening\",\"2145-2200\"],[\"Late\",\"2200-2215\"],[\"Late\",\"2215-2230\"],[\"Late\",\"2230-2245\"],[\"Late\",\"2245-2300\"],[\"Late\",\"2300-2315\"],[\"Late\",\"2315-2330\"],[\"Late\",\"2330-2345\"],[\"Late\",\"2345-2400\"],[\"Late\",\"0000-0015\"],[\"Late\",\"0015-0030\"],[\"Late\",\"0030-0045\"],[\"Late\",\"0045-0100\"],[\"Late\",\"0100-0115\"],[\"Late\",\"0115-0130\"],[\"Late\",\"0130-0145\"],[\"Late\",\"0145-0200\"]]},\"selected\":{\"id\":\"2532\"},\"selection_policy\":{\"id\":\"2533\"}},\"id\":\"2484\",\"type\":\"ColumnDataSource\"},{\"attributes\":{\"source\":{\"id\":\"2484\"}},\"id\":\"2539\",\"type\":\"CDSView\"},{\"attributes\":{\"data_source\":{\"id\":\"2484\"},\"glyph\":{\"id\":\"2536\"},\"hover_glyph\":null,\"muted_glyph\":null,\"name\":\"Vauxhall\",\"nonselection_glyph\":{\"id\":\"2537\"},\"selection_glyph\":null,\"view\":{\"id\":\"2539\"}},\"id\":\"2538\",\"type\":\"GlyphRenderer\"},{\"attributes\":{},\"id\":\"2500\",\"type\":\"BasicTicker\"},{\"attributes\":{\"fields\":[\"Brixton\"]},\"id\":\"2505\",\"type\":\"Stack\"},{\"attributes\":{\"fields\":[]},\"id\":\"2504\",\"type\":\"Stack\"},{\"attributes\":{\"fields\":[\"Brixton\"]},\"id\":\"2506\",\"type\":\"Stack\"},{\"attributes\":{\"axis\":{\"id\":\"2499\"},\"dimension\":1,\"ticker\":null},\"id\":\"2502\",\"type\":\"Grid\"},{\"attributes\":{\"axis_label\":\"Volume of user\",\"formatter\":{\"id\":\"2516\"},\"minor_tick_line_color\":null,\"ticker\":{\"id\":\"2500\"}},\"id\":\"2499\",\"type\":\"LinearAxis\"},{\"attributes\":{\"label\":{\"value\":\"Vauxhall\"},\"renderers\":[{\"id\":\"2538\"}]},\"id\":\"2547\",\"type\":\"LegendItem\"},{\"attributes\":{\"formatter\":{\"id\":\"2518\"},\"major_label_orientation\":1,\"ticker\":{\"id\":\"2497\"}},\"id\":\"2496\",\"type\":\"CategoricalAxis\"},{\"attributes\":{\"fields\":[\"Brixton\",\"Stockwell\",\"Vauxhall\"]},\"id\":\"2509\",\"type\":\"Stack\"},{\"attributes\":{},\"id\":\"2516\",\"type\":\"BasicTickFormatter\"},{\"attributes\":{\"bottom\":{\"expr\":{\"id\":\"2504\"}},\"fill_alpha\":{\"value\":0.1},\"fill_color\":{\"value\":\"#24e0b8\"},\"line_alpha\":{\"value\":0.1},\"line_color\":{\"value\":\"#24e0b8\"},\"top\":{\"expr\":{\"id\":\"2505\"}},\"width\":{\"value\":0.5},\"x\":{\"field\":\"x\"}},\"id\":\"2512\",\"type\":\"VBar\"},{\"attributes\":{},\"id\":\"2533\",\"type\":\"UnionRenderers\"},{\"attributes\":{},\"id\":\"2497\",\"type\":\"CategoricalTicker\"},{\"attributes\":{\"source\":{\"id\":\"2484\"}},\"id\":\"2514\",\"type\":\"CDSView\"},{\"attributes\":{\"text\":\"Entrance\"},\"id\":\"2487\",\"type\":\"Title\"},{\"attributes\":{},\"id\":\"2494\",\"type\":\"LinearScale\"},{\"attributes\":{\"fields\":[\"Brixton\",\"Stockwell\"]},\"id\":\"2507\",\"type\":\"Stack\"},{\"attributes\":{\"bottom\":{\"expr\":{\"id\":\"2506\"}},\"fill_alpha\":{\"value\":0.1},\"fill_color\":{\"value\":\"#ffcc51\"},\"line_alpha\":{\"value\":0.1},\"line_color\":{\"value\":\"#ffcc51\"},\"top\":{\"expr\":{\"id\":\"2507\"}},\"width\":{\"value\":0.5},\"x\":{\"field\":\"x\"}},\"id\":\"2524\",\"type\":\"VBar\"},{\"attributes\":{},\"id\":\"2492\",\"type\":\"CategoricalScale\"},{\"attributes\":{\"data_source\":{\"id\":\"2484\"},\"glyph\":{\"id\":\"2523\"},\"hover_glyph\":null,\"muted_glyph\":null,\"name\":\"Stockwell\",\"nonselection_glyph\":{\"id\":\"2524\"},\"selection_glyph\":null,\"view\":{\"id\":\"2526\"}},\"id\":\"2525\",\"type\":\"GlyphRenderer\"},{\"attributes\":{\"items\":[{\"id\":\"2521\"},{\"id\":\"2534\"},{\"id\":\"2547\"}],\"label_text_font\":\"times\",\"location\":\"top_left\",\"title\":\"Station\",\"title_text_font\":\"times\",\"title_text_font_size\":\"12pt\",\"title_text_font_style\":\"bold\"},\"id\":\"2520\",\"type\":\"Legend\"},{\"attributes\":{\"bottom\":{\"expr\":{\"id\":\"2504\"}},\"fill_alpha\":{\"value\":0.5},\"fill_color\":{\"value\":\"#24e0b8\"},\"line_alpha\":{\"value\":0.5},\"line_color\":{\"value\":\"#24e0b8\"},\"top\":{\"expr\":{\"id\":\"2505\"}},\"width\":{\"value\":0.5},\"x\":{\"field\":\"x\"}},\"id\":\"2511\",\"type\":\"VBar\"},{\"attributes\":{\"label\":{\"value\":\"Brixton\"},\"renderers\":[{\"id\":\"2513\"}]},\"id\":\"2521\",\"type\":\"LegendItem\"},{\"attributes\":{\"fields\":[\"Brixton\",\"Stockwell\"]},\"id\":\"2508\",\"type\":\"Stack\"},{\"attributes\":{\"source\":{\"id\":\"2484\"}},\"id\":\"2526\",\"type\":\"CDSView\"},{\"attributes\":{\"bottom\":{\"expr\":{\"id\":\"2508\"}},\"fill_alpha\":{\"value\":0.1},\"fill_color\":{\"value\":\"#ff8b76\"},\"line_alpha\":{\"value\":0.1},\"line_color\":{\"value\":\"#ff8b76\"},\"top\":{\"expr\":{\"id\":\"2509\"}},\"width\":{\"value\":0.5},\"x\":{\"field\":\"x\"}},\"id\":\"2537\",\"type\":\"VBar\"},{\"attributes\":{\"factors\":[[\"Early\",\"0200-0215\"],[\"Early\",\"0215-0230\"],[\"Early\",\"0230-0245\"],[\"Early\",\"0245-0300\"],[\"Early\",\"0300-0315\"],[\"Early\",\"0315-0330\"],[\"Early\",\"0330-0345\"],[\"Early\",\"0345-0400\"],[\"Early\",\"0400-0415\"],[\"Early\",\"0415-0430\"],[\"Early\",\"0430-0445\"],[\"Early\",\"0445-0500\"],[\"Early\",\"0500-0515\"],[\"Early\",\"0515-0530\"],[\"Early\",\"0530-0545\"],[\"Early\",\"0545-0600\"],[\"Early\",\"0600-0615\"],[\"Early\",\"0615-0630\"],[\"Early\",\"0630-0645\"],[\"Early\",\"0645-0700\"],[\"AM Peak\",\"0700-0715\"],[\"AM Peak\",\"0715-0730\"],[\"AM Peak\",\"0730-0745\"],[\"AM Peak\",\"0745-0800\"],[\"AM Peak\",\"0800-0815\"],[\"AM Peak\",\"0815-0830\"],[\"AM Peak\",\"0830-0845\"],[\"AM Peak\",\"0845-0900\"],[\"AM Peak\",\"0900-0915\"],[\"AM Peak\",\"0915-0930\"],[\"AM Peak\",\"0930-0945\"],[\"AM Peak\",\"0945-1000\"],[\"Inter peak\",\"1000-1015\"],[\"Inter peak\",\"1015-1030\"],[\"Inter peak\",\"1030-1045\"],[\"Inter peak\",\"1045-1100\"],[\"Inter peak\",\"1100-1115\"],[\"Inter peak\",\"1115-1130\"],[\"Inter peak\",\"1130-1145\"],[\"Inter peak\",\"1145-1200\"],[\"Inter peak\",\"1200-1215\"],[\"Inter peak\",\"1215-1230\"],[\"Inter peak\",\"1230-1245\"],[\"Inter peak\",\"1245-1300\"],[\"Inter peak\",\"1300-1315\"],[\"Inter peak\",\"1315-1330\"],[\"Inter peak\",\"1330-1345\"],[\"Inter peak\",\"1345-1400\"],[\"Inter peak\",\"1400-1415\"],[\"Inter peak\",\"1415-1430\"],[\"Inter peak\",\"1430-1445\"],[\"Inter peak\",\"1445-1500\"],[\"Inter peak\",\"1500-1515\"],[\"Inter peak\",\"1515-1530\"],[\"Inter peak\",\"1530-1545\"],[\"Inter peak\",\"1545-1600\"],[\"PM Peak\",\"1600-1615\"],[\"PM Peak\",\"1615-1630\"],[\"PM Peak\",\"1630-1645\"],[\"PM Peak\",\"1645-1700\"],[\"PM Peak\",\"1700-1715\"],[\"PM Peak\",\"1715-1730\"],[\"PM Peak\",\"1730-1745\"],[\"PM Peak\",\"1745-1800\"],[\"PM Peak\",\"1800-1815\"],[\"PM Peak\",\"1815-1830\"],[\"PM Peak\",\"1830-1845\"],[\"PM Peak\",\"1845-1900\"],[\"Evening\",\"1900-1915\"],[\"Evening\",\"1915-1930\"],[\"Evening\",\"1930-1945\"],[\"Evening\",\"1945-2000\"],[\"Evening\",\"2000-2015\"],[\"Evening\",\"2015-2030\"],[\"Evening\",\"2030-2045\"],[\"Evening\",\"2045-2100\"],[\"Evening\",\"2100-2115\"],[\"Evening\",\"2115-2130\"],[\"Evening\",\"2130-2145\"],[\"Evening\",\"2145-2200\"],[\"Late\",\"2200-2215\"],[\"Late\",\"2215-2230\"],[\"Late\",\"2230-2245\"],[\"Late\",\"2245-2300\"],[\"Late\",\"2300-2315\"],[\"Late\",\"2315-2330\"],[\"Late\",\"2330-2345\"],[\"Late\",\"2345-2400\"],[\"Late\",\"0000-0015\"],[\"Late\",\"0015-0030\"],[\"Late\",\"0030-0045\"],[\"Late\",\"0045-0100\"],[\"Late\",\"0100-0115\"],[\"Late\",\"0115-0130\"],[\"Late\",\"0130-0145\"],[\"Late\",\"0145-0200\"]],\"range_padding\":0.1},\"id\":\"2485\",\"type\":\"FactorRange\"},{\"attributes\":{},\"id\":\"2532\",\"type\":\"Selection\"},{\"attributes\":{\"bottom\":{\"expr\":{\"id\":\"2508\"}},\"fill_alpha\":{\"value\":0.5},\"fill_color\":{\"value\":\"#ff8b76\"},\"line_alpha\":{\"value\":0.5},\"line_color\":{\"value\":\"#ff8b76\"},\"top\":{\"expr\":{\"id\":\"2509\"}},\"width\":{\"value\":0.5},\"x\":{\"field\":\"x\"}},\"id\":\"2536\",\"type\":\"VBar\"},{\"attributes\":{\"label\":{\"value\":\"Stockwell\"},\"renderers\":[{\"id\":\"2525\"}]},\"id\":\"2534\",\"type\":\"LegendItem\"},{\"attributes\":{\"data_source\":{\"id\":\"2484\"},\"glyph\":{\"id\":\"2511\"},\"hover_glyph\":null,\"muted_glyph\":null,\"name\":\"Brixton\",\"nonselection_glyph\":{\"id\":\"2512\"},\"selection_glyph\":null,\"view\":{\"id\":\"2514\"}},\"id\":\"2513\",\"type\":\"GlyphRenderer\"}],\"root_ids\":[\"2486\"]},\"title\":\"Bokeh Application\",\"version\":\"2.0.1\"}};\n",
       "  var render_items = [{\"docid\":\"30236490-4c87-47f1-95ca-fa9bb59809b7\",\"notebook_comms_target\":\"2635\",\"root_ids\":[\"2486\"],\"roots\":{\"2486\":\"7de39865-de95-4e91-a19c-2bd5b20c617e\"}}];\n",
       "  root.Bokeh.embed.embed_items_notebook(docs_json, render_items);\n",
       "\n",
       "  }\n",
       "  if (root.Bokeh !== undefined) {\n",
       "    embed_document(root);\n",
       "  } else {\n",
       "    var attempts = 0;\n",
       "    var timer = setInterval(function(root) {\n",
       "      if (root.Bokeh !== undefined) {\n",
       "        clearInterval(timer);\n",
       "        embed_document(root);\n",
       "      } else {\n",
       "        attempts++;\n",
       "        if (attempts > 100) {\n",
       "          clearInterval(timer);\n",
       "          console.log(\"Bokeh: ERROR: Unable to run BokehJS code because BokehJS library is missing\");\n",
       "        }\n",
       "      }\n",
       "    }, 10, root)\n",
       "  }\n",
       "})(window);"
      ],
      "application/vnd.bokehjs_exec.v0+json": ""
     },
     "metadata": {
      "application/vnd.bokehjs_exec.v0+json": {
       "id": "2486"
      }
     },
     "output_type": "display_data"
    },
    {
     "data": {
      "text/html": [
       "<p><code>&lt;Bokeh Notebook handle for <strong>In[45]</strong>&gt;</code></p>"
      ],
      "text/plain": [
       "<bokeh.io.notebook.CommsHandle at 0x12438deb0>"
      ]
     },
     "execution_count": 45,
     "metadata": {},
     "output_type": "execute_result"
    }
   ],
   "source": [
    "\n",
    "####\n",
    "\n",
    "source = ColumnDataSource(data=dict(x=factors_ext,\n",
    "                                    Brixton=brixton_ent[COLUMNS_HOURS].values[0],\n",
    "                                    Stockwell = stockwell_ent[COLUMNS_HOURS].values[0],\n",
    "                                    Vauxhall = vauxhall_ent[COLUMNS_HOURS].values[0],\n",
    "    \n",
    "))\n",
    "\n",
    "avg = pd.DataFrame(source.data).mean(axis=1).values\n",
    "\n",
    "\n",
    "p = figure(x_range=FactorRange(*factors_ext), \n",
    "           plot_height=500,\n",
    "           plot_width=1500,\n",
    "           toolbar_location=None, \n",
    "           title='Entrance',\n",
    "           #background_fill_color=\"#fafafa\",\n",
    "           tools=\"\")\n",
    "\n",
    "\n",
    "stations = ['Brixton','Stockwell','Vauxhall']\n",
    "\n",
    "\n",
    "p.vbar_stack(stations, \n",
    "             x='x', \n",
    "             width=0.5, \n",
    "             alpha=0.5, \n",
    "             color=['#24e0b8','#ffcc51','#ff8b76'], \n",
    "             source=source,\n",
    "             legend_label=stations)\n",
    "\n",
    "#p.line(x=factors_ext, y=avg, color=\"red\", line_width=1.5, line_dash=\"4 4\",legend_label='avg')\n",
    "\n",
    "# catch the pick \n",
    "peaks, _ = find_peaks(avg, height=0)\n",
    "x_peak = np.array(COLUMNS_HOURS)[peaks]\n",
    "x_peak = [e for e in factors_ext if e[1] in x_peak ]\n",
    "\n",
    "#r = p.circle(x= x_peak, y=avg[peaks], size=10,legend_label='local maxima')\n",
    "\n",
    "\n",
    "#p.line(x=factors_ext, y=f3(x_new), color=\"orange\", line_width=3, line_dash=\"4 4\")\n",
    "\n",
    "#p.line(x=time_categorical, y=avg_time_cat, color=\"red\", line_width=1.5, line_dash='dashed')\n",
    "\n",
    "\n",
    "p.y_range.start = 0\n",
    "\n",
    "p.x_range.range_padding = 0.1\n",
    "p.xaxis.major_label_orientation = 1\n",
    "p.xgrid.grid_line_color = None\n",
    "\n",
    "# glyph = r.glyph\n",
    "# glyph.size = 8\n",
    "# glyph.fill_alpha = 0.9\n",
    "# glyph.line_color = None\n",
    "# glyph.line_dash = None\n",
    "# glyph.line_width = None\n",
    "\n",
    "\n",
    "p.legend.title = 'Station'\n",
    "p.legend.label_text_font= 'times'\n",
    "p.legend.title_text_font_style = \"bold\"\n",
    "p.legend.title_text_font_size = \"12pt\"\n",
    "p.legend.title_text_font='times'\n",
    "p.legend.location = \"top_left\"\n",
    "p.legend.orientation = \"vertical\"\n",
    "#p.background_fill_color = \"#ddeaee\"\n",
    "#p.legend.background_fill_color = '#ddeaee'\n",
    "p.yaxis.minor_tick_line_color = None\n",
    "#p.yaxis.ticker = FixedTicker(ticks=[10, 20, 37.4])\n",
    "#p.background_fill_alpha = 0.5\n",
    "p.yaxis.axis_label='Volume of user'\n",
    "\n",
    "\n",
    "\n",
    "#p.output_backend = \"svg\"\n",
    "#export_svgs(p, filename=\"entrance_station.svg\")\n",
    "\n",
    "# save plot\n",
    "#export_png(obj=p,filename= \"plots/entrance_station.png\")\n",
    "\n",
    "#shpw plot\n",
    "show(p, notebook_handle=True)"
   ]
  },
  {
   "cell_type": "markdown",
   "metadata": {},
   "source": [
    "## Save plot with bokeh \n",
    "\n",
    "```sh\n",
    "npm install -g backstopjs\n",
    "\n",
    "pip install selenium phantomjs pillow\n",
    "```"
   ]
  },
  {
   "cell_type": "markdown",
   "metadata": {},
   "source": [
    "### Entrance rate versus Exit rate \n",
    "- Is the station is safe ? \n",
    "- How many people in the station ? \n"
   ]
  },
  {
   "cell_type": "code",
   "execution_count": 26,
   "metadata": {},
   "outputs": [],
   "source": [
    "COLOR_PALETTES = [\n",
    "'#000001'\n",
    "'#092a3a'\n",
    "'#395036'\n",
    "'#a37c19'\n",
    "'#ffe9c7'\n",
    "]"
   ]
  },
  {
   "cell_type": "code",
   "execution_count": null,
   "metadata": {},
   "outputs": [],
   "source": []
  },
  {
   "cell_type": "code",
   "execution_count": 30,
   "metadata": {},
   "outputs": [
    {
     "data": {
      "text/html": [
       "\n",
       "\n",
       "\n",
       "\n",
       "\n",
       "\n",
       "  <div class=\"bk-root\" id=\"71cd0916-0945-4e87-8ee3-48032f64610b\" data-root-id=\"1462\"></div>\n"
      ]
     },
     "metadata": {},
     "output_type": "display_data"
    },
    {
     "data": {
      "application/javascript": [
       "(function(root) {\n",
       "  function embed_document(root) {\n",
       "    \n",
       "  var docs_json = {\"58bb4889-fa79-4bdd-b6ab-e37c7b4eec75\":{\"roots\":{\"references\":[{\"attributes\":{\"below\":[{\"id\":\"1472\"}],\"center\":[{\"id\":\"1474\"},{\"id\":\"1478\"}],\"extra_y_ranges\":{\"foo\":{\"id\":\"1480\"}},\"left\":[{\"id\":\"1475\"}],\"plot_height\":500,\"plot_width\":1200,\"renderers\":[{\"id\":\"1485\"},{\"id\":\"1490\"}],\"right\":[{\"id\":\"1481\"}],\"title\":{\"id\":\"1463\"},\"toolbar\":{\"id\":\"1479\"},\"toolbar_location\":null,\"x_range\":{\"id\":\"1461\"},\"x_scale\":{\"id\":\"1468\"},\"y_range\":{\"id\":\"1466\"},\"y_scale\":{\"id\":\"1470\"}},\"id\":\"1462\",\"subtype\":\"Figure\",\"type\":\"Plot\"},{\"attributes\":{},\"id\":\"1516\",\"type\":\"CategoricalTickFormatter\"},{\"attributes\":{\"fill_color\":{\"value\":\"#395036\"},\"line_color\":{\"value\":\"#395036\"},\"top\":{\"field\":\"top\"},\"width\":{\"value\":0.5},\"x\":{\"field\":\"x\"}},\"id\":\"1483\",\"type\":\"VBar\"},{\"attributes\":{\"axis_label\":\"Time Quarter\",\"formatter\":{\"id\":\"1516\"},\"major_label_orientation\":1.5,\"ticker\":{\"id\":\"1473\"}},\"id\":\"1472\",\"type\":\"CategoricalAxis\"},{\"attributes\":{\"axis_label\":\"Percentage\",\"formatter\":{\"id\":\"1492\"},\"ticker\":{\"id\":\"1513\"},\"y_range_name\":\"foo\"},\"id\":\"1481\",\"type\":\"LinearAxis\"},{\"attributes\":{\"source\":{\"id\":\"1482\"}},\"id\":\"1486\",\"type\":\"CDSView\"},{\"attributes\":{\"data_source\":{\"id\":\"1482\"},\"glyph\":{\"id\":\"1483\"},\"hover_glyph\":null,\"muted_glyph\":null,\"nonselection_glyph\":{\"id\":\"1484\"},\"selection_glyph\":null,\"view\":{\"id\":\"1486\"}},\"id\":\"1485\",\"type\":\"GlyphRenderer\"},{\"attributes\":{},\"id\":\"1518\",\"type\":\"Selection\"},{\"attributes\":{},\"id\":\"1519\",\"type\":\"UnionRenderers\"},{\"attributes\":{\"fill_alpha\":{\"value\":0.1},\"fill_color\":{\"value\":\"#395036\"},\"line_alpha\":{\"value\":0.1},\"line_color\":{\"value\":\"#395036\"},\"top\":{\"field\":\"top\"},\"width\":{\"value\":0.5},\"x\":{\"field\":\"x\"}},\"id\":\"1484\",\"type\":\"VBar\"},{\"attributes\":{},\"id\":\"1468\",\"type\":\"CategoricalScale\"},{\"attributes\":{},\"id\":\"1470\",\"type\":\"LinearScale\"},{\"attributes\":{\"factors\":[[\"Early\",\"0200-0215\"],[\"Early\",\"0215-0230\"],[\"Early\",\"0230-0245\"],[\"Early\",\"0245-0300\"],[\"Early\",\"0300-0315\"],[\"Early\",\"0315-0330\"],[\"Early\",\"0330-0345\"],[\"Early\",\"0345-0400\"],[\"Early\",\"0400-0415\"],[\"Early\",\"0415-0430\"],[\"Early\",\"0430-0445\"],[\"Early\",\"0445-0500\"],[\"Early\",\"0500-0515\"],[\"Early\",\"0515-0530\"],[\"Early\",\"0530-0545\"],[\"Early\",\"0545-0600\"],[\"Early\",\"0600-0615\"],[\"Early\",\"0615-0630\"],[\"Early\",\"0630-0645\"],[\"Early\",\"0645-0700\"],[\"AM Peak\",\"0700-0715\"],[\"AM Peak\",\"0715-0730\"],[\"AM Peak\",\"0730-0745\"],[\"AM Peak\",\"0745-0800\"],[\"AM Peak\",\"0800-0815\"],[\"AM Peak\",\"0815-0830\"],[\"AM Peak\",\"0830-0845\"],[\"AM Peak\",\"0845-0900\"],[\"AM Peak\",\"0900-0915\"],[\"AM Peak\",\"0915-0930\"],[\"AM Peak\",\"0930-0945\"],[\"AM Peak\",\"0945-1000\"],[\"Inter peak\",\"1000-1015\"],[\"Inter peak\",\"1015-1030\"],[\"Inter peak\",\"1030-1045\"],[\"Inter peak\",\"1045-1100\"],[\"Inter peak\",\"1100-1115\"],[\"Inter peak\",\"1115-1130\"],[\"Inter peak\",\"1130-1145\"],[\"Inter peak\",\"1145-1200\"],[\"Inter peak\",\"1200-1215\"],[\"Inter peak\",\"1215-1230\"],[\"Inter peak\",\"1230-1245\"],[\"Inter peak\",\"1245-1300\"],[\"Inter peak\",\"1300-1315\"],[\"Inter peak\",\"1315-1330\"],[\"Inter peak\",\"1330-1345\"],[\"Inter peak\",\"1345-1400\"],[\"Inter peak\",\"1400-1415\"],[\"Inter peak\",\"1415-1430\"],[\"Inter peak\",\"1430-1445\"],[\"Inter peak\",\"1445-1500\"],[\"Inter peak\",\"1500-1515\"],[\"Inter peak\",\"1515-1530\"],[\"Inter peak\",\"1530-1545\"],[\"Inter peak\",\"1545-1600\"],[\"PM Peak\",\"1600-1615\"],[\"PM Peak\",\"1615-1630\"],[\"PM Peak\",\"1630-1645\"],[\"PM Peak\",\"1645-1700\"],[\"PM Peak\",\"1700-1715\"],[\"PM Peak\",\"1715-1730\"],[\"PM Peak\",\"1730-1745\"],[\"PM Peak\",\"1745-1800\"],[\"PM Peak\",\"1800-1815\"],[\"PM Peak\",\"1815-1830\"],[\"PM Peak\",\"1830-1845\"],[\"PM Peak\",\"1845-1900\"],[\"Evening\",\"1900-1915\"],[\"Evening\",\"1915-1930\"],[\"Evening\",\"1930-1945\"],[\"Evening\",\"1945-2000\"],[\"Evening\",\"2000-2015\"],[\"Evening\",\"2015-2030\"],[\"Evening\",\"2030-2045\"],[\"Evening\",\"2045-2100\"],[\"Evening\",\"2100-2115\"],[\"Evening\",\"2115-2130\"],[\"Evening\",\"2130-2145\"],[\"Evening\",\"2145-2200\"],[\"Late\",\"2200-2215\"],[\"Late\",\"2215-2230\"],[\"Late\",\"2230-2245\"],[\"Late\",\"2245-2300\"],[\"Late\",\"2300-2315\"],[\"Late\",\"2315-2330\"],[\"Late\",\"2330-2345\"],[\"Late\",\"2345-2400\"],[\"Late\",\"0000-0015\"],[\"Late\",\"0015-0030\"],[\"Late\",\"0030-0045\"],[\"Late\",\"0045-0100\"],[\"Late\",\"0100-0115\"],[\"Late\",\"0115-0130\"],[\"Late\",\"0130-0145\"],[\"Late\",\"0145-0200\"]],\"range_padding\":0.1},\"id\":\"1461\",\"type\":\"FactorRange\"},{\"attributes\":{\"text\":\"Entry Vauxhall\"},\"id\":\"1463\",\"type\":\"Title\"},{\"attributes\":{\"format\":\"0.0%\"},\"id\":\"1492\",\"type\":\"NumeralTickFormatter\"},{\"attributes\":{},\"id\":\"1480\",\"type\":\"Range1d\"},{\"attributes\":{\"data\":{\"top\":[0,0,0,0,0,0,0,0,0,0,0,0,12,49,61,93,167,287,401,517,706,901,1132,1285,1585,1861,2010,1853,1653,1383,1096,814,693,638,579,491,457,470,465,455,454,480,477,458,449,465,461,436,438,455,461,471,508,565,611,707,826,934,983,1138,1322,1541,1693,1686,1515,1293,1096,878,722,597,481,399,350,308,277,246,233,227,223,214,214,206,196,178,172,151,136,109,88,54,27,11,12,12,9,5],\"x\":[[\"Early\",\"0200-0215\"],[\"Early\",\"0215-0230\"],[\"Early\",\"0230-0245\"],[\"Early\",\"0245-0300\"],[\"Early\",\"0300-0315\"],[\"Early\",\"0315-0330\"],[\"Early\",\"0330-0345\"],[\"Early\",\"0345-0400\"],[\"Early\",\"0400-0415\"],[\"Early\",\"0415-0430\"],[\"Early\",\"0430-0445\"],[\"Early\",\"0445-0500\"],[\"Early\",\"0500-0515\"],[\"Early\",\"0515-0530\"],[\"Early\",\"0530-0545\"],[\"Early\",\"0545-0600\"],[\"Early\",\"0600-0615\"],[\"Early\",\"0615-0630\"],[\"Early\",\"0630-0645\"],[\"Early\",\"0645-0700\"],[\"AM Peak\",\"0700-0715\"],[\"AM Peak\",\"0715-0730\"],[\"AM Peak\",\"0730-0745\"],[\"AM Peak\",\"0745-0800\"],[\"AM Peak\",\"0800-0815\"],[\"AM Peak\",\"0815-0830\"],[\"AM Peak\",\"0830-0845\"],[\"AM Peak\",\"0845-0900\"],[\"AM Peak\",\"0900-0915\"],[\"AM Peak\",\"0915-0930\"],[\"AM Peak\",\"0930-0945\"],[\"AM Peak\",\"0945-1000\"],[\"Inter peak\",\"1000-1015\"],[\"Inter peak\",\"1015-1030\"],[\"Inter peak\",\"1030-1045\"],[\"Inter peak\",\"1045-1100\"],[\"Inter peak\",\"1100-1115\"],[\"Inter peak\",\"1115-1130\"],[\"Inter peak\",\"1130-1145\"],[\"Inter peak\",\"1145-1200\"],[\"Inter peak\",\"1200-1215\"],[\"Inter peak\",\"1215-1230\"],[\"Inter peak\",\"1230-1245\"],[\"Inter peak\",\"1245-1300\"],[\"Inter peak\",\"1300-1315\"],[\"Inter peak\",\"1315-1330\"],[\"Inter peak\",\"1330-1345\"],[\"Inter peak\",\"1345-1400\"],[\"Inter peak\",\"1400-1415\"],[\"Inter peak\",\"1415-1430\"],[\"Inter peak\",\"1430-1445\"],[\"Inter peak\",\"1445-1500\"],[\"Inter peak\",\"1500-1515\"],[\"Inter peak\",\"1515-1530\"],[\"Inter peak\",\"1530-1545\"],[\"Inter peak\",\"1545-1600\"],[\"PM Peak\",\"1600-1615\"],[\"PM Peak\",\"1615-1630\"],[\"PM Peak\",\"1630-1645\"],[\"PM Peak\",\"1645-1700\"],[\"PM Peak\",\"1700-1715\"],[\"PM Peak\",\"1715-1730\"],[\"PM Peak\",\"1730-1745\"],[\"PM Peak\",\"1745-1800\"],[\"PM Peak\",\"1800-1815\"],[\"PM Peak\",\"1815-1830\"],[\"PM Peak\",\"1830-1845\"],[\"PM Peak\",\"1845-1900\"],[\"Evening\",\"1900-1915\"],[\"Evening\",\"1915-1930\"],[\"Evening\",\"1930-1945\"],[\"Evening\",\"1945-2000\"],[\"Evening\",\"2000-2015\"],[\"Evening\",\"2015-2030\"],[\"Evening\",\"2030-2045\"],[\"Evening\",\"2045-2100\"],[\"Evening\",\"2100-2115\"],[\"Evening\",\"2115-2130\"],[\"Evening\",\"2130-2145\"],[\"Evening\",\"2145-2200\"],[\"Late\",\"2200-2215\"],[\"Late\",\"2215-2230\"],[\"Late\",\"2230-2245\"],[\"Late\",\"2245-2300\"],[\"Late\",\"2300-2315\"],[\"Late\",\"2315-2330\"],[\"Late\",\"2330-2345\"],[\"Late\",\"2345-2400\"],[\"Late\",\"0000-0015\"],[\"Late\",\"0015-0030\"],[\"Late\",\"0030-0045\"],[\"Late\",\"0045-0100\"],[\"Late\",\"0100-0115\"],[\"Late\",\"0115-0130\"],[\"Late\",\"0130-0145\"],[\"Late\",\"0145-0200\"]]},\"selected\":{\"id\":\"1518\"},\"selection_policy\":{\"id\":\"1519\"}},\"id\":\"1482\",\"type\":\"ColumnDataSource\"},{\"attributes\":{\"line_alpha\":0.5,\"line_color\":\"orange\",\"line_width\":3,\"x\":{\"field\":\"x\"},\"y\":{\"field\":\"y\"}},\"id\":\"1488\",\"type\":\"Line\"},{\"attributes\":{\"data\":{\"x\":[[\"Early\",\"0200-0215\"],[\"Early\",\"0215-0230\"],[\"Early\",\"0230-0245\"],[\"Early\",\"0245-0300\"],[\"Early\",\"0300-0315\"],[\"Early\",\"0315-0330\"],[\"Early\",\"0330-0345\"],[\"Early\",\"0345-0400\"],[\"Early\",\"0400-0415\"],[\"Early\",\"0415-0430\"],[\"Early\",\"0430-0445\"],[\"Early\",\"0445-0500\"],[\"Early\",\"0500-0515\"],[\"Early\",\"0515-0530\"],[\"Early\",\"0530-0545\"],[\"Early\",\"0545-0600\"],[\"Early\",\"0600-0615\"],[\"Early\",\"0615-0630\"],[\"Early\",\"0630-0645\"],[\"Early\",\"0645-0700\"],[\"AM Peak\",\"0700-0715\"],[\"AM Peak\",\"0715-0730\"],[\"AM Peak\",\"0730-0745\"],[\"AM Peak\",\"0745-0800\"],[\"AM Peak\",\"0800-0815\"],[\"AM Peak\",\"0815-0830\"],[\"AM Peak\",\"0830-0845\"],[\"AM Peak\",\"0845-0900\"],[\"AM Peak\",\"0900-0915\"],[\"AM Peak\",\"0915-0930\"],[\"AM Peak\",\"0930-0945\"],[\"AM Peak\",\"0945-1000\"],[\"Inter peak\",\"1000-1015\"],[\"Inter peak\",\"1015-1030\"],[\"Inter peak\",\"1030-1045\"],[\"Inter peak\",\"1045-1100\"],[\"Inter peak\",\"1100-1115\"],[\"Inter peak\",\"1115-1130\"],[\"Inter peak\",\"1130-1145\"],[\"Inter peak\",\"1145-1200\"],[\"Inter peak\",\"1200-1215\"],[\"Inter peak\",\"1215-1230\"],[\"Inter peak\",\"1230-1245\"],[\"Inter peak\",\"1245-1300\"],[\"Inter peak\",\"1300-1315\"],[\"Inter peak\",\"1315-1330\"],[\"Inter peak\",\"1330-1345\"],[\"Inter peak\",\"1345-1400\"],[\"Inter peak\",\"1400-1415\"],[\"Inter peak\",\"1415-1430\"],[\"Inter peak\",\"1430-1445\"],[\"Inter peak\",\"1445-1500\"],[\"Inter peak\",\"1500-1515\"],[\"Inter peak\",\"1515-1530\"],[\"Inter peak\",\"1530-1545\"],[\"Inter peak\",\"1545-1600\"],[\"PM Peak\",\"1600-1615\"],[\"PM Peak\",\"1615-1630\"],[\"PM Peak\",\"1630-1645\"],[\"PM Peak\",\"1645-1700\"],[\"PM Peak\",\"1700-1715\"],[\"PM Peak\",\"1715-1730\"],[\"PM Peak\",\"1730-1745\"],[\"PM Peak\",\"1745-1800\"],[\"PM Peak\",\"1800-1815\"],[\"PM Peak\",\"1815-1830\"],[\"PM Peak\",\"1830-1845\"],[\"PM Peak\",\"1845-1900\"],[\"Evening\",\"1900-1915\"],[\"Evening\",\"1915-1930\"],[\"Evening\",\"1930-1945\"],[\"Evening\",\"1945-2000\"],[\"Evening\",\"2000-2015\"],[\"Evening\",\"2015-2030\"],[\"Evening\",\"2030-2045\"],[\"Evening\",\"2045-2100\"],[\"Evening\",\"2100-2115\"],[\"Evening\",\"2115-2130\"],[\"Evening\",\"2130-2145\"],[\"Evening\",\"2145-2200\"],[\"Late\",\"2200-2215\"],[\"Late\",\"2215-2230\"],[\"Late\",\"2230-2245\"],[\"Late\",\"2245-2300\"],[\"Late\",\"2300-2315\"],[\"Late\",\"2315-2330\"],[\"Late\",\"2330-2345\"],[\"Late\",\"2345-2400\"],[\"Late\",\"0000-0015\"],[\"Late\",\"0015-0030\"],[\"Late\",\"0030-0045\"],[\"Late\",\"0045-0100\"],[\"Late\",\"0100-0115\"],[\"Late\",\"0115-0130\"],[\"Late\",\"0130-0145\"],[\"Late\",\"0145-0200\"]],\"y\":[986,986,986,986,986,986,986,986,986,986,986,986,986,986,986,986,986,986,986,986,986,986,986,986,986,986,986,986,986,986,986,986,986,986,986,986,986,986,986,986,986,986,986,986,986,986,986,986,986,986,986,986,986,986,986,986,986,986,986,986,986,986,986,986,986,986,986,986,986,986,986,986,986,986,986,986,986,986,986,986,986,986,986,986,986,986,986,986,986,986,986,986,986,986,986,986]},\"selected\":{\"id\":\"1520\"},\"selection_policy\":{\"id\":\"1521\"}},\"id\":\"1487\",\"type\":\"ColumnDataSource\"},{\"attributes\":{},\"id\":\"1520\",\"type\":\"Selection\"},{\"attributes\":{},\"id\":\"1514\",\"type\":\"BasicTickFormatter\"},{\"attributes\":{},\"id\":\"1521\",\"type\":\"UnionRenderers\"},{\"attributes\":{\"axis\":{\"id\":\"1472\"},\"grid_line_color\":null,\"ticker\":null},\"id\":\"1474\",\"type\":\"Grid\"},{\"attributes\":{\"data_source\":{\"id\":\"1487\"},\"glyph\":{\"id\":\"1488\"},\"hover_glyph\":null,\"muted_glyph\":null,\"nonselection_glyph\":{\"id\":\"1489\"},\"selection_glyph\":null,\"view\":{\"id\":\"1491\"}},\"id\":\"1490\",\"type\":\"GlyphRenderer\"},{\"attributes\":{},\"id\":\"1473\",\"type\":\"CategoricalTicker\"},{\"attributes\":{\"axis_label\":\"Volume\",\"formatter\":{\"id\":\"1514\"},\"ticker\":{\"id\":\"1476\"}},\"id\":\"1475\",\"type\":\"LinearAxis\"},{\"attributes\":{},\"id\":\"1513\",\"type\":\"BasicTicker\"},{\"attributes\":{\"axis\":{\"id\":\"1475\"},\"dimension\":1,\"ticker\":null},\"id\":\"1478\",\"type\":\"Grid\"},{\"attributes\":{\"active_drag\":\"auto\",\"active_inspect\":\"auto\",\"active_multi\":null,\"active_scroll\":\"auto\",\"active_tap\":\"auto\"},\"id\":\"1479\",\"type\":\"Toolbar\"},{\"attributes\":{\"start\":0},\"id\":\"1466\",\"type\":\"DataRange1d\"},{\"attributes\":{\"line_alpha\":0.1,\"line_color\":\"orange\",\"line_width\":3,\"x\":{\"field\":\"x\"},\"y\":{\"field\":\"y\"}},\"id\":\"1489\",\"type\":\"Line\"},{\"attributes\":{},\"id\":\"1476\",\"type\":\"BasicTicker\"},{\"attributes\":{\"source\":{\"id\":\"1487\"}},\"id\":\"1491\",\"type\":\"CDSView\"}],\"root_ids\":[\"1462\"]},\"title\":\"Bokeh Application\",\"version\":\"2.0.1\"}};\n",
       "  var render_items = [{\"docid\":\"58bb4889-fa79-4bdd-b6ab-e37c7b4eec75\",\"notebook_comms_target\":\"1522\",\"root_ids\":[\"1462\"],\"roots\":{\"1462\":\"71cd0916-0945-4e87-8ee3-48032f64610b\"}}];\n",
       "  root.Bokeh.embed.embed_items_notebook(docs_json, render_items);\n",
       "\n",
       "  }\n",
       "  if (root.Bokeh !== undefined) {\n",
       "    embed_document(root);\n",
       "  } else {\n",
       "    var attempts = 0;\n",
       "    var timer = setInterval(function(root) {\n",
       "      if (root.Bokeh !== undefined) {\n",
       "        clearInterval(timer);\n",
       "        embed_document(root);\n",
       "      } else {\n",
       "        attempts++;\n",
       "        if (attempts > 100) {\n",
       "          clearInterval(timer);\n",
       "          console.log(\"Bokeh: ERROR: Unable to run BokehJS code because BokehJS library is missing\");\n",
       "        }\n",
       "      }\n",
       "    }, 10, root)\n",
       "  }\n",
       "})(window);"
      ],
      "application/vnd.bokehjs_exec.v0+json": ""
     },
     "metadata": {
      "application/vnd.bokehjs_exec.v0+json": {
       "id": "1462"
      }
     },
     "output_type": "display_data"
    },
    {
     "data": {
      "text/html": [
       "<p><code>&lt;Bokeh Notebook handle for <strong>In[30]</strong>&gt;</code></p>"
      ],
      "text/plain": [
       "<bokeh.io.notebook.CommsHandle at 0x11bda7670>"
      ]
     },
     "execution_count": 30,
     "metadata": {},
     "output_type": "execute_result"
    }
   ],
   "source": [
    "\n",
    "x_hours = COLUMNS_HOURS\n",
    "y_counts_ent = vauxhall_ent[COLUMNS_HOURS].values[0]\n",
    "\n",
    "total = vauxhall_ent[COLUMNS_HOURS].values[0].sum()\n",
    "y_counts_2_ent = vauxhall_ent[COLUMNS_HOURS].values[0]/total\n",
    "##\n",
    "p = figure(x_range=FactorRange(*factors_ent), \n",
    "           plot_height=500,\n",
    "           plot_width=1200,\n",
    "           toolbar_location=None,\n",
    "           title='Entry Vauxhall',\n",
    "           tools=\"\")\n",
    "\n",
    "\n",
    "\n",
    "\n",
    "# Setting the second y axis range name and range\n",
    "p.extra_y_ranges = {\"foo\": Range1d(start=0, end=1)}\n",
    "p.add_layout(LinearAxis(y_range_name=\"foo\"), 'right')\n",
    "\n",
    "# p.vbar(x=factors_ent,\n",
    "#        color='orange', \n",
    "#        y_range_name=\"foo\",\n",
    "#        top=y_counts_2,\n",
    "#        alpha=0.5,\n",
    "#        width=0.5)\n",
    "\n",
    "p.vbar(x=factors_ent,\n",
    "       top=y_counts_ent,\n",
    "       fill_color= '#395036',\n",
    "       line_color= '#395036',\n",
    "       #alpha=0.3,\n",
    "       width=0.5)\n",
    "\n",
    "cte = [986] * len(y_counts_ent)\n",
    "p.line(x=factors_ent, y=cte , color=\"orange\", line_width=3,alpha=0.5)\n",
    "\n",
    "p.xaxis.axis_label = 'Time Quarter'\n",
    "p.yaxis[0].axis_label = 'Volume'\n",
    "p.yaxis[1].axis_label = 'Percentage'\n",
    "p.yaxis[1].formatter = NumeralTickFormatter(format=\"0.0%\")\n",
    "p.y_range.start = 0\n",
    "p.x_range.range_padding = 0.1\n",
    "p.xaxis.major_label_orientation = 1.5\n",
    "p.xgrid.grid_line_color = None\n",
    "#p.xgrid= None\n",
    "\n",
    "# save plot\n",
    "# export_png(obj=p,filename= \"plots/entrance_vauxhall_station.png\")\n",
    "\n",
    "#show plot\n",
    "show(p, notebook_handle=True)"
   ]
  },
  {
   "cell_type": "code",
   "execution_count": 31,
   "metadata": {},
   "outputs": [
    {
     "data": {
      "text/html": [
       "\n",
       "\n",
       "\n",
       "\n",
       "\n",
       "\n",
       "  <div class=\"bk-root\" id=\"1416d6b2-b677-460b-8bd5-f9b0c401106e\" data-root-id=\"1584\"></div>\n"
      ]
     },
     "metadata": {},
     "output_type": "display_data"
    },
    {
     "data": {
      "application/javascript": [
       "(function(root) {\n",
       "  function embed_document(root) {\n",
       "    \n",
       "  var docs_json = {\"d86fba86-4e43-425f-9bd7-a475e5942266\":{\"roots\":{\"references\":[{\"attributes\":{\"below\":[{\"id\":\"1594\"}],\"center\":[{\"id\":\"1596\"},{\"id\":\"1600\"}],\"extra_y_ranges\":{\"foo\":{\"id\":\"1602\"}},\"left\":[{\"id\":\"1597\"}],\"plot_height\":500,\"plot_width\":1500,\"renderers\":[{\"id\":\"1607\"},{\"id\":\"1612\"}],\"right\":[{\"id\":\"1603\"}],\"title\":{\"id\":\"1585\"},\"toolbar\":{\"id\":\"1601\"},\"toolbar_location\":null,\"x_range\":{\"id\":\"1583\"},\"x_scale\":{\"id\":\"1590\"},\"y_range\":{\"id\":\"1588\"},\"y_scale\":{\"id\":\"1592\"}},\"id\":\"1584\",\"subtype\":\"Figure\",\"type\":\"Plot\"},{\"attributes\":{\"line_alpha\":0.4,\"line_color\":\"blue\",\"line_width\":2,\"x\":{\"field\":\"x\"},\"y\":{\"field\":\"y\"}},\"id\":\"1610\",\"type\":\"Line\"},{\"attributes\":{},\"id\":\"1645\",\"type\":\"BasicTicker\"},{\"attributes\":{},\"id\":\"1595\",\"type\":\"CategoricalTicker\"},{\"attributes\":{},\"id\":\"1652\",\"type\":\"Selection\"},{\"attributes\":{\"fill_alpha\":{\"value\":0.1},\"fill_color\":{\"value\":\"red\"},\"line_alpha\":{\"value\":0.1},\"top\":{\"field\":\"top\"},\"width\":{\"value\":0.5},\"x\":{\"field\":\"x\"}},\"id\":\"1606\",\"type\":\"VBar\"},{\"attributes\":{\"axis\":{\"id\":\"1594\"},\"grid_line_color\":null,\"ticker\":null},\"id\":\"1596\",\"type\":\"Grid\"},{\"attributes\":{\"source\":{\"id\":\"1609\"}},\"id\":\"1613\",\"type\":\"CDSView\"},{\"attributes\":{\"data\":{\"top\":[0,0,0,0,0,0,0,0,0,0,0,0,0,10,45,122,247,454,722,964,1140,1229,1240,1162,1119,1123,1178,1163,1042,861,713,581,441,350,319,310,294,280,282,298,307,319,325,334,350,371,383,375,355,371,400,398,400,436,465,471,550,649,718,745,873,1014,1172,1246,1329,1317,1263,1140,1008,871,751,660,586,551,535,507,486,470,450,421,414,432,461,464,419,364,309,267,197,137,79,48,23,19,14,6],\"x\":[[\"Early\",\"0200-0215\"],[\"Early\",\"0215-0230\"],[\"Early\",\"0230-0245\"],[\"Early\",\"0245-0300\"],[\"Early\",\"0300-0315\"],[\"Early\",\"0315-0330\"],[\"Early\",\"0330-0345\"],[\"Early\",\"0345-0400\"],[\"Early\",\"0400-0415\"],[\"Early\",\"0415-0430\"],[\"Early\",\"0430-0445\"],[\"Early\",\"0445-0500\"],[\"Early\",\"0500-0515\"],[\"Early\",\"0515-0530\"],[\"Early\",\"0530-0545\"],[\"Early\",\"0545-0600\"],[\"Early\",\"0600-0615\"],[\"Early\",\"0615-0630\"],[\"Early\",\"0630-0645\"],[\"Early\",\"0645-0700\"],[\"AM Peak\",\"0700-0715\"],[\"AM Peak\",\"0715-0730\"],[\"AM Peak\",\"0730-0745\"],[\"AM Peak\",\"0745-0800\"],[\"AM Peak\",\"0800-0815\"],[\"AM Peak\",\"0815-0830\"],[\"AM Peak\",\"0830-0845\"],[\"AM Peak\",\"0845-0900\"],[\"AM Peak\",\"0900-0915\"],[\"AM Peak\",\"0915-0930\"],[\"AM Peak\",\"0930-0945\"],[\"AM Peak\",\"0945-1000\"],[\"Inter peak\",\"1000-1015\"],[\"Inter peak\",\"1015-1030\"],[\"Inter peak\",\"1030-1045\"],[\"Inter peak\",\"1045-1100\"],[\"Inter peak\",\"1100-1115\"],[\"Inter peak\",\"1115-1130\"],[\"Inter peak\",\"1130-1145\"],[\"Inter peak\",\"1145-1200\"],[\"Inter peak\",\"1200-1215\"],[\"Inter peak\",\"1215-1230\"],[\"Inter peak\",\"1230-1245\"],[\"Inter peak\",\"1245-1300\"],[\"Inter peak\",\"1300-1315\"],[\"Inter peak\",\"1315-1330\"],[\"Inter peak\",\"1330-1345\"],[\"Inter peak\",\"1345-1400\"],[\"Inter peak\",\"1400-1415\"],[\"Inter peak\",\"1415-1430\"],[\"Inter peak\",\"1430-1445\"],[\"Inter peak\",\"1445-1500\"],[\"Inter peak\",\"1500-1515\"],[\"Inter peak\",\"1515-1530\"],[\"Inter peak\",\"1530-1545\"],[\"Inter peak\",\"1545-1600\"],[\"PM Peak\",\"1600-1615\"],[\"PM Peak\",\"1615-1630\"],[\"PM Peak\",\"1630-1645\"],[\"PM Peak\",\"1645-1700\"],[\"PM Peak\",\"1700-1715\"],[\"PM Peak\",\"1715-1730\"],[\"PM Peak\",\"1730-1745\"],[\"PM Peak\",\"1745-1800\"],[\"PM Peak\",\"1800-1815\"],[\"PM Peak\",\"1815-1830\"],[\"PM Peak\",\"1830-1845\"],[\"PM Peak\",\"1845-1900\"],[\"Evening\",\"1900-1915\"],[\"Evening\",\"1915-1930\"],[\"Evening\",\"1930-1945\"],[\"Evening\",\"1945-2000\"],[\"Evening\",\"2000-2015\"],[\"Evening\",\"2015-2030\"],[\"Evening\",\"2030-2045\"],[\"Evening\",\"2045-2100\"],[\"Evening\",\"2100-2115\"],[\"Evening\",\"2115-2130\"],[\"Evening\",\"2130-2145\"],[\"Evening\",\"2145-2200\"],[\"Late\",\"2200-2215\"],[\"Late\",\"2215-2230\"],[\"Late\",\"2230-2245\"],[\"Late\",\"2245-2300\"],[\"Late\",\"2300-2315\"],[\"Late\",\"2315-2330\"],[\"Late\",\"2330-2345\"],[\"Late\",\"2345-2400\"],[\"Late\",\"0000-0015\"],[\"Late\",\"0015-0030\"],[\"Late\",\"0030-0045\"],[\"Late\",\"0045-0100\"],[\"Late\",\"0100-0115\"],[\"Late\",\"0115-0130\"],[\"Late\",\"0130-0145\"],[\"Late\",\"0145-0200\"]]},\"selected\":{\"id\":\"1650\"},\"selection_policy\":{\"id\":\"1651\"}},\"id\":\"1604\",\"type\":\"ColumnDataSource\"},{\"attributes\":{\"line_alpha\":0.1,\"line_color\":\"blue\",\"line_width\":2,\"x\":{\"field\":\"x\"},\"y\":{\"field\":\"y\"}},\"id\":\"1611\",\"type\":\"Line\"},{\"attributes\":{},\"id\":\"1653\",\"type\":\"UnionRenderers\"},{\"attributes\":{\"axis_label\":\"time Quarter\",\"formatter\":{\"id\":\"1648\"},\"major_label_orientation\":1.5,\"ticker\":{\"id\":\"1595\"}},\"id\":\"1594\",\"type\":\"CategoricalAxis\"},{\"attributes\":{\"data\":{\"x\":[[\"Early\",\"0200-0215\"],[\"Early\",\"0215-0230\"],[\"Early\",\"0230-0245\"],[\"Early\",\"0245-0300\"],[\"Early\",\"0300-0315\"],[\"Early\",\"0315-0330\"],[\"Early\",\"0330-0345\"],[\"Early\",\"0345-0400\"],[\"Early\",\"0400-0415\"],[\"Early\",\"0415-0430\"],[\"Early\",\"0430-0445\"],[\"Early\",\"0445-0500\"],[\"Early\",\"0500-0515\"],[\"Early\",\"0515-0530\"],[\"Early\",\"0530-0545\"],[\"Early\",\"0545-0600\"],[\"Early\",\"0600-0615\"],[\"Early\",\"0615-0630\"],[\"Early\",\"0630-0645\"],[\"Early\",\"0645-0700\"],[\"AM Peak\",\"0700-0715\"],[\"AM Peak\",\"0715-0730\"],[\"AM Peak\",\"0730-0745\"],[\"AM Peak\",\"0745-0800\"],[\"AM Peak\",\"0800-0815\"],[\"AM Peak\",\"0815-0830\"],[\"AM Peak\",\"0830-0845\"],[\"AM Peak\",\"0845-0900\"],[\"AM Peak\",\"0900-0915\"],[\"AM Peak\",\"0915-0930\"],[\"AM Peak\",\"0930-0945\"],[\"AM Peak\",\"0945-1000\"],[\"Inter peak\",\"1000-1015\"],[\"Inter peak\",\"1015-1030\"],[\"Inter peak\",\"1030-1045\"],[\"Inter peak\",\"1045-1100\"],[\"Inter peak\",\"1100-1115\"],[\"Inter peak\",\"1115-1130\"],[\"Inter peak\",\"1130-1145\"],[\"Inter peak\",\"1145-1200\"],[\"Inter peak\",\"1200-1215\"],[\"Inter peak\",\"1215-1230\"],[\"Inter peak\",\"1230-1245\"],[\"Inter peak\",\"1245-1300\"],[\"Inter peak\",\"1300-1315\"],[\"Inter peak\",\"1315-1330\"],[\"Inter peak\",\"1330-1345\"],[\"Inter peak\",\"1345-1400\"],[\"Inter peak\",\"1400-1415\"],[\"Inter peak\",\"1415-1430\"],[\"Inter peak\",\"1430-1445\"],[\"Inter peak\",\"1445-1500\"],[\"Inter peak\",\"1500-1515\"],[\"Inter peak\",\"1515-1530\"],[\"Inter peak\",\"1530-1545\"],[\"Inter peak\",\"1545-1600\"],[\"PM Peak\",\"1600-1615\"],[\"PM Peak\",\"1615-1630\"],[\"PM Peak\",\"1630-1645\"],[\"PM Peak\",\"1645-1700\"],[\"PM Peak\",\"1700-1715\"],[\"PM Peak\",\"1715-1730\"],[\"PM Peak\",\"1730-1745\"],[\"PM Peak\",\"1745-1800\"],[\"PM Peak\",\"1800-1815\"],[\"PM Peak\",\"1815-1830\"],[\"PM Peak\",\"1830-1845\"],[\"PM Peak\",\"1845-1900\"],[\"Evening\",\"1900-1915\"],[\"Evening\",\"1915-1930\"],[\"Evening\",\"1930-1945\"],[\"Evening\",\"1945-2000\"],[\"Evening\",\"2000-2015\"],[\"Evening\",\"2015-2030\"],[\"Evening\",\"2030-2045\"],[\"Evening\",\"2045-2100\"],[\"Evening\",\"2100-2115\"],[\"Evening\",\"2115-2130\"],[\"Evening\",\"2130-2145\"],[\"Evening\",\"2145-2200\"],[\"Late\",\"2200-2215\"],[\"Late\",\"2215-2230\"],[\"Late\",\"2230-2245\"],[\"Late\",\"2245-2300\"],[\"Late\",\"2300-2315\"],[\"Late\",\"2315-2330\"],[\"Late\",\"2330-2345\"],[\"Late\",\"2345-2400\"],[\"Late\",\"0000-0015\"],[\"Late\",\"0015-0030\"],[\"Late\",\"0030-0045\"],[\"Late\",\"0045-0100\"],[\"Late\",\"0100-0115\"],[\"Late\",\"0115-0130\"],[\"Late\",\"0130-0145\"],[\"Late\",\"0145-0200\"]],\"y\":[0,0,0,0,0,0,0,0,0,0,0,0,0,10,45,122,247,454,722,964,1140,1229,1240,1162,1119,1123,1178,1163,1042,861,713,581,441,350,319,310,294,280,282,298,307,319,325,334,350,371,383,375,355,371,400,398,400,436,465,471,550,649,718,745,873,1014,1172,1246,1329,1317,1263,1140,1008,871,751,660,586,551,535,507,486,470,450,421,414,432,461,464,419,364,309,267,197,137,79,48,23,19,14,6]},\"selected\":{\"id\":\"1652\"},\"selection_policy\":{\"id\":\"1653\"}},\"id\":\"1609\",\"type\":\"ColumnDataSource\"},{\"attributes\":{\"axis\":{\"id\":\"1597\"},\"dimension\":1,\"ticker\":null},\"id\":\"1600\",\"type\":\"Grid\"},{\"attributes\":{\"format\":\"0.0%\"},\"id\":\"1614\",\"type\":\"NumeralTickFormatter\"},{\"attributes\":{},\"id\":\"1598\",\"type\":\"BasicTicker\"},{\"attributes\":{\"source\":{\"id\":\"1604\"}},\"id\":\"1608\",\"type\":\"CDSView\"},{\"attributes\":{\"axis_label\":\"Percentage\",\"formatter\":{\"id\":\"1614\"},\"ticker\":{\"id\":\"1645\"},\"y_range_name\":\"foo\"},\"id\":\"1603\",\"type\":\"LinearAxis\"},{\"attributes\":{\"active_drag\":\"auto\",\"active_inspect\":\"auto\",\"active_multi\":null,\"active_scroll\":\"auto\",\"active_tap\":\"auto\"},\"id\":\"1601\",\"type\":\"Toolbar\"},{\"attributes\":{},\"id\":\"1592\",\"type\":\"LinearScale\"},{\"attributes\":{},\"id\":\"1646\",\"type\":\"BasicTickFormatter\"},{\"attributes\":{},\"id\":\"1648\",\"type\":\"CategoricalTickFormatter\"},{\"attributes\":{\"data_source\":{\"id\":\"1604\"},\"glyph\":{\"id\":\"1605\"},\"hover_glyph\":null,\"muted_glyph\":null,\"nonselection_glyph\":{\"id\":\"1606\"},\"selection_glyph\":null,\"view\":{\"id\":\"1608\"}},\"id\":\"1607\",\"type\":\"GlyphRenderer\"},{\"attributes\":{\"axis_label\":\"Volume\",\"formatter\":{\"id\":\"1646\"},\"ticker\":{\"id\":\"1598\"}},\"id\":\"1597\",\"type\":\"LinearAxis\"},{\"attributes\":{\"text\":\"Exit Vauxhall\"},\"id\":\"1585\",\"type\":\"Title\"},{\"attributes\":{},\"id\":\"1602\",\"type\":\"Range1d\"},{\"attributes\":{\"data_source\":{\"id\":\"1609\"},\"glyph\":{\"id\":\"1610\"},\"hover_glyph\":null,\"muted_glyph\":null,\"nonselection_glyph\":{\"id\":\"1611\"},\"selection_glyph\":null,\"view\":{\"id\":\"1613\"}},\"id\":\"1612\",\"type\":\"GlyphRenderer\"},{\"attributes\":{\"fill_alpha\":{\"value\":0.3},\"fill_color\":{\"value\":\"red\"},\"line_alpha\":{\"value\":0.3},\"top\":{\"field\":\"top\"},\"width\":{\"value\":0.5},\"x\":{\"field\":\"x\"}},\"id\":\"1605\",\"type\":\"VBar\"},{\"attributes\":{\"start\":0},\"id\":\"1588\",\"type\":\"DataRange1d\"},{\"attributes\":{\"factors\":[[\"Early\",\"0200-0215\"],[\"Early\",\"0215-0230\"],[\"Early\",\"0230-0245\"],[\"Early\",\"0245-0300\"],[\"Early\",\"0300-0315\"],[\"Early\",\"0315-0330\"],[\"Early\",\"0330-0345\"],[\"Early\",\"0345-0400\"],[\"Early\",\"0400-0415\"],[\"Early\",\"0415-0430\"],[\"Early\",\"0430-0445\"],[\"Early\",\"0445-0500\"],[\"Early\",\"0500-0515\"],[\"Early\",\"0515-0530\"],[\"Early\",\"0530-0545\"],[\"Early\",\"0545-0600\"],[\"Early\",\"0600-0615\"],[\"Early\",\"0615-0630\"],[\"Early\",\"0630-0645\"],[\"Early\",\"0645-0700\"],[\"AM Peak\",\"0700-0715\"],[\"AM Peak\",\"0715-0730\"],[\"AM Peak\",\"0730-0745\"],[\"AM Peak\",\"0745-0800\"],[\"AM Peak\",\"0800-0815\"],[\"AM Peak\",\"0815-0830\"],[\"AM Peak\",\"0830-0845\"],[\"AM Peak\",\"0845-0900\"],[\"AM Peak\",\"0900-0915\"],[\"AM Peak\",\"0915-0930\"],[\"AM Peak\",\"0930-0945\"],[\"AM Peak\",\"0945-1000\"],[\"Inter peak\",\"1000-1015\"],[\"Inter peak\",\"1015-1030\"],[\"Inter peak\",\"1030-1045\"],[\"Inter peak\",\"1045-1100\"],[\"Inter peak\",\"1100-1115\"],[\"Inter peak\",\"1115-1130\"],[\"Inter peak\",\"1130-1145\"],[\"Inter peak\",\"1145-1200\"],[\"Inter peak\",\"1200-1215\"],[\"Inter peak\",\"1215-1230\"],[\"Inter peak\",\"1230-1245\"],[\"Inter peak\",\"1245-1300\"],[\"Inter peak\",\"1300-1315\"],[\"Inter peak\",\"1315-1330\"],[\"Inter peak\",\"1330-1345\"],[\"Inter peak\",\"1345-1400\"],[\"Inter peak\",\"1400-1415\"],[\"Inter peak\",\"1415-1430\"],[\"Inter peak\",\"1430-1445\"],[\"Inter peak\",\"1445-1500\"],[\"Inter peak\",\"1500-1515\"],[\"Inter peak\",\"1515-1530\"],[\"Inter peak\",\"1530-1545\"],[\"Inter peak\",\"1545-1600\"],[\"PM Peak\",\"1600-1615\"],[\"PM Peak\",\"1615-1630\"],[\"PM Peak\",\"1630-1645\"],[\"PM Peak\",\"1645-1700\"],[\"PM Peak\",\"1700-1715\"],[\"PM Peak\",\"1715-1730\"],[\"PM Peak\",\"1730-1745\"],[\"PM Peak\",\"1745-1800\"],[\"PM Peak\",\"1800-1815\"],[\"PM Peak\",\"1815-1830\"],[\"PM Peak\",\"1830-1845\"],[\"PM Peak\",\"1845-1900\"],[\"Evening\",\"1900-1915\"],[\"Evening\",\"1915-1930\"],[\"Evening\",\"1930-1945\"],[\"Evening\",\"1945-2000\"],[\"Evening\",\"2000-2015\"],[\"Evening\",\"2015-2030\"],[\"Evening\",\"2030-2045\"],[\"Evening\",\"2045-2100\"],[\"Evening\",\"2100-2115\"],[\"Evening\",\"2115-2130\"],[\"Evening\",\"2130-2145\"],[\"Evening\",\"2145-2200\"],[\"Late\",\"2200-2215\"],[\"Late\",\"2215-2230\"],[\"Late\",\"2230-2245\"],[\"Late\",\"2245-2300\"],[\"Late\",\"2300-2315\"],[\"Late\",\"2315-2330\"],[\"Late\",\"2330-2345\"],[\"Late\",\"2345-2400\"],[\"Late\",\"0000-0015\"],[\"Late\",\"0015-0030\"],[\"Late\",\"0030-0045\"],[\"Late\",\"0045-0100\"],[\"Late\",\"0100-0115\"],[\"Late\",\"0115-0130\"],[\"Late\",\"0130-0145\"],[\"Late\",\"0145-0200\"]],\"range_padding\":0.1},\"id\":\"1583\",\"type\":\"FactorRange\"},{\"attributes\":{},\"id\":\"1650\",\"type\":\"Selection\"},{\"attributes\":{},\"id\":\"1651\",\"type\":\"UnionRenderers\"},{\"attributes\":{},\"id\":\"1590\",\"type\":\"CategoricalScale\"}],\"root_ids\":[\"1584\"]},\"title\":\"Bokeh Application\",\"version\":\"2.0.1\"}};\n",
       "  var render_items = [{\"docid\":\"d86fba86-4e43-425f-9bd7-a475e5942266\",\"notebook_comms_target\":\"1654\",\"root_ids\":[\"1584\"],\"roots\":{\"1584\":\"1416d6b2-b677-460b-8bd5-f9b0c401106e\"}}];\n",
       "  root.Bokeh.embed.embed_items_notebook(docs_json, render_items);\n",
       "\n",
       "  }\n",
       "  if (root.Bokeh !== undefined) {\n",
       "    embed_document(root);\n",
       "  } else {\n",
       "    var attempts = 0;\n",
       "    var timer = setInterval(function(root) {\n",
       "      if (root.Bokeh !== undefined) {\n",
       "        clearInterval(timer);\n",
       "        embed_document(root);\n",
       "      } else {\n",
       "        attempts++;\n",
       "        if (attempts > 100) {\n",
       "          clearInterval(timer);\n",
       "          console.log(\"Bokeh: ERROR: Unable to run BokehJS code because BokehJS library is missing\");\n",
       "        }\n",
       "      }\n",
       "    }, 10, root)\n",
       "  }\n",
       "})(window);"
      ],
      "application/vnd.bokehjs_exec.v0+json": ""
     },
     "metadata": {
      "application/vnd.bokehjs_exec.v0+json": {
       "id": "1584"
      }
     },
     "output_type": "display_data"
    },
    {
     "data": {
      "text/html": [
       "<p><code>&lt;Bokeh Notebook handle for <strong>In[31]</strong>&gt;</code></p>"
      ],
      "text/plain": [
       "<bokeh.io.notebook.CommsHandle at 0x11b3d1fa0>"
      ]
     },
     "execution_count": 31,
     "metadata": {},
     "output_type": "execute_result"
    }
   ],
   "source": [
    "##\n",
    "x_hours = COLUMNS_HOURS\n",
    "y_counts_ext = vauxhall_ext[COLUMNS_HOURS].values[0]\n",
    "\n",
    "\n",
    "##\n",
    "p_ext = figure(x_range=FactorRange(*factors_ext), \n",
    "           plot_height=500,\n",
    "           plot_width=1500,\n",
    "           toolbar_location=None,\n",
    "           title='Exit Vauxhall',\n",
    "           tools=\"\")\n",
    "\n",
    "\n",
    "\n",
    "total = np.sum(y_counts_ext)\n",
    "y_counts_2_ext = y_counts_ext/total\n",
    "\n",
    "\n",
    "# Setting the second y axis range name and range\n",
    "p_ext.extra_y_ranges = {\"foo\": Range1d(start=0, end=1)}\n",
    "p_ext.add_layout(LinearAxis(y_range_name=\"foo\"), 'right')\n",
    "\n",
    "\n",
    "p_ext.vbar(x=factors_ext,\n",
    "       top=y_counts_ext,\n",
    "       alpha=0.3,\n",
    "       fill_color='red',\n",
    "       line_color='black',\n",
    "       width=0.5)\n",
    "\n",
    "p_ext.line(x=factors_ext, y=y_counts_ext , color=\"blue\", line_width=2,alpha=0.4)\n",
    "\n",
    "p_ext.xaxis.axis_label = 'time Quarter'\n",
    "p_ext.yaxis[0].axis_label = 'Volume'\n",
    "p_ext.yaxis[1].axis_label = 'Percentage'\n",
    "p_ext.yaxis[1].formatter = NumeralTickFormatter(format=\"0.0%\")\n",
    "p_ext.y_range.start = 0\n",
    "p_ext.x_range.range_padding = 0.1\n",
    "p_ext.xaxis.major_label_orientation = 1.5\n",
    "p_ext.xgrid.grid_line_color = None\n",
    "\n",
    "show(p_ext, notebook_handle=True)"
   ]
  },
  {
   "cell_type": "code",
   "execution_count": 32,
   "metadata": {},
   "outputs": [
    {
     "data": {
      "text/html": [
       "\n",
       "\n",
       "\n",
       "\n",
       "\n",
       "\n",
       "  <div class=\"bk-root\" id=\"95d0a875-6934-4314-b594-04f7622d7d45\" data-root-id=\"1717\"></div>\n"
      ]
     },
     "metadata": {},
     "output_type": "display_data"
    },
    {
     "data": {
      "application/javascript": [
       "(function(root) {\n",
       "  function embed_document(root) {\n",
       "    \n",
       "  var docs_json = {\"efafd0aa-8ad8-41dc-bfa2-8b4cd0f73ef6\":{\"roots\":{\"references\":[{\"attributes\":{\"below\":[{\"id\":\"1727\"}],\"center\":[{\"id\":\"1729\"},{\"id\":\"1733\"},{\"id\":\"1746\"}],\"left\":[{\"id\":\"1730\"}],\"plot_height\":500,\"plot_width\":1300,\"renderers\":[{\"id\":\"1739\"},{\"id\":\"1752\"}],\"title\":{\"id\":\"1718\"},\"toolbar\":{\"id\":\"1734\"},\"toolbar_location\":null,\"x_range\":{\"id\":\"1716\"},\"x_scale\":{\"id\":\"1723\"},\"y_range\":{\"id\":\"1721\"},\"y_scale\":{\"id\":\"1725\"}},\"id\":\"1717\",\"subtype\":\"Figure\",\"type\":\"Plot\"},{\"attributes\":{},\"id\":\"1744\",\"type\":\"CategoricalTickFormatter\"},{\"attributes\":{\"label\":{\"value\":\"Exit\"},\"renderers\":[{\"id\":\"1752\"}]},\"id\":\"1761\",\"type\":\"LegendItem\"},{\"attributes\":{\"data_source\":{\"id\":\"1715\"},\"glyph\":{\"id\":\"1750\"},\"hover_glyph\":null,\"muted_glyph\":null,\"nonselection_glyph\":{\"id\":\"1751\"},\"selection_glyph\":null,\"view\":{\"id\":\"1753\"}},\"id\":\"1752\",\"type\":\"GlyphRenderer\"},{\"attributes\":{\"fill_alpha\":{\"value\":0.4},\"fill_color\":{\"value\":\"orange\"},\"line_alpha\":{\"value\":0.4},\"line_color\":{\"value\":\"orange\"},\"top\":{\"field\":\"Entrance\"},\"width\":{\"value\":0.4},\"x\":{\"field\":\"time\",\"transform\":{\"id\":\"1735\"}}},\"id\":\"1737\",\"type\":\"VBar\"},{\"attributes\":{\"source\":{\"id\":\"1715\"}},\"id\":\"1740\",\"type\":\"CDSView\"},{\"attributes\":{},\"id\":\"1759\",\"type\":\"Selection\"},{\"attributes\":{\"fill_alpha\":{\"value\":0.1},\"fill_color\":{\"value\":\"orange\"},\"line_alpha\":{\"value\":0.1},\"line_color\":{\"value\":\"orange\"},\"top\":{\"field\":\"Entrance\"},\"width\":{\"value\":0.4},\"x\":{\"field\":\"time\",\"transform\":{\"id\":\"1735\"}}},\"id\":\"1738\",\"type\":\"VBar\"},{\"attributes\":{},\"id\":\"1728\",\"type\":\"CategoricalTicker\"},{\"attributes\":{\"factors\":[[\"Early\",\"0200-0215\"],[\"Early\",\"0215-0230\"],[\"Early\",\"0230-0245\"],[\"Early\",\"0245-0300\"],[\"Early\",\"0300-0315\"],[\"Early\",\"0315-0330\"],[\"Early\",\"0330-0345\"],[\"Early\",\"0345-0400\"],[\"Early\",\"0400-0415\"],[\"Early\",\"0415-0430\"],[\"Early\",\"0430-0445\"],[\"Early\",\"0445-0500\"],[\"Early\",\"0500-0515\"],[\"Early\",\"0515-0530\"],[\"Early\",\"0530-0545\"],[\"Early\",\"0545-0600\"],[\"Early\",\"0600-0615\"],[\"Early\",\"0615-0630\"],[\"Early\",\"0630-0645\"],[\"Early\",\"0645-0700\"],[\"AM Peak\",\"0700-0715\"],[\"AM Peak\",\"0715-0730\"],[\"AM Peak\",\"0730-0745\"],[\"AM Peak\",\"0745-0800\"],[\"AM Peak\",\"0800-0815\"],[\"AM Peak\",\"0815-0830\"],[\"AM Peak\",\"0830-0845\"],[\"AM Peak\",\"0845-0900\"],[\"AM Peak\",\"0900-0915\"],[\"AM Peak\",\"0915-0930\"],[\"AM Peak\",\"0930-0945\"],[\"AM Peak\",\"0945-1000\"],[\"Inter peak\",\"1000-1015\"],[\"Inter peak\",\"1015-1030\"],[\"Inter peak\",\"1030-1045\"],[\"Inter peak\",\"1045-1100\"],[\"Inter peak\",\"1100-1115\"],[\"Inter peak\",\"1115-1130\"],[\"Inter peak\",\"1130-1145\"],[\"Inter peak\",\"1145-1200\"],[\"Inter peak\",\"1200-1215\"],[\"Inter peak\",\"1215-1230\"],[\"Inter peak\",\"1230-1245\"],[\"Inter peak\",\"1245-1300\"],[\"Inter peak\",\"1300-1315\"],[\"Inter peak\",\"1315-1330\"],[\"Inter peak\",\"1330-1345\"],[\"Inter peak\",\"1345-1400\"],[\"Inter peak\",\"1400-1415\"],[\"Inter peak\",\"1415-1430\"],[\"Inter peak\",\"1430-1445\"],[\"Inter peak\",\"1445-1500\"],[\"Inter peak\",\"1500-1515\"],[\"Inter peak\",\"1515-1530\"],[\"Inter peak\",\"1530-1545\"],[\"Inter peak\",\"1545-1600\"],[\"PM Peak\",\"1600-1615\"],[\"PM Peak\",\"1615-1630\"],[\"PM Peak\",\"1630-1645\"],[\"PM Peak\",\"1645-1700\"],[\"PM Peak\",\"1700-1715\"],[\"PM Peak\",\"1715-1730\"],[\"PM Peak\",\"1730-1745\"],[\"PM Peak\",\"1745-1800\"],[\"PM Peak\",\"1800-1815\"],[\"PM Peak\",\"1815-1830\"],[\"PM Peak\",\"1830-1845\"],[\"PM Peak\",\"1845-1900\"],[\"Evening\",\"1900-1915\"],[\"Evening\",\"1915-1930\"],[\"Evening\",\"1930-1945\"],[\"Evening\",\"1945-2000\"],[\"Evening\",\"2000-2015\"],[\"Evening\",\"2015-2030\"],[\"Evening\",\"2030-2045\"],[\"Evening\",\"2045-2100\"],[\"Evening\",\"2100-2115\"],[\"Evening\",\"2115-2130\"],[\"Evening\",\"2130-2145\"],[\"Evening\",\"2145-2200\"],[\"Late\",\"2200-2215\"],[\"Late\",\"2215-2230\"],[\"Late\",\"2230-2245\"],[\"Late\",\"2245-2300\"],[\"Late\",\"2300-2315\"],[\"Late\",\"2315-2330\"],[\"Late\",\"2330-2345\"],[\"Late\",\"2345-2400\"],[\"Late\",\"0000-0015\"],[\"Late\",\"0015-0030\"],[\"Late\",\"0030-0045\"],[\"Late\",\"0045-0100\"],[\"Late\",\"0100-0115\"],[\"Late\",\"0115-0130\"],[\"Late\",\"0130-0145\"],[\"Late\",\"0145-0200\"]],\"range_padding\":0.1},\"id\":\"1716\",\"type\":\"FactorRange\"},{\"attributes\":{\"axis_label\":\"time Quarter\",\"formatter\":{\"id\":\"1744\"},\"major_label_orientation\":1.5,\"ticker\":{\"id\":\"1728\"}},\"id\":\"1727\",\"type\":\"CategoricalAxis\"},{\"attributes\":{\"axis_label\":\"Volume\",\"formatter\":{\"id\":\"1742\"},\"ticker\":{\"id\":\"1731\"}},\"id\":\"1730\",\"type\":\"LinearAxis\"},{\"attributes\":{\"data_source\":{\"id\":\"1715\"},\"glyph\":{\"id\":\"1737\"},\"hover_glyph\":null,\"muted_glyph\":null,\"nonselection_glyph\":{\"id\":\"1738\"},\"selection_glyph\":null,\"view\":{\"id\":\"1740\"}},\"id\":\"1739\",\"type\":\"GlyphRenderer\"},{\"attributes\":{},\"id\":\"1723\",\"type\":\"CategoricalScale\"},{\"attributes\":{\"fill_alpha\":{\"value\":0.1},\"fill_color\":{\"value\":\"blue\"},\"line_alpha\":{\"value\":0.1},\"line_color\":{\"value\":\"blue\"},\"top\":{\"field\":\"Exit\"},\"width\":{\"value\":0.4},\"x\":{\"field\":\"time\",\"transform\":{\"id\":\"1748\"}}},\"id\":\"1751\",\"type\":\"VBar\"},{\"attributes\":{},\"id\":\"1760\",\"type\":\"UnionRenderers\"},{\"attributes\":{\"range\":{\"id\":\"1716\"},\"value\":-0.3},\"id\":\"1735\",\"type\":\"Dodge\"},{\"attributes\":{\"range\":{\"id\":\"1716\"},\"value\":0.3},\"id\":\"1748\",\"type\":\"Dodge\"},{\"attributes\":{\"source\":{\"id\":\"1715\"}},\"id\":\"1753\",\"type\":\"CDSView\"},{\"attributes\":{\"items\":[{\"id\":\"1747\"},{\"id\":\"1761\"}],\"location\":\"top_left\",\"orientation\":\"horizontal\"},\"id\":\"1746\",\"type\":\"Legend\"},{\"attributes\":{},\"id\":\"1725\",\"type\":\"LinearScale\"},{\"attributes\":{\"fill_alpha\":{\"value\":0.4},\"fill_color\":{\"value\":\"blue\"},\"line_alpha\":{\"value\":0.4},\"line_color\":{\"value\":\"blue\"},\"top\":{\"field\":\"Exit\"},\"width\":{\"value\":0.4},\"x\":{\"field\":\"time\",\"transform\":{\"id\":\"1748\"}}},\"id\":\"1750\",\"type\":\"VBar\"},{\"attributes\":{},\"id\":\"1731\",\"type\":\"BasicTicker\"},{\"attributes\":{\"active_drag\":\"auto\",\"active_inspect\":\"auto\",\"active_multi\":null,\"active_scroll\":\"auto\",\"active_tap\":\"auto\"},\"id\":\"1734\",\"type\":\"Toolbar\"},{\"attributes\":{\"text\":\"Exit and Entrance at Vauxhall\"},\"id\":\"1718\",\"type\":\"Title\"},{\"attributes\":{\"axis\":{\"id\":\"1727\"},\"grid_line_color\":null,\"ticker\":null},\"id\":\"1729\",\"type\":\"Grid\"},{\"attributes\":{\"axis\":{\"id\":\"1730\"},\"dimension\":1,\"ticker\":null},\"id\":\"1733\",\"type\":\"Grid\"},{\"attributes\":{\"label\":{\"value\":\"Entrance\"},\"renderers\":[{\"id\":\"1739\"}]},\"id\":\"1747\",\"type\":\"LegendItem\"},{\"attributes\":{\"data\":{\"Entrance\":[0,0,0,0,0,0,0,0,0,0,0,0,12,49,61,93,167,287,401,517,706,901,1132,1285,1585,1861,2010,1853,1653,1383,1096,814,693,638,579,491,457,470,465,455,454,480,477,458,449,465,461,436,438,455,461,471,508,565,611,707,826,934,983,1138,1322,1541,1693,1686,1515,1293,1096,878,722,597,481,399,350,308,277,246,233,227,223,214,214,206,196,178,172,151,136,109,88,54,27,11,12,12,9,5],\"Exit\":[0,0,0,0,0,0,0,0,0,0,0,0,0,10,45,122,247,454,722,964,1140,1229,1240,1162,1119,1123,1178,1163,1042,861,713,581,441,350,319,310,294,280,282,298,307,319,325,334,350,371,383,375,355,371,400,398,400,436,465,471,550,649,718,745,873,1014,1172,1246,1329,1317,1263,1140,1008,871,751,660,586,551,535,507,486,470,450,421,414,432,461,464,419,364,309,267,197,137,79,48,23,19,14,6],\"time\":[[\"Early\",\"0200-0215\"],[\"Early\",\"0215-0230\"],[\"Early\",\"0230-0245\"],[\"Early\",\"0245-0300\"],[\"Early\",\"0300-0315\"],[\"Early\",\"0315-0330\"],[\"Early\",\"0330-0345\"],[\"Early\",\"0345-0400\"],[\"Early\",\"0400-0415\"],[\"Early\",\"0415-0430\"],[\"Early\",\"0430-0445\"],[\"Early\",\"0445-0500\"],[\"Early\",\"0500-0515\"],[\"Early\",\"0515-0530\"],[\"Early\",\"0530-0545\"],[\"Early\",\"0545-0600\"],[\"Early\",\"0600-0615\"],[\"Early\",\"0615-0630\"],[\"Early\",\"0630-0645\"],[\"Early\",\"0645-0700\"],[\"AM Peak\",\"0700-0715\"],[\"AM Peak\",\"0715-0730\"],[\"AM Peak\",\"0730-0745\"],[\"AM Peak\",\"0745-0800\"],[\"AM Peak\",\"0800-0815\"],[\"AM Peak\",\"0815-0830\"],[\"AM Peak\",\"0830-0845\"],[\"AM Peak\",\"0845-0900\"],[\"AM Peak\",\"0900-0915\"],[\"AM Peak\",\"0915-0930\"],[\"AM Peak\",\"0930-0945\"],[\"AM Peak\",\"0945-1000\"],[\"Inter peak\",\"1000-1015\"],[\"Inter peak\",\"1015-1030\"],[\"Inter peak\",\"1030-1045\"],[\"Inter peak\",\"1045-1100\"],[\"Inter peak\",\"1100-1115\"],[\"Inter peak\",\"1115-1130\"],[\"Inter peak\",\"1130-1145\"],[\"Inter peak\",\"1145-1200\"],[\"Inter peak\",\"1200-1215\"],[\"Inter peak\",\"1215-1230\"],[\"Inter peak\",\"1230-1245\"],[\"Inter peak\",\"1245-1300\"],[\"Inter peak\",\"1300-1315\"],[\"Inter peak\",\"1315-1330\"],[\"Inter peak\",\"1330-1345\"],[\"Inter peak\",\"1345-1400\"],[\"Inter peak\",\"1400-1415\"],[\"Inter peak\",\"1415-1430\"],[\"Inter peak\",\"1430-1445\"],[\"Inter peak\",\"1445-1500\"],[\"Inter peak\",\"1500-1515\"],[\"Inter peak\",\"1515-1530\"],[\"Inter peak\",\"1530-1545\"],[\"Inter peak\",\"1545-1600\"],[\"PM Peak\",\"1600-1615\"],[\"PM Peak\",\"1615-1630\"],[\"PM Peak\",\"1630-1645\"],[\"PM Peak\",\"1645-1700\"],[\"PM Peak\",\"1700-1715\"],[\"PM Peak\",\"1715-1730\"],[\"PM Peak\",\"1730-1745\"],[\"PM Peak\",\"1745-1800\"],[\"PM Peak\",\"1800-1815\"],[\"PM Peak\",\"1815-1830\"],[\"PM Peak\",\"1830-1845\"],[\"PM Peak\",\"1845-1900\"],[\"Evening\",\"1900-1915\"],[\"Evening\",\"1915-1930\"],[\"Evening\",\"1930-1945\"],[\"Evening\",\"1945-2000\"],[\"Evening\",\"2000-2015\"],[\"Evening\",\"2015-2030\"],[\"Evening\",\"2030-2045\"],[\"Evening\",\"2045-2100\"],[\"Evening\",\"2100-2115\"],[\"Evening\",\"2115-2130\"],[\"Evening\",\"2130-2145\"],[\"Evening\",\"2145-2200\"],[\"Late\",\"2200-2215\"],[\"Late\",\"2215-2230\"],[\"Late\",\"2230-2245\"],[\"Late\",\"2245-2300\"],[\"Late\",\"2300-2315\"],[\"Late\",\"2315-2330\"],[\"Late\",\"2330-2345\"],[\"Late\",\"2345-2400\"],[\"Late\",\"0000-0015\"],[\"Late\",\"0015-0030\"],[\"Late\",\"0030-0045\"],[\"Late\",\"0045-0100\"],[\"Late\",\"0100-0115\"],[\"Late\",\"0115-0130\"],[\"Late\",\"0130-0145\"],[\"Late\",\"0145-0200\"]]},\"selected\":{\"id\":\"1759\"},\"selection_policy\":{\"id\":\"1760\"}},\"id\":\"1715\",\"type\":\"ColumnDataSource\"},{\"attributes\":{\"start\":0},\"id\":\"1721\",\"type\":\"DataRange1d\"},{\"attributes\":{},\"id\":\"1742\",\"type\":\"BasicTickFormatter\"}],\"root_ids\":[\"1717\"]},\"title\":\"Bokeh Application\",\"version\":\"2.0.1\"}};\n",
       "  var render_items = [{\"docid\":\"efafd0aa-8ad8-41dc-bfa2-8b4cd0f73ef6\",\"notebook_comms_target\":\"1807\",\"root_ids\":[\"1717\"],\"roots\":{\"1717\":\"95d0a875-6934-4314-b594-04f7622d7d45\"}}];\n",
       "  root.Bokeh.embed.embed_items_notebook(docs_json, render_items);\n",
       "\n",
       "  }\n",
       "  if (root.Bokeh !== undefined) {\n",
       "    embed_document(root);\n",
       "  } else {\n",
       "    var attempts = 0;\n",
       "    var timer = setInterval(function(root) {\n",
       "      if (root.Bokeh !== undefined) {\n",
       "        clearInterval(timer);\n",
       "        embed_document(root);\n",
       "      } else {\n",
       "        attempts++;\n",
       "        if (attempts > 100) {\n",
       "          clearInterval(timer);\n",
       "          console.log(\"Bokeh: ERROR: Unable to run BokehJS code because BokehJS library is missing\");\n",
       "        }\n",
       "      }\n",
       "    }, 10, root)\n",
       "  }\n",
       "})(window);"
      ],
      "application/vnd.bokehjs_exec.v0+json": ""
     },
     "metadata": {
      "application/vnd.bokehjs_exec.v0+json": {
       "id": "1717"
      }
     },
     "output_type": "display_data"
    },
    {
     "data": {
      "text/html": [
       "<p><code>&lt;Bokeh Notebook handle for <strong>In[32]</strong>&gt;</code></p>"
      ],
      "text/plain": [
       "<bokeh.io.notebook.CommsHandle at 0x11b36bca0>"
      ]
     },
     "execution_count": 32,
     "metadata": {},
     "output_type": "execute_result"
    }
   ],
   "source": [
    "\n",
    "dat_ext_int = {'time' :factors_ext ,\n",
    "        'Exit' : y_vaux_ext ,\n",
    "        'Entrance': y_vaux_ent,\n",
    "       }\n",
    "\n",
    "source_ext_int = ColumnDataSource(data=dat_ext_int)\n",
    "\n",
    "p_ext_int = figure(x_range=FactorRange(*factors_ent), \n",
    "           plot_height=500,\n",
    "           plot_width=1300,\n",
    "           toolbar_location=None,\n",
    "           title='Exit and Entrance at Vauxhall',\n",
    "           tools=\"\")\n",
    "\n",
    "# p_ext_int.vbar(x=factors_ent,\n",
    "#        top=y_counts_ent,\n",
    "#        alpha=0.5,\n",
    "#        fill_color='orange',\n",
    "#        line_color='black',\n",
    "#                legend_label='Entrance',\n",
    "#        width=0.5)\n",
    "\n",
    "##\n",
    "# p_ext_int.vbar(x=factors_ext,\n",
    "#                top=y_counts_ext,\n",
    "#                 alpha=0.5,\n",
    "#                 fill_color='blue',\n",
    "#                 line_color='black',\n",
    "#                 legend_label='Exit',\n",
    "#                 width=0.5\n",
    "#               )\n",
    "\n",
    "##\n",
    "p_ext_int.vbar(x=dodge('time', -0.30, range=p_ext_int.x_range), \n",
    "               top='Entrance', \n",
    "               width=0.4, \n",
    "                alpha=0.4,\n",
    "               source=source_ext_int,\n",
    "               color=\"orange\", \n",
    "               legend_label=\"Entrance\")\n",
    "\n",
    "\n",
    "p_ext_int.vbar(x=dodge('time', +0.30, range=p_ext_int.x_range), \n",
    "               top='Exit', \n",
    "               width=0.4, \n",
    "               alpha=0.4,\n",
    "               source=source_ext_int,\n",
    "               color=\"blue\", \n",
    "               legend_label=\"Exit\")\n",
    "##\n",
    "# p_ext_int.vbar(x=factors_ext,\n",
    "#        top=y_counts_ext,\n",
    "#        alpha=0.5,\n",
    "#        fill_color='blue',\n",
    "#        line_color='black',\n",
    "#               legend_label='Exit',\n",
    "#        width=0.5)\n",
    "######\n",
    "\n",
    "# fruits = stockwell_ent[COLUMNS_HOURS].columns\n",
    "# years = ['2015', '2016', '2017']\n",
    "# #stockwell_ent[COLUMNS_HOURS].columns\n",
    "# stockwell_ent[COLUMNS_HOURS].values[0]\n",
    "# data = {'fruits' : fruits,\n",
    "#         '2015'   : [2, 1, 4, 3, 2, 4],\n",
    "#         '2016'   : [5, 3, 3, 2, 4, 6],\n",
    "#         '2017'   : [3, 2, 4, 4, 5, 3]}\n",
    "\n",
    "# source = ColumnDataSource(data=data)\n",
    "\n",
    "# p = figure(x_range=fruits, \n",
    "#            y_range=(0, 10), \n",
    "#            plot_height=250, \n",
    "#            title=\"Fruit Counts by Year\",\n",
    "#            toolbar_location=None, tools=\"\")\n",
    "\n",
    "# p.vbar(x=dodge('fruits', -0.25, range=p.x_range), top='2015', width=0.2, source=source,\n",
    "#        color=\"#c9d9d3\", legend_label=\"2015\")\n",
    "\n",
    "# p.vbar(x=dodge('fruits',  0.0,  range=p.x_range), top='2016', width=0.2, source=source,\n",
    "#        color=\"#718dbf\", legend_label=\"2016\")\n",
    "\n",
    "# p.vbar(x=dodge('fruits',  0.25, range=p.x_range), top='2017', width=0.2, source=source,\n",
    "#        color=\"#e84d60\", legend_label=\"2017\")\n",
    "\n",
    "# p.x_range.range_padding = 0.1\n",
    "# p.xgrid.grid_line_color = None\n",
    "# p.legend.location = \"top_left\"\n",
    "# p.legend.orientation = \"horizontal\"\n",
    "\n",
    "#####\n",
    "p_ext_int.xaxis.axis_label = 'time Quarter'\n",
    "p_ext_int.yaxis[0].axis_label = 'Volume'\n",
    "\n",
    "\n",
    "p_ext_int.y_range.start = 0\n",
    "\n",
    "p_ext_int.x_range.range_padding = 0.1\n",
    "p_ext_int.xaxis.major_label_orientation = 1.5\n",
    "p_ext_int.xgrid.grid_line_color = None\n",
    "p_ext_int.legend.location = \"top_left\"\n",
    "p_ext_int.legend.orientation = \"horizontal\"\n",
    "\n",
    "# save plot\n",
    "#export_png(obj=p_ext_int,filename= \"plots/entrance_exit_vauxhall_dodge.png\")\n",
    "\n",
    "# show\n",
    "show(p_ext_int, notebook_handle=True)"
   ]
  },
  {
   "cell_type": "code",
   "execution_count": 33,
   "metadata": {},
   "outputs": [],
   "source": [
    "all_data = pd.DataFrame()\n",
    "all_data['Entrance'] = y_counts_ent\n",
    "all_data['Exit'] = y_counts_ext\n",
    "all_data['time'] = COLUMNS_HOURS\n",
    "all_data['ent_pct_change'] = all_data['Entrance'].pct_change()\n",
    "all_data['exit_pct_change'] = all_data['Exit'].pct_change()\n",
    "\n",
    "all_data = all_data.fillna(0)\n",
    "\n",
    "tmp = all_data[~all_data.isin([np.nan, np.inf, -np.inf]).any(1)]\n",
    "avg_ent_pct_change = np.mean(tmp['ent_pct_change'])"
   ]
  },
  {
   "cell_type": "code",
   "execution_count": 34,
   "metadata": {},
   "outputs": [],
   "source": [
    "all_data['color'] = all_data['ent_pct_change'].apply(lambda x : 'red' if x <= 0 else 'green')"
   ]
  },
  {
   "cell_type": "code",
   "execution_count": 35,
   "metadata": {},
   "outputs": [
    {
     "data": {
      "text/html": [
       "\n",
       "\n",
       "\n",
       "\n",
       "\n",
       "\n",
       "  <div class=\"bk-root\" id=\"9a5ade4c-40d0-4d8d-81cb-ff2a5f5ef494\" data-root-id=\"1851\"></div>\n"
      ]
     },
     "metadata": {},
     "output_type": "display_data"
    },
    {
     "data": {
      "application/javascript": [
       "(function(root) {\n",
       "  function embed_document(root) {\n",
       "    \n",
       "  var docs_json = {\"02914cc3-f3d8-4122-b925-b5794c7a4d65\":{\"roots\":{\"references\":[{\"attributes\":{\"above\":[{\"id\":\"1885\"},{\"id\":\"1886\"}],\"below\":[{\"id\":\"1859\"}],\"center\":[{\"id\":\"1861\"},{\"id\":\"1865\"}],\"left\":[{\"id\":\"1862\"}],\"plot_height\":500,\"plot_width\":1300,\"renderers\":[{\"id\":\"1883\"}],\"title\":{\"id\":\"1935\"},\"toolbar\":{\"id\":\"1873\"},\"toolbar_location\":null,\"x_range\":{\"id\":\"1850\"},\"x_scale\":{\"id\":\"1855\"},\"y_range\":{\"id\":\"1853\"},\"y_scale\":{\"id\":\"1857\"}},\"id\":\"1851\",\"subtype\":\"Figure\",\"type\":\"Plot\"},{\"attributes\":{\"format\":\"0.0%\"},\"id\":\"1887\",\"type\":\"NumeralTickFormatter\"},{\"attributes\":{},\"id\":\"1860\",\"type\":\"CategoricalTicker\"},{\"attributes\":{},\"id\":\"1869\",\"type\":\"SaveTool\"},{\"attributes\":{},\"id\":\"1939\",\"type\":\"Selection\"},{\"attributes\":{\"factors\":[[\"Early\",\"0200-0215\"],[\"Early\",\"0215-0230\"],[\"Early\",\"0230-0245\"],[\"Early\",\"0245-0300\"],[\"Early\",\"0300-0315\"],[\"Early\",\"0315-0330\"],[\"Early\",\"0330-0345\"],[\"Early\",\"0345-0400\"],[\"Early\",\"0400-0415\"],[\"Early\",\"0415-0430\"],[\"Early\",\"0430-0445\"],[\"Early\",\"0445-0500\"],[\"Early\",\"0500-0515\"],[\"Early\",\"0515-0530\"],[\"Early\",\"0530-0545\"],[\"Early\",\"0545-0600\"],[\"Early\",\"0600-0615\"],[\"Early\",\"0615-0630\"],[\"Early\",\"0630-0645\"],[\"Early\",\"0645-0700\"],[\"AM Peak\",\"0700-0715\"],[\"AM Peak\",\"0715-0730\"],[\"AM Peak\",\"0730-0745\"],[\"AM Peak\",\"0745-0800\"],[\"AM Peak\",\"0800-0815\"],[\"AM Peak\",\"0815-0830\"],[\"AM Peak\",\"0830-0845\"],[\"AM Peak\",\"0845-0900\"],[\"AM Peak\",\"0900-0915\"],[\"AM Peak\",\"0915-0930\"],[\"AM Peak\",\"0930-0945\"],[\"AM Peak\",\"0945-1000\"],[\"Inter peak\",\"1000-1015\"],[\"Inter peak\",\"1015-1030\"],[\"Inter peak\",\"1030-1045\"],[\"Inter peak\",\"1045-1100\"],[\"Inter peak\",\"1100-1115\"],[\"Inter peak\",\"1115-1130\"],[\"Inter peak\",\"1130-1145\"],[\"Inter peak\",\"1145-1200\"],[\"Inter peak\",\"1200-1215\"],[\"Inter peak\",\"1215-1230\"],[\"Inter peak\",\"1230-1245\"],[\"Inter peak\",\"1245-1300\"],[\"Inter peak\",\"1300-1315\"],[\"Inter peak\",\"1315-1330\"],[\"Inter peak\",\"1330-1345\"],[\"Inter peak\",\"1345-1400\"],[\"Inter peak\",\"1400-1415\"],[\"Inter peak\",\"1415-1430\"],[\"Inter peak\",\"1430-1445\"],[\"Inter peak\",\"1445-1500\"],[\"Inter peak\",\"1500-1515\"],[\"Inter peak\",\"1515-1530\"],[\"Inter peak\",\"1530-1545\"],[\"Inter peak\",\"1545-1600\"],[\"PM Peak\",\"1600-1615\"],[\"PM Peak\",\"1615-1630\"],[\"PM Peak\",\"1630-1645\"],[\"PM Peak\",\"1645-1700\"],[\"PM Peak\",\"1700-1715\"],[\"PM Peak\",\"1715-1730\"],[\"PM Peak\",\"1730-1745\"],[\"PM Peak\",\"1745-1800\"],[\"PM Peak\",\"1800-1815\"],[\"PM Peak\",\"1815-1830\"],[\"PM Peak\",\"1830-1845\"],[\"PM Peak\",\"1845-1900\"],[\"Evening\",\"1900-1915\"],[\"Evening\",\"1915-1930\"],[\"Evening\",\"1930-1945\"],[\"Evening\",\"1945-2000\"],[\"Evening\",\"2000-2015\"],[\"Evening\",\"2015-2030\"],[\"Evening\",\"2030-2045\"],[\"Evening\",\"2045-2100\"],[\"Evening\",\"2100-2115\"],[\"Evening\",\"2115-2130\"],[\"Evening\",\"2130-2145\"],[\"Evening\",\"2145-2200\"],[\"Late\",\"2200-2215\"],[\"Late\",\"2215-2230\"],[\"Late\",\"2230-2245\"],[\"Late\",\"2245-2300\"],[\"Late\",\"2300-2315\"],[\"Late\",\"2315-2330\"],[\"Late\",\"2330-2345\"],[\"Late\",\"2345-2400\"],[\"Late\",\"0000-0015\"],[\"Late\",\"0015-0030\"],[\"Late\",\"0030-0045\"],[\"Late\",\"0045-0100\"],[\"Late\",\"0100-0115\"],[\"Late\",\"0115-0130\"],[\"Late\",\"0130-0145\"],[\"Late\",\"0145-0200\"]],\"range_padding\":0.1},\"id\":\"1850\",\"type\":\"FactorRange\"},{\"attributes\":{},\"id\":\"1940\",\"type\":\"UnionRenderers\"},{\"attributes\":{\"bottom_units\":\"screen\",\"fill_alpha\":0.5,\"fill_color\":\"lightgrey\",\"left_units\":\"screen\",\"level\":\"overlay\",\"line_alpha\":1.0,\"line_color\":\"black\",\"line_dash\":[4,4],\"line_width\":2,\"render_mode\":\"css\",\"right_units\":\"screen\",\"top_units\":\"screen\"},\"id\":\"1872\",\"type\":\"BoxAnnotation\"},{\"attributes\":{\"text\":\"\"},\"id\":\"1935\",\"type\":\"Title\"},{\"attributes\":{},\"id\":\"1855\",\"type\":\"CategoricalScale\"},{\"attributes\":{},\"id\":\"1853\",\"type\":\"DataRange1d\"},{\"attributes\":{\"axis\":{\"id\":\"1859\"},\"grid_line_color\":null,\"ticker\":null},\"id\":\"1861\",\"type\":\"Grid\"},{\"attributes\":{\"axis_label\":\"Percentage change\",\"formatter\":{\"id\":\"1887\"},\"ticker\":{\"id\":\"1863\"}},\"id\":\"1862\",\"type\":\"LinearAxis\"},{\"attributes\":{\"text\":\"Percentage Change Entrance\",\"text_font_style\":\"normal\"},\"id\":\"1885\",\"type\":\"Title\"},{\"attributes\":{\"axis_label\":\"Time\",\"formatter\":{\"id\":\"1937\"},\"major_label_orientation\":1.5,\"ticker\":{\"id\":\"1860\"}},\"id\":\"1859\",\"type\":\"CategoricalAxis\"},{\"attributes\":{},\"id\":\"1866\",\"type\":\"PanTool\"},{\"attributes\":{},\"id\":\"1867\",\"type\":\"WheelZoomTool\"},{\"attributes\":{},\"id\":\"1863\",\"type\":\"BasicTicker\"},{\"attributes\":{\"axis\":{\"id\":\"1862\"},\"dimension\":1,\"ticker\":null},\"id\":\"1865\",\"type\":\"Grid\"},{\"attributes\":{\"text\":\"Vauxhall Station\",\"text_font_size\":{\"value\":\"16pt\"}},\"id\":\"1886\",\"type\":\"Title\"},{\"attributes\":{\"fill_alpha\":{\"value\":0.9},\"fill_color\":{\"field\":\"fill_color\"},\"line_alpha\":{\"value\":0.9},\"top\":{\"field\":\"top\"},\"width\":{\"value\":0.5},\"x\":{\"field\":\"x\"}},\"id\":\"1881\",\"type\":\"VBar\"},{\"attributes\":{},\"id\":\"1937\",\"type\":\"CategoricalTickFormatter\"},{\"attributes\":{\"fill_alpha\":{\"value\":0.1},\"fill_color\":{\"field\":\"fill_color\"},\"line_alpha\":{\"value\":0.1},\"top\":{\"field\":\"top\"},\"width\":{\"value\":0.5},\"x\":{\"field\":\"x\"}},\"id\":\"1882\",\"type\":\"VBar\"},{\"attributes\":{\"active_drag\":\"auto\",\"active_inspect\":\"auto\",\"active_multi\":null,\"active_scroll\":\"auto\",\"active_tap\":\"auto\",\"tools\":[{\"id\":\"1866\"},{\"id\":\"1867\"},{\"id\":\"1868\"},{\"id\":\"1869\"},{\"id\":\"1870\"},{\"id\":\"1871\"}]},\"id\":\"1873\",\"type\":\"Toolbar\"},{\"attributes\":{\"data\":{\"fill_color\":[\"red\",\"red\",\"red\",\"red\",\"red\",\"red\",\"red\",\"red\",\"red\",\"red\",\"red\",\"red\",\"green\",\"green\",\"green\",\"green\",\"green\",\"green\",\"green\",\"green\",\"green\",\"green\",\"green\",\"green\",\"green\",\"green\",\"green\",\"red\",\"red\",\"red\",\"red\",\"red\",\"red\",\"red\",\"red\",\"red\",\"red\",\"green\",\"red\",\"red\",\"red\",\"green\",\"red\",\"red\",\"red\",\"green\",\"red\",\"red\",\"green\",\"green\",\"green\",\"green\",\"green\",\"green\",\"green\",\"green\",\"green\",\"green\",\"green\",\"green\",\"green\",\"green\",\"green\",\"red\",\"red\",\"red\",\"red\",\"red\",\"red\",\"red\",\"red\",\"red\",\"red\",\"red\",\"red\",\"red\",\"red\",\"red\",\"red\",\"red\",\"red\",\"red\",\"red\",\"red\",\"red\",\"red\",\"red\",\"red\",\"red\",\"red\",\"red\",\"red\",\"green\",\"red\",\"red\",\"red\"],\"top\":{\"__ndarray__\":\"AAAAAAAAAAAAAAAAAAAAAAAAAAAAAAAAAAAAAAAAAAAAAAAAAAAAAAAAAAAAAAAAAAAAAAAAAAAAAAAAAAAAAAAAAAAAAAAAAAAAAAAAAAAAAAAAAAAAAAAAAAAAAAAAAAAAAAAA8H+qqqqqqqoIQNiHxvrQWM8/Otq8T3HJ4D922WWXXXbpP0T1oJF3/uY/JAcIKe5r2T9c/3DfgoPSPzDtbTqCZdc/5ERBZlOt0T+8Y20zj2jQP6AWJfXjTME/IOId4h3izT8QPWY3+UnGP/Dcchkbf7Q/UM0CKfv+s7/AXyefgKG7vwg08A1O6MS/XH8w9gKQyr8a4o9bl3fQv3AwRT7rBsO/GEVRFEVRtL+IawYIiqy3v0C534JIdMO/gNtRaSK6sb+Ai0/iDCGdP0AQkyuIyYW/ABZYYIEFlr8AIAESIAFiv2CZKHRTUq0/gJmZmZmZeb/QVMqz5WSkv4CvpyJNH5S/YGAXl7c+oj+AEeAZAZ6Bv5Ae7akGxKu/AC2BTfvJcj8APtH3RN+jPwCwARuwAYs/gBgku2s2lj/QmaNlQxy0PzCXy+Vyubw/0HpNoazXtD/wmBGyfRzEP5gHuetni8U/YNPnkm+8wD8gw3RJXtyqP1hNAX3gLsQ/OHevSiqyxD8YqJbPSDTFPyB2pWxKQLk/gIqnnITvcL8gwQzC4/a5vzyjLsSlwcK/xMeLtn6Aw7+QoiH+uHXJv0ATGdMavsa/oEdjVCEpxr8oEXhI+97IvyRdcYs60sW/CPcR3Edwv7+4HoXrUbi+v6AQZ+UnxLm/kIsFklqmvL8QG+mwkQ6rv+Dz0kB9Xpq/4MBnDEcLkr9QpZC+5qmkvwAAAAAAAAAAwBArSuMjo79A0x3st9qov+DlFLycgre/EKEIRShCob/QF/QFfUG/v8i4Zdwybrm/aGlpaWlpyb+QirnVGanIv7rooosuuti/AAAAAAAA4L9oL6G9hPbiv0AXXXTRRbc/AAAAAAAAAAAAAAAAAADQvxzHcRzHcdy/\",\"dtype\":\"float64\",\"shape\":[96]},\"x\":[[\"Early\",\"0200-0215\"],[\"Early\",\"0215-0230\"],[\"Early\",\"0230-0245\"],[\"Early\",\"0245-0300\"],[\"Early\",\"0300-0315\"],[\"Early\",\"0315-0330\"],[\"Early\",\"0330-0345\"],[\"Early\",\"0345-0400\"],[\"Early\",\"0400-0415\"],[\"Early\",\"0415-0430\"],[\"Early\",\"0430-0445\"],[\"Early\",\"0445-0500\"],[\"Early\",\"0500-0515\"],[\"Early\",\"0515-0530\"],[\"Early\",\"0530-0545\"],[\"Early\",\"0545-0600\"],[\"Early\",\"0600-0615\"],[\"Early\",\"0615-0630\"],[\"Early\",\"0630-0645\"],[\"Early\",\"0645-0700\"],[\"AM Peak\",\"0700-0715\"],[\"AM Peak\",\"0715-0730\"],[\"AM Peak\",\"0730-0745\"],[\"AM Peak\",\"0745-0800\"],[\"AM Peak\",\"0800-0815\"],[\"AM Peak\",\"0815-0830\"],[\"AM Peak\",\"0830-0845\"],[\"AM Peak\",\"0845-0900\"],[\"AM Peak\",\"0900-0915\"],[\"AM Peak\",\"0915-0930\"],[\"AM Peak\",\"0930-0945\"],[\"AM Peak\",\"0945-1000\"],[\"Inter peak\",\"1000-1015\"],[\"Inter peak\",\"1015-1030\"],[\"Inter peak\",\"1030-1045\"],[\"Inter peak\",\"1045-1100\"],[\"Inter peak\",\"1100-1115\"],[\"Inter peak\",\"1115-1130\"],[\"Inter peak\",\"1130-1145\"],[\"Inter peak\",\"1145-1200\"],[\"Inter peak\",\"1200-1215\"],[\"Inter peak\",\"1215-1230\"],[\"Inter peak\",\"1230-1245\"],[\"Inter peak\",\"1245-1300\"],[\"Inter peak\",\"1300-1315\"],[\"Inter peak\",\"1315-1330\"],[\"Inter peak\",\"1330-1345\"],[\"Inter peak\",\"1345-1400\"],[\"Inter peak\",\"1400-1415\"],[\"Inter peak\",\"1415-1430\"],[\"Inter peak\",\"1430-1445\"],[\"Inter peak\",\"1445-1500\"],[\"Inter peak\",\"1500-1515\"],[\"Inter peak\",\"1515-1530\"],[\"Inter peak\",\"1530-1545\"],[\"Inter peak\",\"1545-1600\"],[\"PM Peak\",\"1600-1615\"],[\"PM Peak\",\"1615-1630\"],[\"PM Peak\",\"1630-1645\"],[\"PM Peak\",\"1645-1700\"],[\"PM Peak\",\"1700-1715\"],[\"PM Peak\",\"1715-1730\"],[\"PM Peak\",\"1730-1745\"],[\"PM Peak\",\"1745-1800\"],[\"PM Peak\",\"1800-1815\"],[\"PM Peak\",\"1815-1830\"],[\"PM Peak\",\"1830-1845\"],[\"PM Peak\",\"1845-1900\"],[\"Evening\",\"1900-1915\"],[\"Evening\",\"1915-1930\"],[\"Evening\",\"1930-1945\"],[\"Evening\",\"1945-2000\"],[\"Evening\",\"2000-2015\"],[\"Evening\",\"2015-2030\"],[\"Evening\",\"2030-2045\"],[\"Evening\",\"2045-2100\"],[\"Evening\",\"2100-2115\"],[\"Evening\",\"2115-2130\"],[\"Evening\",\"2130-2145\"],[\"Evening\",\"2145-2200\"],[\"Late\",\"2200-2215\"],[\"Late\",\"2215-2230\"],[\"Late\",\"2230-2245\"],[\"Late\",\"2245-2300\"],[\"Late\",\"2300-2315\"],[\"Late\",\"2315-2330\"],[\"Late\",\"2330-2345\"],[\"Late\",\"2345-2400\"],[\"Late\",\"0000-0015\"],[\"Late\",\"0015-0030\"],[\"Late\",\"0030-0045\"],[\"Late\",\"0045-0100\"],[\"Late\",\"0100-0115\"],[\"Late\",\"0115-0130\"],[\"Late\",\"0130-0145\"],[\"Late\",\"0145-0200\"]]},\"selected\":{\"id\":\"1939\"},\"selection_policy\":{\"id\":\"1940\"}},\"id\":\"1880\",\"type\":\"ColumnDataSource\"},{\"attributes\":{},\"id\":\"1871\",\"type\":\"HelpTool\"},{\"attributes\":{\"overlay\":{\"id\":\"1872\"}},\"id\":\"1868\",\"type\":\"BoxZoomTool\"},{\"attributes\":{\"source\":{\"id\":\"1880\"}},\"id\":\"1884\",\"type\":\"CDSView\"},{\"attributes\":{},\"id\":\"1870\",\"type\":\"ResetTool\"},{\"attributes\":{\"data_source\":{\"id\":\"1880\"},\"glyph\":{\"id\":\"1881\"},\"hover_glyph\":null,\"muted_glyph\":null,\"nonselection_glyph\":{\"id\":\"1882\"},\"selection_glyph\":null,\"view\":{\"id\":\"1884\"}},\"id\":\"1883\",\"type\":\"GlyphRenderer\"},{\"attributes\":{},\"id\":\"1857\",\"type\":\"LinearScale\"}],\"root_ids\":[\"1851\"]},\"title\":\"Bokeh Application\",\"version\":\"2.0.1\"}};\n",
       "  var render_items = [{\"docid\":\"02914cc3-f3d8-4122-b925-b5794c7a4d65\",\"notebook_comms_target\":\"1942\",\"root_ids\":[\"1851\"],\"roots\":{\"1851\":\"9a5ade4c-40d0-4d8d-81cb-ff2a5f5ef494\"}}];\n",
       "  root.Bokeh.embed.embed_items_notebook(docs_json, render_items);\n",
       "\n",
       "  }\n",
       "  if (root.Bokeh !== undefined) {\n",
       "    embed_document(root);\n",
       "  } else {\n",
       "    var attempts = 0;\n",
       "    var timer = setInterval(function(root) {\n",
       "      if (root.Bokeh !== undefined) {\n",
       "        clearInterval(timer);\n",
       "        embed_document(root);\n",
       "      } else {\n",
       "        attempts++;\n",
       "        if (attempts > 100) {\n",
       "          clearInterval(timer);\n",
       "          console.log(\"Bokeh: ERROR: Unable to run BokehJS code because BokehJS library is missing\");\n",
       "        }\n",
       "      }\n",
       "    }, 10, root)\n",
       "  }\n",
       "})(window);"
      ],
      "application/vnd.bokehjs_exec.v0+json": ""
     },
     "metadata": {
      "application/vnd.bokehjs_exec.v0+json": {
       "id": "1851"
      }
     },
     "output_type": "display_data"
    },
    {
     "data": {
      "text/html": [
       "<p><code>&lt;Bokeh Notebook handle for <strong>In[35]</strong>&gt;</code></p>"
      ],
      "text/plain": [
       "<bokeh.io.notebook.CommsHandle at 0x11bdc8c40>"
      ]
     },
     "execution_count": 35,
     "metadata": {},
     "output_type": "execute_result"
    }
   ],
   "source": [
    "from bokeh.models import BoxAnnotation\n",
    "from bokeh.plotting import figure, show, output_file\n",
    "#from bokeh.sampledata.glucose import data\n",
    "from bokeh.models import Title\n",
    "#TOOLS = \"pan,wheel_zoom,box_zoom,reset,save\"\n",
    "\n",
    "#data = data.loc['2010-10-04':'2010-10-04']\n",
    "\n",
    "p = figure(x_range=FactorRange(*factors_ent),\n",
    "           plot_height=500,\n",
    "           plot_width=1300,\n",
    "           toolbar_location=None,\n",
    "           #title=\"Percentage Change Entrance\"\n",
    "          )\n",
    "\n",
    "\n",
    "#p.line(x=factors_ent, y=all_data['ent_pct_change'], line_color='grey',line_width=2)\n",
    "#p.circle(x=factors_ent, y=all_data['ent_pct_change'], color='blue', size=3,fill_alpha=0.5)\n",
    "\n",
    "avg_ent = np.repeat(avg_ent_pct_change,len(all_data['exit_pct_change']))\n",
    "\n",
    "# p.line(x=factors_ent,\n",
    "#        y=avg_ent,\n",
    "#        line_color='red',\n",
    "#        line_dash='dashed',\n",
    "#        line_width=1.5)\n",
    "\n",
    "p.vbar(x=factors_ent,\n",
    "       top=all_data['ent_pct_change'],\n",
    "       alpha=0.9,\n",
    "       fill_color=all_data['color'],\n",
    "       line_color='black',\n",
    "    #legend_label='Entrance',\n",
    "       width=0.5)\n",
    "\n",
    "\n",
    "\n",
    "\n",
    "##=== Styling plot \n",
    "p.add_layout(Title(text=\"Percentage Change Entrance\", text_font_style='normal',text_font_size='10pt'), 'above')\n",
    "p.add_layout(Title(text=\"Vauxhall Station\", text_font_size=\"16pt\"), 'above')\n",
    "#p.background_fill_color = \"#efefef\"\n",
    "p.xgrid.grid_line_color=None\n",
    "p.xaxis.axis_label = 'Time'\n",
    "p.yaxis.axis_label = 'Percentage change'\n",
    "p.yaxis.formatter = NumeralTickFormatter(format=\"0.0%\")\n",
    "\n",
    "#p.add_layout(BoxAnnotation(top=80, fill_alpha=0.1, fill_color='red', line_color='red'))\n",
    "#p.add_layout(BoxAnnotation(bottom=180, fill_alpha=0.1, fill_color='red', line_color='red'))\n",
    "p.x_range.range_padding = 0.1\n",
    "p.xaxis.major_label_orientation = 1\n",
    "#output_file(\"box_annotation.html\", title=\"box_annotation.py example\")\n",
    "p.xaxis.major_label_orientation = 1.5\n",
    "\n",
    "#show\n",
    "show(p, notebook_handle=True)\n",
    "\n",
    "#Save plot\n",
    "#export_png(obj=p,filename= \"entrance_vauxhall_percentageChange.png\")"
   ]
  },
  {
   "cell_type": "markdown",
   "metadata": {},
   "source": [
    "## Visualize Using Pie chart \n",
    "Use case how many people in the station \n",
    "- We know how many poeple entry the station \n",
    "- How many train per 15 mins intervalle \n",
    "- 70% of the people get on the train for each peak hour "
   ]
  },
  {
   "cell_type": "code",
   "execution_count": 36,
   "metadata": {},
   "outputs": [
    {
     "name": "stderr",
     "output_type": "stream",
     "text": [
      "BokehDeprecationWarning: 'legend' keyword is deprecated, use explicit 'legend_label', 'legend_field', or 'legend_group' keywords instead\n"
     ]
    },
    {
     "data": {
      "text/html": [
       "\n",
       "\n",
       "\n",
       "\n",
       "\n",
       "\n",
       "  <div class=\"bk-root\" id=\"3ca93cca-e796-41b8-be3a-89f5b4ff04e7\" data-root-id=\"1991\"></div>\n"
      ]
     },
     "metadata": {},
     "output_type": "display_data"
    },
    {
     "data": {
      "application/javascript": [
       "(function(root) {\n",
       "  function embed_document(root) {\n",
       "    \n",
       "  var docs_json = {\"2cab7c8b-f6f8-427a-8754-3b93db8cd9fd\":{\"roots\":{\"references\":[{\"attributes\":{\"below\":[{\"id\":\"2002\"}],\"center\":[{\"id\":\"2005\"},{\"id\":\"2009\"},{\"id\":\"2038\"}],\"left\":[{\"id\":\"2006\"}],\"renderers\":[{\"id\":\"2030\"}],\"title\":{\"id\":\"1992\"},\"toolbar\":{\"id\":\"2017\"},\"toolbar_location\":null,\"x_range\":{\"id\":\"1994\"},\"x_scale\":{\"id\":\"1998\"},\"y_range\":{\"id\":\"1996\"},\"y_scale\":{\"id\":\"2000\"}},\"id\":\"1991\",\"subtype\":\"Figure\",\"type\":\"Plot\"},{\"attributes\":{\"data\":{\"Perc\":{\"__ndarray__\":\"CtejcD0KCUBI4XoUrgdAQOxRuB6F6zdAXI/C9ShcPUDXo3A9CtcgQOF6FK5H4QhA\",\"dtype\":\"float64\",\"shape\":[6]},\"Perc_legend\":[\"  3.13 %\",\" 32.06 %\",\" 23.92 %\",\" 29.36 %\",\"  8.42 %\",\"  3.11 %\"],\"angle\":{\"__ndarray__\":\"oTtQn4AjyT8zWZ002R0AQLvJpa6yC/g/urKoJTqD/T9hhvSK9O/gPwfXGdEdB8k/\",\"dtype\":\"float64\",\"shape\":[6]},\"angle_s\":{\"__ndarray__\":\"AAAAAAAAAAChO1CfgCPJPzNZnTTZHQBAu8mlrrIL+D+6sqglOoP9P2GG9Ir07+A/\",\"dtype\":\"float64\",\"shape\":[6]},\"color\":[\"#8dd3c7\",\"#ffffb3\",\"#bebada\",\"#fb8072\",\"#80b1d3\",\"#fdb462\"],\"index\":[0,1,2,3,4,5],\"legend\":[\"Early:  3.13 %\",\"AM Peak: 32.06 %\",\"Inter peak: 23.92 %\",\"PM Peak: 29.36 %\",\"Evening:  8.42 %\",\"Late:  3.11 %\"],\"time\":[\"Early\",\"AM Peak\",\"Inter peak\",\"PM Peak\",\"Evening\",\"Late\"],\"value\":{\"__ndarray__\":\"AAAAAADMmEAAAAAAgMvPQAAAAAAAuMdAAAAAAIAczUAAAAAAALWwQAAAAAAAsJhA\",\"dtype\":\"float64\",\"shape\":[6]}},\"selected\":{\"id\":\"2099\"},\"selection_policy\":{\"id\":\"2100\"}},\"id\":\"2026\",\"type\":\"ColumnDataSource\"},{\"attributes\":{\"axis\":{\"id\":\"2006\"},\"dimension\":1,\"grid_line_color\":null,\"ticker\":null},\"id\":\"2009\",\"type\":\"Grid\"},{\"attributes\":{},\"id\":\"1996\",\"type\":\"DataRange1d\"},{\"attributes\":{},\"id\":\"2014\",\"type\":\"ResetTool\"},{\"attributes\":{\"items\":[{\"id\":\"2039\"}]},\"id\":\"2038\",\"type\":\"Legend\"},{\"attributes\":{},\"id\":\"2099\",\"type\":\"Selection\"},{\"attributes\":{\"end_angle\":{\"expr\":{\"id\":\"2025\"},\"units\":\"rad\"},\"fill_alpha\":{\"value\":0.8},\"fill_color\":{\"field\":\"color\"},\"radius\":{\"units\":\"data\",\"value\":0.4},\"start_angle\":{\"expr\":{\"id\":\"2024\"},\"units\":\"rad\"},\"x\":{\"value\":0},\"y\":{\"value\":1}},\"id\":\"2028\",\"type\":\"Wedge\"},{\"attributes\":{\"source\":{\"id\":\"2026\"}},\"id\":\"2031\",\"type\":\"CDSView\"},{\"attributes\":{},\"id\":\"1998\",\"type\":\"LinearScale\"},{\"attributes\":{\"label\":{\"field\":\"legend\"},\"renderers\":[{\"id\":\"2030\"}]},\"id\":\"2039\",\"type\":\"LegendItem\"},{\"attributes\":{\"field\":\"angle\",\"include_zero\":true},\"id\":\"2024\",\"type\":\"CumSum\"},{\"attributes\":{\"data_source\":{\"id\":\"2026\"},\"glyph\":{\"id\":\"2028\"},\"hover_glyph\":null,\"muted_glyph\":null,\"nonselection_glyph\":{\"id\":\"2029\"},\"selection_glyph\":null,\"view\":{\"id\":\"2031\"}},\"id\":\"2030\",\"type\":\"GlyphRenderer\"},{\"attributes\":{},\"id\":\"2003\",\"type\":\"BasicTicker\"},{\"attributes\":{\"axis_label\":null,\"formatter\":{\"id\":\"2033\"},\"ticker\":{\"id\":\"2007\"},\"visible\":false},\"id\":\"2006\",\"type\":\"LinearAxis\"},{\"attributes\":{},\"id\":\"2100\",\"type\":\"UnionRenderers\"},{\"attributes\":{\"end_angle\":{\"expr\":{\"id\":\"2025\"},\"units\":\"rad\"},\"fill_alpha\":{\"value\":0.1},\"fill_color\":{\"field\":\"color\"},\"line_alpha\":{\"value\":0.1},\"radius\":{\"units\":\"data\",\"value\":0.4},\"start_angle\":{\"expr\":{\"id\":\"2024\"},\"units\":\"rad\"},\"x\":{\"value\":0},\"y\":{\"value\":1}},\"id\":\"2029\",\"type\":\"Wedge\"},{\"attributes\":{\"bottom_units\":\"screen\",\"fill_alpha\":0.5,\"fill_color\":\"lightgrey\",\"left_units\":\"screen\",\"level\":\"overlay\",\"line_alpha\":1.0,\"line_color\":\"black\",\"line_dash\":[4,4],\"line_width\":2,\"render_mode\":\"css\",\"right_units\":\"screen\",\"top_units\":\"screen\"},\"id\":\"2016\",\"type\":\"BoxAnnotation\"},{\"attributes\":{\"text\":\"Entrance: Vauxhall station\"},\"id\":\"1992\",\"type\":\"Title\"},{\"attributes\":{\"active_drag\":\"auto\",\"active_inspect\":\"auto\",\"active_multi\":null,\"active_scroll\":\"auto\",\"active_tap\":\"auto\",\"tools\":[{\"id\":\"2010\"},{\"id\":\"2011\"},{\"id\":\"2012\"},{\"id\":\"2013\"},{\"id\":\"2014\"},{\"id\":\"2015\"}]},\"id\":\"2017\",\"type\":\"Toolbar\"},{\"attributes\":{},\"id\":\"2000\",\"type\":\"LinearScale\"},{\"attributes\":{\"end\":0.75,\"start\":-0.5},\"id\":\"1994\",\"type\":\"Range1d\"},{\"attributes\":{},\"id\":\"2011\",\"type\":\"WheelZoomTool\"},{\"attributes\":{},\"id\":\"2015\",\"type\":\"HelpTool\"},{\"attributes\":{\"field\":\"angle\"},\"id\":\"2025\",\"type\":\"CumSum\"},{\"attributes\":{},\"id\":\"2033\",\"type\":\"BasicTickFormatter\"},{\"attributes\":{\"overlay\":{\"id\":\"2016\"}},\"id\":\"2012\",\"type\":\"BoxZoomTool\"},{\"attributes\":{},\"id\":\"2035\",\"type\":\"BasicTickFormatter\"},{\"attributes\":{},\"id\":\"2013\",\"type\":\"SaveTool\"},{\"attributes\":{},\"id\":\"2007\",\"type\":\"BasicTicker\"},{\"attributes\":{},\"id\":\"2010\",\"type\":\"PanTool\"},{\"attributes\":{\"axis_label\":null,\"formatter\":{\"id\":\"2035\"},\"ticker\":{\"id\":\"2003\"},\"visible\":false},\"id\":\"2002\",\"type\":\"LinearAxis\"},{\"attributes\":{\"axis\":{\"id\":\"2002\"},\"grid_line_color\":null,\"ticker\":null},\"id\":\"2005\",\"type\":\"Grid\"}],\"root_ids\":[\"1991\"]},\"title\":\"Bokeh Application\",\"version\":\"2.0.1\"}};\n",
       "  var render_items = [{\"docid\":\"2cab7c8b-f6f8-427a-8754-3b93db8cd9fd\",\"notebook_comms_target\":\"2102\",\"root_ids\":[\"1991\"],\"roots\":{\"1991\":\"3ca93cca-e796-41b8-be3a-89f5b4ff04e7\"}}];\n",
       "  root.Bokeh.embed.embed_items_notebook(docs_json, render_items);\n",
       "\n",
       "  }\n",
       "  if (root.Bokeh !== undefined) {\n",
       "    embed_document(root);\n",
       "  } else {\n",
       "    var attempts = 0;\n",
       "    var timer = setInterval(function(root) {\n",
       "      if (root.Bokeh !== undefined) {\n",
       "        clearInterval(timer);\n",
       "        embed_document(root);\n",
       "      } else {\n",
       "        attempts++;\n",
       "        if (attempts > 100) {\n",
       "          clearInterval(timer);\n",
       "          console.log(\"Bokeh: ERROR: Unable to run BokehJS code because BokehJS library is missing\");\n",
       "        }\n",
       "      }\n",
       "    }, 10, root)\n",
       "  }\n",
       "})(window);"
      ],
      "application/vnd.bokehjs_exec.v0+json": ""
     },
     "metadata": {
      "application/vnd.bokehjs_exec.v0+json": {
       "id": "1991"
      }
     },
     "output_type": "display_data"
    },
    {
     "data": {
      "text/html": [
       "<p><code>&lt;Bokeh Notebook handle for <strong>In[36]</strong>&gt;</code></p>"
      ],
      "text/plain": [
       "<bokeh.io.notebook.CommsHandle at 0x11b36bb50>"
      ]
     },
     "execution_count": 36,
     "metadata": {},
     "output_type": "execute_result"
    }
   ],
   "source": [
    "from bokeh.palettes import Set3\n",
    "from bokeh.transform import cumsum\n",
    "from bokeh.models import LabelSet, ColumnDataSource\n",
    "from bokeh.models import HoverTool\n",
    "\n",
    "####\n",
    "x = vauxhall_ent[time_categorical].to_dict('record')[0]\n",
    "\n",
    "data = pd.Series(x).reset_index(name='value').rename(columns={'index':'time'})\n",
    "data['Perc'] = np.round(data['value']*100/data['value'].sum() ,2)\n",
    "\n",
    "data['angle'] = data['value']/data['value'].sum() *2*np.pi\n",
    "data['angle_s'] = data['angle'].shift(1).fillna(0)\n",
    "data['color'] = Set3[len(x)]\n",
    "\n",
    "### \n",
    "data[\"Perc_legend\"] = data['Perc'].astype(str)\n",
    "data[\"Perc_legend\"] = data[\"Perc_legend\"].apply(lambda x : x+' %')\n",
    "data[\"Perc_legend\"] = data[\"Perc_legend\"].str.pad(8, side = \"left\") \n",
    "data['legend'] = [ str(e)+':'+str(b) for e,b in  zip(data['time'],data['Perc_legend'])]\n",
    "\n",
    "##\n",
    "\n",
    "#hover = HoverTool(tooltips=[(\"@time\", \"@value\")])\n",
    "\n",
    "##\n",
    "p = figure(x_range=(-0.5,0.75),\n",
    "           #y_range=(-0.5,0.5),\n",
    "           #plot_height=450,\n",
    "           title=\"Entrance: Vauxhall station\", \n",
    "           #plot_width=700,\n",
    "           toolbar_location=None,\n",
    "           #tooltips=\"@time: @value\",\n",
    "          # tools=\"pan,box_zoom,reset,save\", \n",
    "           #tooltips=\"@time: @value\",\n",
    "           #x_range=(-0.5, 1.0)\n",
    "          )\n",
    "##\n",
    "\n",
    "\n",
    "# (“percentage”, “@percentage{%0.2f}”)\n",
    "\n",
    "# ])\n",
    "##\n",
    "p.wedge(x=0, \n",
    "        y=1,\n",
    "        radius=0.4,\n",
    "        start_angle=cumsum('angle', include_zero=True), \n",
    "        end_angle=cumsum('angle'),\n",
    "        line_color=\"black\", \n",
    "        fill_alpha=0.8,\n",
    "        fill_color='color',\n",
    "        legend=\"legend\",\n",
    "        source=data)\n",
    "\n",
    "#data[\"value\"] = data[\"value\"].str.pad(35, side = \"left\")\n",
    "\n",
    "data_label = data\n",
    "#data_label['angle'] = data['angle']+90\n",
    "\n",
    "\n",
    "\n",
    "source = ColumnDataSource(data_label)\n",
    "\n",
    "# labels = LabelSet(x=0,\n",
    "#                 y=1,\n",
    "#                 #x_offset=20,\n",
    "#                 #x_offset=0, \n",
    "#             #y_offset=2,\n",
    "#                 text='Perc',\n",
    "                \n",
    "#                 #level='glyph',\n",
    "#                 angle=cumsum('angle', include_zero=True),\n",
    "#                 source=source, \n",
    "#                 text_font_size='10pt',\n",
    "#                 render_mode='canvas'\n",
    "#                 )\n",
    "\n",
    "\n",
    "\n",
    "#p.add_layout(labels,place='below')\n",
    "###\n",
    "p.axis.axis_label=None\n",
    "p.axis.visible=False\n",
    "p.grid.grid_line_color = None\n",
    "p.legend.location = \"top_right\"\n",
    "#hover.point_policy='snap_to_data'\n",
    "#hover.line_policy='none'\n",
    "#p.add_tools(hover)\n",
    "show(p, notebook_handle=True)\n",
    "\n",
    "#Save\n",
    "#export_png(obj=p,filename= \"plots/entrance_vauxhall_pie.png\")"
   ]
  },
  {
   "cell_type": "markdown",
   "metadata": {},
   "source": [
    "## How to generate  Barplot with Bokeh \n"
   ]
  },
  {
   "cell_type": "code",
   "execution_count": null,
   "metadata": {},
   "outputs": [],
   "source": [
    "data"
   ]
  },
  {
   "cell_type": "code",
   "execution_count": null,
   "metadata": {},
   "outputs": [],
   "source": [
    "from bokeh.layouts import gridplot\n",
    "from bokeh.plotting import figure, show, output_file"
   ]
  },
  {
   "cell_type": "code",
   "execution_count": 37,
   "metadata": {},
   "outputs": [
    {
     "data": {
      "text/html": [
       "\n",
       "\n",
       "\n",
       "\n",
       "\n",
       "\n",
       "  <div class=\"bk-root\" id=\"1d024a8b-fd3d-47e8-bcba-3eed7d85b086\" data-root-id=\"2152\"></div>\n"
      ]
     },
     "metadata": {},
     "output_type": "display_data"
    },
    {
     "data": {
      "application/javascript": [
       "(function(root) {\n",
       "  function embed_document(root) {\n",
       "    \n",
       "  var docs_json = {\"bc5ff1ac-35be-48a6-9c56-585b47358ac3\":{\"roots\":{\"references\":[{\"attributes\":{\"below\":[{\"id\":\"2163\"}],\"center\":[{\"id\":\"2165\"},{\"id\":\"2169\"},{\"id\":\"2189\"}],\"left\":[{\"id\":\"2166\"}],\"plot_height\":500,\"plot_width\":1000,\"renderers\":[{\"id\":\"2187\"}],\"title\":{\"id\":\"2153\"},\"toolbar\":{\"id\":\"2177\"},\"toolbar_location\":null,\"x_range\":{\"id\":\"2155\"},\"x_scale\":{\"id\":\"2159\"},\"y_range\":{\"id\":\"2157\"},\"y_scale\":{\"id\":\"2161\"}},\"id\":\"2152\",\"subtype\":\"Figure\",\"type\":\"Plot\"},{\"attributes\":{\"axis\":{\"id\":\"2166\"},\"dimension\":1,\"grid_line_alpha\":0.5,\"ticker\":null},\"id\":\"2169\",\"type\":\"Grid\"},{\"attributes\":{\"overlay\":{\"id\":\"2176\"}},\"id\":\"2172\",\"type\":\"BoxZoomTool\"},{\"attributes\":{},\"id\":\"2253\",\"type\":\"BasicTickFormatter\"},{\"attributes\":{\"axis_label\":\"Volume of user\",\"formatter\":{\"id\":\"2253\"},\"ticker\":{\"id\":\"2167\"}},\"id\":\"2166\",\"type\":\"LinearAxis\"},{\"attributes\":{},\"id\":\"2255\",\"type\":\"CategoricalTickFormatter\"},{\"attributes\":{\"source\":{\"id\":\"2184\"}},\"id\":\"2188\",\"type\":\"CDSView\"},{\"attributes\":{\"factors\":[\"Early\",\"AM Peak\",\"Inter peak\",\"PM Peak\",\"Evening\",\"Late\"]},\"id\":\"2155\",\"type\":\"FactorRange\"},{\"attributes\":{\"bottom_units\":\"screen\",\"fill_alpha\":0.5,\"fill_color\":\"lightgrey\",\"left_units\":\"screen\",\"level\":\"overlay\",\"line_alpha\":1.0,\"line_color\":\"black\",\"line_dash\":[4,4],\"line_width\":2,\"render_mode\":\"css\",\"right_units\":\"screen\",\"top_units\":\"screen\"},\"id\":\"2176\",\"type\":\"BoxAnnotation\"},{\"attributes\":{},\"id\":\"2261\",\"type\":\"UnionRenderers\"},{\"attributes\":{\"axis\":{\"id\":\"2163\"},\"ticker\":null},\"id\":\"2165\",\"type\":\"Grid\"},{\"attributes\":{},\"id\":\"2175\",\"type\":\"HelpTool\"},{\"attributes\":{},\"id\":\"2171\",\"type\":\"WheelZoomTool\"},{\"attributes\":{\"data\":{\"Perc_legend\":[\"  3.13 %\",\" 32.06 %\",\" 23.92 %\",\" 29.36 %\",\"  8.42 %\",\"  3.11 %\"],\"count\":{\"__ndarray__\":\"AAAAAADMmEAAAAAAgMvPQAAAAAAAuMdAAAAAAIAczUAAAAAAALWwQAAAAAAAsJhA\",\"dtype\":\"float64\",\"shape\":[6]},\"time\":[\"Early\",\"AM Peak\",\"Inter peak\",\"PM Peak\",\"Evening\",\"Late\"]},\"selected\":{\"id\":\"2260\"},\"selection_policy\":{\"id\":\"2261\"}},\"id\":\"2151\",\"type\":\"ColumnDataSource\"},{\"attributes\":{\"axis_label\":\"Time\",\"formatter\":{\"id\":\"2255\"},\"ticker\":{\"id\":\"2164\"}},\"id\":\"2163\",\"type\":\"CategoricalAxis\"},{\"attributes\":{\"source\":{\"id\":\"2151\"},\"text\":{\"field\":\"Perc_legend\"},\"x\":{\"field\":\"time\"},\"x_offset\":{\"value\":-13.5},\"y\":{\"field\":\"count\"}},\"id\":\"2189\",\"type\":\"LabelSet\"},{\"attributes\":{},\"id\":\"2257\",\"type\":\"Selection\"},{\"attributes\":{},\"id\":\"2258\",\"type\":\"UnionRenderers\"},{\"attributes\":{\"end\":17779.0,\"start\":0},\"id\":\"2157\",\"type\":\"DataRange1d\"},{\"attributes\":{\"text\":\"Entrance: Vauxhall station\"},\"id\":\"2153\",\"type\":\"Title\"},{\"attributes\":{},\"id\":\"2164\",\"type\":\"CategoricalTicker\"},{\"attributes\":{\"fill_color\":{\"field\":\"fill_color\"},\"top\":{\"field\":\"top\"},\"width\":{\"value\":0.9},\"x\":{\"field\":\"x\"}},\"id\":\"2185\",\"type\":\"VBar\"},{\"attributes\":{},\"id\":\"2159\",\"type\":\"CategoricalScale\"},{\"attributes\":{},\"id\":\"2174\",\"type\":\"ResetTool\"},{\"attributes\":{},\"id\":\"2170\",\"type\":\"PanTool\"},{\"attributes\":{},\"id\":\"2161\",\"type\":\"LinearScale\"},{\"attributes\":{},\"id\":\"2167\",\"type\":\"BasicTicker\"},{\"attributes\":{},\"id\":\"2260\",\"type\":\"Selection\"},{\"attributes\":{\"active_drag\":\"auto\",\"active_inspect\":\"auto\",\"active_multi\":null,\"active_scroll\":\"auto\",\"active_tap\":\"auto\",\"tools\":[{\"id\":\"2170\"},{\"id\":\"2171\"},{\"id\":\"2172\"},{\"id\":\"2173\"},{\"id\":\"2174\"},{\"id\":\"2175\"}]},\"id\":\"2177\",\"type\":\"Toolbar\"},{\"attributes\":{\"data\":{\"fill_color\":[\"#8dd3c7\",\"#ffffb3\",\"#bebada\",\"#fb8072\",\"#80b1d3\",\"#fdb462\"],\"top\":{\"__ndarray__\":\"AAAAAADMmEAAAAAAgMvPQAAAAAAAuMdAAAAAAIAczUAAAAAAALWwQAAAAAAAsJhA\",\"dtype\":\"float64\",\"shape\":[6]},\"x\":[\"Early\",\"AM Peak\",\"Inter peak\",\"PM Peak\",\"Evening\",\"Late\"]},\"selected\":{\"id\":\"2257\"},\"selection_policy\":{\"id\":\"2258\"}},\"id\":\"2184\",\"type\":\"ColumnDataSource\"},{\"attributes\":{\"fill_alpha\":{\"value\":0.1},\"fill_color\":{\"field\":\"fill_color\"},\"line_alpha\":{\"value\":0.1},\"top\":{\"field\":\"top\"},\"width\":{\"value\":0.9},\"x\":{\"field\":\"x\"}},\"id\":\"2186\",\"type\":\"VBar\"},{\"attributes\":{},\"id\":\"2173\",\"type\":\"SaveTool\"},{\"attributes\":{\"data_source\":{\"id\":\"2184\"},\"glyph\":{\"id\":\"2185\"},\"hover_glyph\":null,\"muted_glyph\":null,\"nonselection_glyph\":{\"id\":\"2186\"},\"selection_glyph\":null,\"view\":{\"id\":\"2188\"}},\"id\":\"2187\",\"type\":\"GlyphRenderer\"}],\"root_ids\":[\"2152\"]},\"title\":\"Bokeh Application\",\"version\":\"2.0.1\"}};\n",
       "  var render_items = [{\"docid\":\"bc5ff1ac-35be-48a6-9c56-585b47358ac3\",\"notebook_comms_target\":\"2262\",\"root_ids\":[\"2152\"],\"roots\":{\"2152\":\"1d024a8b-fd3d-47e8-bcba-3eed7d85b086\"}}];\n",
       "  root.Bokeh.embed.embed_items_notebook(docs_json, render_items);\n",
       "\n",
       "  }\n",
       "  if (root.Bokeh !== undefined) {\n",
       "    embed_document(root);\n",
       "  } else {\n",
       "    var attempts = 0;\n",
       "    var timer = setInterval(function(root) {\n",
       "      if (root.Bokeh !== undefined) {\n",
       "        clearInterval(timer);\n",
       "        embed_document(root);\n",
       "      } else {\n",
       "        attempts++;\n",
       "        if (attempts > 100) {\n",
       "          clearInterval(timer);\n",
       "          console.log(\"Bokeh: ERROR: Unable to run BokehJS code because BokehJS library is missing\");\n",
       "        }\n",
       "      }\n",
       "    }, 10, root)\n",
       "  }\n",
       "})(window);"
      ],
      "application/vnd.bokehjs_exec.v0+json": ""
     },
     "metadata": {
      "application/vnd.bokehjs_exec.v0+json": {
       "id": "2152"
      }
     },
     "output_type": "display_data"
    },
    {
     "data": {
      "text/html": [
       "<p><code>&lt;Bokeh Notebook handle for <strong>In[37]</strong>&gt;</code></p>"
      ],
      "text/plain": [
       "<bokeh.io.notebook.CommsHandle at 0x124271a90>"
      ]
     },
     "execution_count": 37,
     "metadata": {},
     "output_type": "execute_result"
    }
   ],
   "source": [
    "from bokeh.io import show\n",
    "from bokeh.palettes import Spectral6\n",
    "from bokeh.plotting import figure\n",
    "from bokeh.transform import factor_cmap\n",
    "from bokeh.models import ColumnDataSource, ranges, LabelSet\n",
    "#output_file(\"bar_colormapped.html\")\n",
    "\n",
    "#data['perc'] = data['value'].apply(lambda x : np.round(x*100/total,2))\n",
    "# data[\"Perc\"] = data['perc'].astype(str)\n",
    "# data[\"Perc\"] = data[\"Perc\"].apply(lambda x : x+' %')\n",
    "\n",
    "source = ColumnDataSource(data=dict(time=data['time'],\n",
    "                                    count=data['value'],\n",
    "                                    Perc_legend=data['Perc_legend']))\n",
    "\n",
    "\n",
    "\n",
    "pl2 = figure(x_range=data['time'],\n",
    "             plot_height=500, \n",
    "             plot_width=1000, \n",
    "             toolbar_location=None, \n",
    "             title=\"Entrance: Vauxhall station\")\n",
    "\n",
    "pl2.vbar(x=data['time'], \n",
    "         top=data['value'], \n",
    "         width=0.9,\n",
    "         fill_color=data['color'],\n",
    "         line_color='black'\n",
    "         #source=data, \n",
    "         #legend_field=\"fruits\",\n",
    "       #line_color='white', \n",
    "         #fill_color=factor_cmap('fruits', palette=Spectral6, factors=fruits)\n",
    "        )\n",
    "\n",
    "\n",
    "labels = LabelSet(x='time', \n",
    "                  y='count',\n",
    "                  text='Perc_legend', \n",
    "                  #level='glyph',\n",
    "                  source=source,\n",
    "                  x_offset=-13.5,\n",
    "                  y_offset=0, \n",
    "                  #render_mode='canvas'\n",
    "                 )\n",
    "#pl2.xgrid.grid_line_color = None\n",
    "pl2.xaxis.axis_label = 'Time'\n",
    "pl2.yaxis.axis_label = 'Volume of user'\n",
    "pl2.y_range.start = 0\n",
    "pl2.y_range.end = np.max(data['value'])+1500\n",
    "# pl2.legend.orientation = \"horizontal\"\n",
    "#pl2.legend.location = \"top_center\"\n",
    "pl2.ygrid.grid_line_alpha = 0.5\n",
    "pl2.add_layout(labels)\n",
    "\n",
    "show(pl2, notebook_handle=True)\n",
    "#export_png(obj=pl2,filename= \"entrance_vauxhall_barplot.png\")"
   ]
  },
  {
   "cell_type": "markdown",
   "metadata": {},
   "source": [
    "## How to generate a Heatmap with Bokeh "
   ]
  },
  {
   "cell_type": "code",
   "execution_count": 38,
   "metadata": {},
   "outputs": [],
   "source": [
    "data_heat_map =pd.DataFrame(factors_ent,columns=['Period','Hours'])\n",
    "data_heat_map['Exit'] = y_vaux_ext\n",
    "data_heat_map = data_heat_map[['Exit','Hours']]\n",
    "\n",
    "data_heat_map = data_heat_map.pivot( columns='Hours', values='Exit').fillna(0)\n",
    "res = data_heat_map.sum(axis=1)"
   ]
  },
  {
   "cell_type": "code",
   "execution_count": 39,
   "metadata": {},
   "outputs": [],
   "source": [
    "data_heat_map = pd.DataFrame(np.array(res)).transpose()\n",
    "data_heat_map.columns = COLUMNS_HOURS\n",
    "data_heat_map['Total'] ='Total'\n",
    "data_heat_map = data_heat_map.set_index(['Total'])"
   ]
  },
  {
   "cell_type": "code",
   "execution_count": 40,
   "metadata": {},
   "outputs": [
    {
     "data": {
      "text/html": [
       "<div>\n",
       "<style scoped>\n",
       "    .dataframe tbody tr th:only-of-type {\n",
       "        vertical-align: middle;\n",
       "    }\n",
       "\n",
       "    .dataframe tbody tr th {\n",
       "        vertical-align: top;\n",
       "    }\n",
       "\n",
       "    .dataframe thead th {\n",
       "        text-align: right;\n",
       "    }\n",
       "</style>\n",
       "<table border=\"1\" class=\"dataframe\">\n",
       "  <thead>\n",
       "    <tr style=\"text-align: right;\">\n",
       "      <th></th>\n",
       "      <th>0200-0215</th>\n",
       "      <th>0215-0230</th>\n",
       "      <th>0230-0245</th>\n",
       "      <th>0245-0300</th>\n",
       "      <th>0300-0315</th>\n",
       "      <th>0315-0330</th>\n",
       "      <th>0330-0345</th>\n",
       "      <th>0345-0400</th>\n",
       "      <th>0400-0415</th>\n",
       "      <th>0415-0430</th>\n",
       "      <th>...</th>\n",
       "      <th>2330-2345</th>\n",
       "      <th>2345-2400</th>\n",
       "      <th>0000-0015</th>\n",
       "      <th>0015-0030</th>\n",
       "      <th>0030-0045</th>\n",
       "      <th>0045-0100</th>\n",
       "      <th>0100-0115</th>\n",
       "      <th>0115-0130</th>\n",
       "      <th>0130-0145</th>\n",
       "      <th>0145-0200</th>\n",
       "    </tr>\n",
       "    <tr>\n",
       "      <th>Total</th>\n",
       "      <th></th>\n",
       "      <th></th>\n",
       "      <th></th>\n",
       "      <th></th>\n",
       "      <th></th>\n",
       "      <th></th>\n",
       "      <th></th>\n",
       "      <th></th>\n",
       "      <th></th>\n",
       "      <th></th>\n",
       "      <th></th>\n",
       "      <th></th>\n",
       "      <th></th>\n",
       "      <th></th>\n",
       "      <th></th>\n",
       "      <th></th>\n",
       "      <th></th>\n",
       "      <th></th>\n",
       "      <th></th>\n",
       "      <th></th>\n",
       "      <th></th>\n",
       "    </tr>\n",
       "  </thead>\n",
       "  <tbody>\n",
       "    <tr>\n",
       "      <th>Total</th>\n",
       "      <td>0.0</td>\n",
       "      <td>0.0</td>\n",
       "      <td>0.0</td>\n",
       "      <td>0.0</td>\n",
       "      <td>0.0</td>\n",
       "      <td>0.0</td>\n",
       "      <td>0.0</td>\n",
       "      <td>0.0</td>\n",
       "      <td>0.0</td>\n",
       "      <td>0.0</td>\n",
       "      <td>...</td>\n",
       "      <td>309.0</td>\n",
       "      <td>267.0</td>\n",
       "      <td>197.0</td>\n",
       "      <td>137.0</td>\n",
       "      <td>79.0</td>\n",
       "      <td>48.0</td>\n",
       "      <td>23.0</td>\n",
       "      <td>19.0</td>\n",
       "      <td>14.0</td>\n",
       "      <td>6.0</td>\n",
       "    </tr>\n",
       "  </tbody>\n",
       "</table>\n",
       "<p>1 rows × 96 columns</p>\n",
       "</div>"
      ],
      "text/plain": [
       "       0200-0215  0215-0230  0230-0245  0245-0300  0300-0315  0315-0330  \\\n",
       "Total                                                                     \n",
       "Total        0.0        0.0        0.0        0.0        0.0        0.0   \n",
       "\n",
       "       0330-0345  0345-0400  0400-0415  0415-0430  ...  2330-2345  2345-2400  \\\n",
       "Total                                              ...                         \n",
       "Total        0.0        0.0        0.0        0.0  ...      309.0      267.0   \n",
       "\n",
       "       0000-0015  0015-0030  0030-0045  0045-0100  0100-0115  0115-0130  \\\n",
       "Total                                                                     \n",
       "Total      197.0      137.0       79.0       48.0       23.0       19.0   \n",
       "\n",
       "       0130-0145  0145-0200  \n",
       "Total                        \n",
       "Total       14.0        6.0  \n",
       "\n",
       "[1 rows x 96 columns]"
      ]
     },
     "execution_count": 40,
     "metadata": {},
     "output_type": "execute_result"
    }
   ],
   "source": [
    "#data_heat_map.index.name='total'\n",
    "data_heat_map.head(3)"
   ]
  },
  {
   "cell_type": "code",
   "execution_count": 41,
   "metadata": {},
   "outputs": [],
   "source": [
    "df = pd.DataFrame(data_heat_map.stack(), columns=['Exit']).reset_index()\n",
    "df.columns = ['Total','Hours','Exit']\n",
    "source = ColumnDataSource(df)"
   ]
  },
  {
   "cell_type": "code",
   "execution_count": 42,
   "metadata": {},
   "outputs": [
    {
     "data": {
      "text/html": [
       "\n",
       "\n",
       "\n",
       "\n",
       "\n",
       "\n",
       "  <div class=\"bk-root\" id=\"41ac002a-9619-4f18-9bfe-fa92b5a16cd5\" data-root-id=\"2325\"></div>\n"
      ]
     },
     "metadata": {},
     "output_type": "display_data"
    },
    {
     "data": {
      "application/javascript": [
       "(function(root) {\n",
       "  function embed_document(root) {\n",
       "    \n",
       "  var docs_json = {\"c61756b4-96e3-4b34-b56b-9f5c7b07b712\":{\"roots\":{\"references\":[{\"attributes\":{\"above\":[{\"id\":\"2336\"}],\"center\":[{\"id\":\"2338\"},{\"id\":\"2341\"}],\"left\":[{\"id\":\"2339\"}],\"plot_height\":300,\"plot_width\":900,\"renderers\":[{\"id\":\"2346\"}],\"right\":[{\"id\":\"2348\"}],\"title\":{\"id\":\"2326\"},\"toolbar\":{\"id\":\"2342\"},\"toolbar_location\":null,\"x_range\":{\"id\":\"2328\"},\"x_scale\":{\"id\":\"2332\"},\"y_range\":{\"id\":\"2330\"},\"y_scale\":{\"id\":\"2334\"}},\"id\":\"2325\",\"subtype\":\"Figure\",\"type\":\"Plot\"},{\"attributes\":{\"color_mapper\":{\"id\":\"2324\"},\"formatter\":{\"id\":\"2424\"},\"location\":[0,0],\"ticker\":{\"id\":\"2423\"}},\"id\":\"2348\",\"type\":\"ColorBar\"},{\"attributes\":{},\"id\":\"2423\",\"type\":\"BasicTicker\"},{\"attributes\":{},\"id\":\"2424\",\"type\":\"BasicTickFormatter\"},{\"attributes\":{\"text\":\"Vauxhall Station Entrance\"},\"id\":\"2326\",\"type\":\"Title\"},{\"attributes\":{\"fill_color\":{\"field\":\"Exit\",\"transform\":{\"id\":\"2324\"}},\"height\":{\"units\":\"data\",\"value\":1},\"width\":{\"units\":\"data\",\"value\":1},\"x\":{\"field\":\"Hours\"},\"y\":{\"field\":\"Total\"}},\"id\":\"2344\",\"type\":\"Rect\"},{\"attributes\":{\"axis_line_color\":null,\"formatter\":{\"id\":\"2421\"},\"major_label_orientation\":1.0,\"major_label_standoff\":0,\"major_label_text_font_size\":\"5pt\",\"major_tick_line_color\":null,\"ticker\":{\"id\":\"2337\"}},\"id\":\"2336\",\"type\":\"CategoricalAxis\"},{\"attributes\":{},\"id\":\"2340\",\"type\":\"CategoricalTicker\"},{\"attributes\":{},\"id\":\"2425\",\"type\":\"CategoricalTickFormatter\"},{\"attributes\":{\"active_drag\":\"auto\",\"active_inspect\":\"auto\",\"active_multi\":null,\"active_scroll\":\"auto\",\"active_tap\":\"auto\"},\"id\":\"2342\",\"type\":\"Toolbar\"},{\"attributes\":{\"fill_alpha\":{\"value\":0.1},\"fill_color\":{\"field\":\"Exit\",\"transform\":{\"id\":\"2324\"}},\"height\":{\"units\":\"data\",\"value\":1},\"line_alpha\":{\"value\":0.1},\"width\":{\"units\":\"data\",\"value\":1},\"x\":{\"field\":\"Hours\"},\"y\":{\"field\":\"Total\"}},\"id\":\"2345\",\"type\":\"Rect\"},{\"attributes\":{\"factors\":[\"Total\"]},\"id\":\"2330\",\"type\":\"FactorRange\"},{\"attributes\":{\"data_source\":{\"id\":\"2323\"},\"glyph\":{\"id\":\"2344\"},\"hover_glyph\":null,\"muted_glyph\":null,\"nonselection_glyph\":{\"id\":\"2345\"},\"selection_glyph\":null,\"view\":{\"id\":\"2347\"}},\"id\":\"2346\",\"type\":\"GlyphRenderer\"},{\"attributes\":{\"factors\":[\"0200-0215\",\"0215-0230\",\"0230-0245\",\"0245-0300\",\"0300-0315\",\"0315-0330\",\"0330-0345\",\"0345-0400\",\"0400-0415\",\"0415-0430\",\"0430-0445\",\"0445-0500\",\"0500-0515\",\"0515-0530\",\"0530-0545\",\"0545-0600\",\"0600-0615\",\"0615-0630\",\"0630-0645\",\"0645-0700\",\"0700-0715\",\"0715-0730\",\"0730-0745\",\"0745-0800\",\"0800-0815\",\"0815-0830\",\"0830-0845\",\"0845-0900\",\"0900-0915\",\"0915-0930\",\"0930-0945\",\"0945-1000\",\"1000-1015\",\"1015-1030\",\"1030-1045\",\"1045-1100\",\"1100-1115\",\"1115-1130\",\"1130-1145\",\"1145-1200\",\"1200-1215\",\"1215-1230\",\"1230-1245\",\"1245-1300\",\"1300-1315\",\"1315-1330\",\"1330-1345\",\"1345-1400\",\"1400-1415\",\"1415-1430\",\"1430-1445\",\"1445-1500\",\"1500-1515\",\"1515-1530\",\"1530-1545\",\"1545-1600\",\"1600-1615\",\"1615-1630\",\"1630-1645\",\"1645-1700\",\"1700-1715\",\"1715-1730\",\"1730-1745\",\"1745-1800\",\"1800-1815\",\"1815-1830\",\"1830-1845\",\"1845-1900\",\"1900-1915\",\"1915-1930\",\"1930-1945\",\"1945-2000\",\"2000-2015\",\"2015-2030\",\"2030-2045\",\"2045-2100\",\"2100-2115\",\"2115-2130\",\"2130-2145\",\"2145-2200\",\"2200-2215\",\"2215-2230\",\"2230-2245\",\"2245-2300\",\"2300-2315\",\"2315-2330\",\"2330-2345\",\"2345-2400\",\"0000-0015\",\"0015-0030\",\"0030-0045\",\"0045-0100\",\"0100-0115\",\"0115-0130\",\"0130-0145\",\"0145-0200\"]},\"id\":\"2328\",\"type\":\"FactorRange\"},{\"attributes\":{\"axis\":{\"id\":\"2339\"},\"dimension\":1,\"ticker\":null},\"id\":\"2341\",\"type\":\"Grid\"},{\"attributes\":{\"axis\":{\"id\":\"2336\"},\"ticker\":null},\"id\":\"2338\",\"type\":\"Grid\"},{\"attributes\":{},\"id\":\"2421\",\"type\":\"CategoricalTickFormatter\"},{\"attributes\":{},\"id\":\"2337\",\"type\":\"CategoricalTicker\"},{\"attributes\":{},\"id\":\"2427\",\"type\":\"Selection\"},{\"attributes\":{\"data\":{\"Exit\":{\"__ndarray__\":\"AAAAAAAAAAAAAAAAAAAAAAAAAAAAAAAAAAAAAAAAAAAAAAAAAAAAAAAAAAAAAAAAAAAAAAAAAAAAAAAAAAAAAAAAAAAAAAAAAAAAAAAAAAAAAAAAAAAAAAAAAAAAAAAAAAAAAAAAAAAAAAAAAAAkQAAAAAAAgEZAAAAAAACAXkAAAAAAAOBuQAAAAAAAYHxAAAAAAACQhkAAAAAAACCOQAAAAAAA0JFAAAAAAAA0k0AAAAAAAGCTQAAAAAAAKJJAAAAAAAB8kUAAAAAAAIyRQAAAAAAAaJJAAAAAAAAskkAAAAAAAEiQQAAAAAAA6IpAAAAAAABIhkAAAAAAACiCQAAAAAAAkHtAAAAAAADgdUAAAAAAAPBzQAAAAAAAYHNAAAAAAABgckAAAAAAAIBxQAAAAAAAoHFAAAAAAACgckAAAAAAADBzQAAAAAAA8HNAAAAAAABQdEAAAAAAAOB0QAAAAAAA4HVAAAAAAAAwd0AAAAAAAPB3QAAAAAAAcHdAAAAAAAAwdkAAAAAAADB3QAAAAAAAAHlAAAAAAADgeEAAAAAAAAB5QAAAAAAAQHtAAAAAAAAQfUAAAAAAAHB9QAAAAAAAMIFAAAAAAABIhEAAAAAAAHCGQAAAAAAASIdAAAAAAABIi0AAAAAAALCPQAAAAAAAUJJAAAAAAAB4k0AAAAAAAMSUQAAAAAAAlJRAAAAAAAC8k0AAAAAAANCRQAAAAAAAgI9AAAAAAAA4i0AAAAAAAHiHQAAAAAAAoIRAAAAAAABQgkAAAAAAADiBQAAAAAAAuIBAAAAAAACwf0AAAAAAAGB+QAAAAAAAYH1AAAAAAAAgfEAAAAAAAFB6QAAAAAAA4HlAAAAAAAAAe0AAAAAAANB8QAAAAAAAAH1AAAAAAAAwekAAAAAAAMB2QAAAAAAAUHNAAAAAAACwcEAAAAAAAKBoQAAAAAAAIGFAAAAAAADAU0AAAAAAAABIQAAAAAAAADdAAAAAAAAAM0AAAAAAAAAsQAAAAAAAABhA\",\"dtype\":\"float64\",\"shape\":[96]},\"Hours\":[\"0200-0215\",\"0215-0230\",\"0230-0245\",\"0245-0300\",\"0300-0315\",\"0315-0330\",\"0330-0345\",\"0345-0400\",\"0400-0415\",\"0415-0430\",\"0430-0445\",\"0445-0500\",\"0500-0515\",\"0515-0530\",\"0530-0545\",\"0545-0600\",\"0600-0615\",\"0615-0630\",\"0630-0645\",\"0645-0700\",\"0700-0715\",\"0715-0730\",\"0730-0745\",\"0745-0800\",\"0800-0815\",\"0815-0830\",\"0830-0845\",\"0845-0900\",\"0900-0915\",\"0915-0930\",\"0930-0945\",\"0945-1000\",\"1000-1015\",\"1015-1030\",\"1030-1045\",\"1045-1100\",\"1100-1115\",\"1115-1130\",\"1130-1145\",\"1145-1200\",\"1200-1215\",\"1215-1230\",\"1230-1245\",\"1245-1300\",\"1300-1315\",\"1315-1330\",\"1330-1345\",\"1345-1400\",\"1400-1415\",\"1415-1430\",\"1430-1445\",\"1445-1500\",\"1500-1515\",\"1515-1530\",\"1530-1545\",\"1545-1600\",\"1600-1615\",\"1615-1630\",\"1630-1645\",\"1645-1700\",\"1700-1715\",\"1715-1730\",\"1730-1745\",\"1745-1800\",\"1800-1815\",\"1815-1830\",\"1830-1845\",\"1845-1900\",\"1900-1915\",\"1915-1930\",\"1930-1945\",\"1945-2000\",\"2000-2015\",\"2015-2030\",\"2030-2045\",\"2045-2100\",\"2100-2115\",\"2115-2130\",\"2130-2145\",\"2145-2200\",\"2200-2215\",\"2215-2230\",\"2230-2245\",\"2245-2300\",\"2300-2315\",\"2315-2330\",\"2330-2345\",\"2345-2400\",\"0000-0015\",\"0015-0030\",\"0030-0045\",\"0045-0100\",\"0100-0115\",\"0115-0130\",\"0130-0145\",\"0145-0200\"],\"Total\":[\"Total\",\"Total\",\"Total\",\"Total\",\"Total\",\"Total\",\"Total\",\"Total\",\"Total\",\"Total\",\"Total\",\"Total\",\"Total\",\"Total\",\"Total\",\"Total\",\"Total\",\"Total\",\"Total\",\"Total\",\"Total\",\"Total\",\"Total\",\"Total\",\"Total\",\"Total\",\"Total\",\"Total\",\"Total\",\"Total\",\"Total\",\"Total\",\"Total\",\"Total\",\"Total\",\"Total\",\"Total\",\"Total\",\"Total\",\"Total\",\"Total\",\"Total\",\"Total\",\"Total\",\"Total\",\"Total\",\"Total\",\"Total\",\"Total\",\"Total\",\"Total\",\"Total\",\"Total\",\"Total\",\"Total\",\"Total\",\"Total\",\"Total\",\"Total\",\"Total\",\"Total\",\"Total\",\"Total\",\"Total\",\"Total\",\"Total\",\"Total\",\"Total\",\"Total\",\"Total\",\"Total\",\"Total\",\"Total\",\"Total\",\"Total\",\"Total\",\"Total\",\"Total\",\"Total\",\"Total\",\"Total\",\"Total\",\"Total\",\"Total\",\"Total\",\"Total\",\"Total\",\"Total\",\"Total\",\"Total\",\"Total\",\"Total\",\"Total\",\"Total\",\"Total\",\"Total\"],\"index\":[0,1,2,3,4,5,6,7,8,9,10,11,12,13,14,15,16,17,18,19,20,21,22,23,24,25,26,27,28,29,30,31,32,33,34,35,36,37,38,39,40,41,42,43,44,45,46,47,48,49,50,51,52,53,54,55,56,57,58,59,60,61,62,63,64,65,66,67,68,69,70,71,72,73,74,75,76,77,78,79,80,81,82,83,84,85,86,87,88,89,90,91,92,93,94,95]},\"selected\":{\"id\":\"2427\"},\"selection_policy\":{\"id\":\"2428\"}},\"id\":\"2323\",\"type\":\"ColumnDataSource\"},{\"attributes\":{\"high\":1329.0,\"low\":0.0,\"palette\":[\"#ffffcc\",\"#ffeda0\",\"#fed976\",\"#feb24c\",\"#fd8d3c\",\"#fc4e2a\",\"#e31a1c\",\"#bd0026\",\"#800026\"]},\"id\":\"2324\",\"type\":\"LinearColorMapper\"},{\"attributes\":{},\"id\":\"2332\",\"type\":\"CategoricalScale\"},{\"attributes\":{},\"id\":\"2428\",\"type\":\"UnionRenderers\"},{\"attributes\":{\"axis_line_color\":null,\"formatter\":{\"id\":\"2425\"},\"major_label_standoff\":0,\"major_label_text_font_size\":\"5pt\",\"major_tick_line_color\":null,\"ticker\":{\"id\":\"2340\"}},\"id\":\"2339\",\"type\":\"CategoricalAxis\"},{\"attributes\":{\"source\":{\"id\":\"2323\"}},\"id\":\"2347\",\"type\":\"CDSView\"},{\"attributes\":{},\"id\":\"2334\",\"type\":\"CategoricalScale\"}],\"root_ids\":[\"2325\"]},\"title\":\"Bokeh Application\",\"version\":\"2.0.1\"}};\n",
       "  var render_items = [{\"docid\":\"c61756b4-96e3-4b34-b56b-9f5c7b07b712\",\"notebook_comms_target\":\"2429\",\"root_ids\":[\"2325\"],\"roots\":{\"2325\":\"41ac002a-9619-4f18-9bfe-fa92b5a16cd5\"}}];\n",
       "  root.Bokeh.embed.embed_items_notebook(docs_json, render_items);\n",
       "\n",
       "  }\n",
       "  if (root.Bokeh !== undefined) {\n",
       "    embed_document(root);\n",
       "  } else {\n",
       "    var attempts = 0;\n",
       "    var timer = setInterval(function(root) {\n",
       "      if (root.Bokeh !== undefined) {\n",
       "        clearInterval(timer);\n",
       "        embed_document(root);\n",
       "      } else {\n",
       "        attempts++;\n",
       "        if (attempts > 100) {\n",
       "          clearInterval(timer);\n",
       "          console.log(\"Bokeh: ERROR: Unable to run BokehJS code because BokehJS library is missing\");\n",
       "        }\n",
       "      }\n",
       "    }, 10, root)\n",
       "  }\n",
       "})(window);"
      ],
      "application/vnd.bokehjs_exec.v0+json": ""
     },
     "metadata": {
      "application/vnd.bokehjs_exec.v0+json": {
       "id": "2325"
      }
     },
     "output_type": "display_data"
    },
    {
     "data": {
      "text/html": [
       "<p><code>&lt;Bokeh Notebook handle for <strong>In[42]</strong>&gt;</code></p>"
      ],
      "text/plain": [
       "<bokeh.io.notebook.CommsHandle at 0x124377940>"
      ]
     },
     "execution_count": 42,
     "metadata": {},
     "output_type": "execute_result"
    }
   ],
   "source": [
    "from bokeh.io import output_file, show\n",
    "from bokeh.models import BasicTicker, ColorBar, ColumnDataSource, LinearColorMapper, PrintfTickFormatter\n",
    "from bokeh.plotting import figure\n",
    "from bokeh.sampledata.unemployment1948 import data\n",
    "from bokeh.transform import transform\n",
    "from bokeh.palettes import YlOrRd9 as palette\n",
    " \n",
    "\n",
    "#data_heat_map = data_heat_map.set_index('Hours')\n",
    "#data_heat_map.drop('Annual', axis=1, inplace=True)\n",
    "#data_heat_map.columns.name = 'Month'\n",
    "\n",
    "# reshape to 1D array or rates with a month and year for each row.\n",
    "#df = pd.DataFrame(data.stack(), columns=['rate']).reset_index()\n",
    "\n",
    "\n",
    "######\n",
    "#df = pd.DataFrame(data_heat_map.stack(), columns=['Exit']).reset_index()\n",
    "#source = ColumnDataSource(df)\n",
    "\n",
    "#data_heat_map['Entrance'] = y_vaux_ent\n",
    "\n",
    "#data_heat_map = data_heat_map.set_index('Hours')\n",
    "#data_heat_map.drop('Period', axis=1, inplace=True)\n",
    "\n",
    "\n",
    "\n",
    "# this is the colormap from the original NYTimes plot\n",
    "colors = palette[::-1] \n",
    "mapper = LinearColorMapper(palette=colors, \n",
    "                           low=np.min(res),\n",
    "                           high=np.max(res))\n",
    "\n",
    "#=======\n",
    "p = figure(plot_width=900, \n",
    "           plot_height=300, \n",
    "           title=\"Vauxhall Station Entrance\",\n",
    "           x_range=list(COLUMNS_HOURS), \n",
    "           y_range=list(data_heat_map.index),\n",
    "           toolbar_location=None, \n",
    "           tools=\"\", \n",
    "           x_axis_location=\"above\"\n",
    "          )\n",
    "\n",
    "\n",
    "#=======\n",
    "p.rect(x=\"Hours\", \n",
    "       y=\"Total\", \n",
    "       width=1, \n",
    "       height=1, \n",
    "       source=source,\n",
    "       line_color='black', \n",
    "       fill_color=transform('Exit', mapper)\n",
    "      )\n",
    "\n",
    "#====\n",
    "color_bar = ColorBar(color_mapper=mapper,\n",
    "                     location=(0, 0),\n",
    "                    #ticker=BasicTicker(desired_num_ticks=len(colors)),\n",
    "                     #formatter=PrintfTickFormatter(format=\"%d%%\")\n",
    "                    )\n",
    "\n",
    "\n",
    "p.add_layout(color_bar, 'right')\n",
    "p.axis.axis_line_color = None\n",
    "p.axis.major_tick_line_color = None\n",
    "p.axis.major_label_text_font_size = \"5pt\"\n",
    "p.axis.major_label_standoff = 0\n",
    "p.xaxis.major_label_orientation = 1.0\n",
    "\n",
    "show(p, notebook_handle=True)\n",
    "\n",
    "#export_png(obj=p,filename= \"entrance_vauxhall_heatmap.png\")"
   ]
  },
  {
   "cell_type": "code",
   "execution_count": 43,
   "metadata": {},
   "outputs": [
    {
     "name": "stdout",
     "output_type": "stream",
     "text": [
      "Python implementation: CPython\n",
      "Python version       : 3.8.1\n",
      "IPython version      : 7.13.0\n",
      "\n"
     ]
    }
   ],
   "source": [
    "%watermark -v "
   ]
  },
  {
   "cell_type": "code",
   "execution_count": 44,
   "metadata": {},
   "outputs": [
    {
     "name": "stdout",
     "output_type": "stream",
     "text": [
      "numpy : 1.18.2\n",
      "bokeh : 2.0.1\n",
      "pandas: 1.0.3\n",
      "\n"
     ]
    }
   ],
   "source": [
    "%watermark --iversions\n"
   ]
  },
  {
   "cell_type": "code",
   "execution_count": null,
   "metadata": {},
   "outputs": [],
   "source": []
  }
 ],
 "metadata": {
  "kernelspec": {
   "display_name": "Python 3",
   "language": "python",
   "name": "python3"
  },
  "language_info": {
   "codemirror_mode": {
    "name": "ipython",
    "version": 3
   },
   "file_extension": ".py",
   "mimetype": "text/x-python",
   "name": "python",
   "nbconvert_exporter": "python",
   "pygments_lexer": "ipython3",
   "version": "3.8.1"
  }
 },
 "nbformat": 4,
 "nbformat_minor": 4
}
