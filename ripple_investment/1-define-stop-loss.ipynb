{
 "cells": [
  {
   "cell_type": "markdown",
   "id": "a448b821-48af-4bbd-ada6-a7e06f3ef4d0",
   "metadata": {},
   "source": [
    "## Define a stop loss \n",
    "\n",
    "- A stop-loss order specifies that a stock be bought or sold when it reaches a specified price known as the stop price.\n",
    "- A disadvantage is that a short-term price fluctuation could activate the stop and trigger an unnecessary sale\n",
    "\n",
    "## Type of stop loss \n",
    "- **Stop-Loss**: A stop-loss is designed to limit our loss on an open position. For example, setting a stop-loss order for 5% below the price at which we opened a long position will limit our loss to 5%.\n",
    "\n",
    "- **Trailing Stop-Loss** : A trailing stop-loss is designed to protect the profit of an open position. For example, setting a trailing stop-loss order for 5% for a long position will have a starting maximum loss of 5%. If the price goes up, the stop level is updated to 5% below the **current price**; if the price goes down, the stop level will not be adjusted, we trigger a sell.\n",
    "\n",
    "Since we are working with a trending strategy of 5 days windows we need to know what is the average volatility in a 5 days time windows."
   ]
  },
  {
   "cell_type": "code",
   "execution_count": 39,
   "id": "225c1e19-49a6-4bdf-8e98-15d959984945",
   "metadata": {},
   "outputs": [],
   "source": [
    "import pandas as pd \n",
    "import numpy as np\n",
    "import seaborn as sns\n",
    "import matplotlib.pylab as plt\n",
    "\n",
    "data = pd.read_csv(\"data/XRP_price_20210608.csv\")\n",
    "data['date'] = data['time'].apply(pd.Timestamp,unit='s')\n",
    "\n",
    "NAME='RIPPLE'"
   ]
  },
  {
   "cell_type": "code",
   "execution_count": 40,
   "id": "d14ee8f7-f23f-4702-b5f5-ec34d6f9b8b4",
   "metadata": {},
   "outputs": [
    {
     "data": {
      "image/png": "[encoded data removed]",
      "text/plain": [
       "<Figure size 720x360 with 1 Axes>"
      ]
     },
     "metadata": {
      "needs_background": "light"
     },
     "output_type": "display_data"
    }
   ],
   "source": [
    "fig,ax = plt.subplots(figsize=(10,5))\n",
    "\n",
    "\n",
    "x_lab =  data['date'].values\n",
    "y_price = data['close'].values\n",
    "ax.plot(x_lab,y_price,color='#3498db',lw=1.0)\n",
    "ax.set_ylabel('price')\n",
    "ax.set_xlabel('date')\n",
    "ax.grid(True)\n",
    "plt.title('Ripple Price')\n",
    "plt.show()"
   ]
  },
  {
   "cell_type": "code",
   "execution_count": 164,
   "id": "80ae478c-0df2-410e-80ac-dbf1559d4338",
   "metadata": {},
   "outputs": [],
   "source": [
    "# Split per year \n",
    "# average percentage change per year \n",
    "# per month \n",
    "datum = pd.read_csv(\"data/XRP_price_20210608.csv\")\n",
    "datum['date'] = datum['time'].apply(pd.Timestamp,unit='s')\n",
    "datum['year'] = datum['date'].apply(lambda x: pd.Timestamp(x).year).apply(str)\n",
    "datum['month'] = datum['date'].apply(lambda x: pd.Timestamp(x).strftime('%b'))\n",
    "\n",
    "\n"
   ]
  },
  {
   "cell_type": "code",
   "execution_count": 165,
   "id": "9926756f-47c3-42d3-9731-2314c402ca2a",
   "metadata": {},
   "outputs": [
    {
     "data": {
      "image/png": "[encoded data removed]",
      "text/html": [
       "<div style=\"vertical-align: middle;\"><strong>blend</strong> </div><div class=\"cmap\"><img alt=\"blend colormap\" title=\"blend\" style=\"border: 1px solid #555;\" src=\"data:image/png;base64,iVBORw0KGgoAAAANSUhEUgAAAgAAAABACAYAAABsv8+/AAAAFHRFWHRUaXRsZQBibGVuZCBjb2xvcm1hcKH0gPAAAAAadEVYdERlc2NyaXB0aW9uAGJsZW5kIGNvbG9ybWFwX6spFgAAADB0RVh0QXV0aG9yAE1hdHBsb3RsaWIgdjMuNC4yLCBodHRwczovL21hdHBsb3RsaWIub3JnrNZj3QAAADJ0RVh0U29mdHdhcmUATWF0cGxvdGxpYiB2My40LjIsIGh0dHBzOi8vbWF0cGxvdGxpYi5vcmeCcPz6AAABk0lEQVR4nO3WS2rDQBBAwU7uf1IvcwFlFYPtCBR7ZAivamMGxOjTlngfl6/LNjOzzTY3v9vv67mu59DxR/d9PM8s2WdvPffXv2jfw/fx4r6797Fo3z+f58Xnt/ucVs372f/tu+Z9eA4/64PnWfV+nDXvVXPYub6z34/rfZw073//PXx4D598Xr6HS/a9n8PnAAA5AgAAggQAAAQJAAAIEgAAECQAACBIAABAkAAAgCABAABBAgAAggQAAAQJAAAIEgAAECQAACBIAABAkAAAgCABAABBAgAAggQAAAQJAAAIEgAAECQAACBIAABAkAAAgCABAABBAgAAggQAAAQJAAAIEgAAECQAACBIAABAkAAAgCABAABBAgAAggQAAAQJAAAIEgAAECQAACBIAABAkAAAgCABAABBAgAAggQAAAQJAAAIEgAAECQAACBIAABAkAAAgCABAABBAgAAggQAAAQJAAAIEgAAECQAACBIAABAkAAAgCABAABBAgAAggQAAAQJAAAIEgAAECQAACBIAABA0DdwDkgdx6omDAAAAABJRU5ErkJggg==\"></div><div style=\"vertical-align: middle; max-width: 514px; display: flex; justify-content: space-between;\"><div style=\"float: left;\"><div title=\"#ebf3ebff\" style=\"display: inline-block; width: 1em; height: 1em; margin: 0; vertical-align: middle; border: 1px solid #555; background-color: #ebf3ebff;\"></div> under</div><div style=\"margin: 0 auto; display: inline-block;\">bad <div title=\"#00000000\" style=\"display: inline-block; width: 1em; height: 1em; margin: 0; vertical-align: middle; border: 1px solid #555; background-color: #00000000;\"></div></div><div style=\"float: right;\">over <div title=\"#008000ff\" style=\"display: inline-block; width: 1em; height: 1em; margin: 0; vertical-align: middle; border: 1px solid #555; background-color: #008000ff;\"></div></div>"
      ],
      "text/plain": [
       "<matplotlib.colors.LinearSegmentedColormap at 0x1291b8460>"
      ]
     },
     "execution_count": 165,
     "metadata": {},
     "output_type": "execute_result"
    }
   ],
   "source": [
    "cm"
   ]
  },
  {
   "cell_type": "code",
   "execution_count": null,
   "id": "492dec0a-b231-4bbf-8ef2-e03defabb6d9",
   "metadata": {},
   "outputs": [],
   "source": []
  },
  {
   "cell_type": "code",
   "execution_count": 177,
   "id": "492d66bc-a978-44c3-9a0b-b5bfb6787322",
   "metadata": {},
   "outputs": [
    {
     "data": {
      "text/html": [
       "<style  type=\"text/css\" >\n",
       "#T_8943d_row0_col0,#T_8943d_row0_col3,#T_8943d_row0_col4,#T_8943d_row0_col5,#T_8943d_row0_col6,#T_8943d_row0_col10,#T_8943d_row0_col11,#T_8943d_row1_col0,#T_8943d_row1_col1,#T_8943d_row1_col2,#T_8943d_row1_col3,#T_8943d_row1_col4,#T_8943d_row1_col5,#T_8943d_row1_col6,#T_8943d_row1_col7,#T_8943d_row1_col8,#T_8943d_row1_col9,#T_8943d_row1_col10,#T_8943d_row2_col0,#T_8943d_row2_col1,#T_8943d_row2_col2,#T_8943d_row2_col3,#T_8943d_row2_col4,#T_8943d_row2_col5,#T_8943d_row2_col7,#T_8943d_row2_col8,#T_8943d_row2_col9,#T_8943d_row3_col0,#T_8943d_row3_col1,#T_8943d_row3_col2,#T_8943d_row3_col6,#T_8943d_row3_col7,#T_8943d_row3_col8,#T_8943d_row3_col10,#T_8943d_row4_col4,#T_8943d_row4_col8{\n",
       "            background-color:  #ebf3eb;\n",
       "            color:  #000000;\n",
       "        }#T_8943d_row0_col1,#T_8943d_row0_col2,#T_8943d_row0_col7,#T_8943d_row0_col8,#T_8943d_row1_col11,#T_8943d_row2_col6,#T_8943d_row2_col10,#T_8943d_row3_col4,#T_8943d_row3_col5,#T_8943d_row3_col9,#T_8943d_row4_col0,#T_8943d_row4_col3{\n",
       "            background-color:  #86c286;\n",
       "            color:  #000000;\n",
       "        }#T_8943d_row0_col9{\n",
       "            background-color:  #cbe4cb;\n",
       "            color:  #000000;\n",
       "        }#T_8943d_row2_col11{\n",
       "            background-color:  #97ca97;\n",
       "            color:  #000000;\n",
       "        }#T_8943d_row3_col3{\n",
       "            background-color:  #c9e2c8;\n",
       "            color:  #000000;\n",
       "        }#T_8943d_row3_col11{\n",
       "            background-color:  #95c995;\n",
       "            color:  #000000;\n",
       "        }#T_8943d_row4_col1,#T_8943d_row4_col2,#T_8943d_row4_col5,#T_8943d_row4_col9,#T_8943d_row4_col10,#T_8943d_row4_col11{\n",
       "            background-color:  #000000;\n",
       "            color:  #f1f1f1;\n",
       "            background-color:  black;\n",
       "        }#T_8943d_row4_col6{\n",
       "            background-color:  #98ca98;\n",
       "            color:  #000000;\n",
       "        }#T_8943d_row4_col7{\n",
       "            background-color:  #d2e7d2;\n",
       "            color:  #000000;\n",
       "        }</style><table id=\"T_8943d_\" ><thead>    <tr>        <th class=\"index_name level0\" >month</th>        <th class=\"col_heading level0 col0\" >Apr</th>        <th class=\"col_heading level0 col1\" >Aug</th>        <th class=\"col_heading level0 col2\" >Dec</th>        <th class=\"col_heading level0 col3\" >Feb</th>        <th class=\"col_heading level0 col4\" >Jan</th>        <th class=\"col_heading level0 col5\" >Jul</th>        <th class=\"col_heading level0 col6\" >Jun</th>        <th class=\"col_heading level0 col7\" >Mar</th>        <th class=\"col_heading level0 col8\" >May</th>        <th class=\"col_heading level0 col9\" >Nov</th>        <th class=\"col_heading level0 col10\" >Oct</th>        <th class=\"col_heading level0 col11\" >Sep</th>    </tr>    <tr>        <th class=\"index_name level0\" >year</th>        <th class=\"blank\" ></th>        <th class=\"blank\" ></th>        <th class=\"blank\" ></th>        <th class=\"blank\" ></th>        <th class=\"blank\" ></th>        <th class=\"blank\" ></th>        <th class=\"blank\" ></th>        <th class=\"blank\" ></th>        <th class=\"blank\" ></th>        <th class=\"blank\" ></th>        <th class=\"blank\" ></th>        <th class=\"blank\" ></th>    </tr></thead><tbody>\n",
       "                <tr>\n",
       "                        <th id=\"T_8943d_level0_row0\" class=\"row_heading level0 row0\" >2017</th>\n",
       "                        <td id=\"T_8943d_row0_col0\" class=\"data row0 col0\" >0.022895</td>\n",
       "                        <td id=\"T_8943d_row0_col1\" class=\"data row0 col1\" >0.034483</td>\n",
       "                        <td id=\"T_8943d_row0_col2\" class=\"data row0 col2\" >0.335878</td>\n",
       "                        <td id=\"T_8943d_row0_col3\" class=\"data row0 col3\" >-0.020329</td>\n",
       "                        <td id=\"T_8943d_row0_col4\" class=\"data row0 col4\" >-0.045455</td>\n",
       "                        <td id=\"T_8943d_row0_col5\" class=\"data row0 col5\" >-0.077869</td>\n",
       "                        <td id=\"T_8943d_row0_col6\" class=\"data row0 col6\" >-0.036022</td>\n",
       "                        <td id=\"T_8943d_row0_col7\" class=\"data row0 col7\" >0.084381</td>\n",
       "                        <td id=\"T_8943d_row0_col8\" class=\"data row0 col8\" >0.643359</td>\n",
       "                        <td id=\"T_8943d_row0_col9\" class=\"data row0 col9\" >0.048178</td>\n",
       "                        <td id=\"T_8943d_row0_col10\" class=\"data row0 col10\" >-0.011209</td>\n",
       "                        <td id=\"T_8943d_row0_col11\" class=\"data row0 col11\" >-0.061303</td>\n",
       "            </tr>\n",
       "            <tr>\n",
       "                        <th id=\"T_8943d_level0_row1\" class=\"row_heading level0 row1\" >2018</th>\n",
       "                        <td id=\"T_8943d_row1_col0\" class=\"data row1 col0\" >0.014767</td>\n",
       "                        <td id=\"T_8943d_row1_col1\" class=\"data row1 col1\" >-0.039301</td>\n",
       "                        <td id=\"T_8943d_row1_col2\" class=\"data row1 col2\" >-0.026580</td>\n",
       "                        <td id=\"T_8943d_row1_col3\" class=\"data row1 col3\" >-0.096702</td>\n",
       "                        <td id=\"T_8943d_row1_col4\" class=\"data row1 col4\" >-0.143577</td>\n",
       "                        <td id=\"T_8943d_row1_col5\" class=\"data row1 col5\" >-0.001319</td>\n",
       "                        <td id=\"T_8943d_row1_col6\" class=\"data row1 col6\" >-0.070943</td>\n",
       "                        <td id=\"T_8943d_row1_col7\" class=\"data row1 col7\" >-0.103997</td>\n",
       "                        <td id=\"T_8943d_row1_col8\" class=\"data row1 col8\" >-0.060033</td>\n",
       "                        <td id=\"T_8943d_row1_col9\" class=\"data row1 col9\" >-0.052604</td>\n",
       "                        <td id=\"T_8943d_row1_col10\" class=\"data row1 col10\" >-0.020841</td>\n",
       "                        <td id=\"T_8943d_row1_col11\" class=\"data row1 col11\" >0.004708</td>\n",
       "            </tr>\n",
       "            <tr>\n",
       "                        <th id=\"T_8943d_level0_row2\" class=\"row_heading level0 row2\" >2019</th>\n",
       "                        <td id=\"T_8943d_row2_col0\" class=\"data row2 col0\" >0.002452</td>\n",
       "                        <td id=\"T_8943d_row2_col1\" class=\"data row2 col1\" >-0.039209</td>\n",
       "                        <td id=\"T_8943d_row2_col2\" class=\"data row2 col2\" >-0.022335</td>\n",
       "                        <td id=\"T_8943d_row2_col3\" class=\"data row2 col3\" >0.008336</td>\n",
       "                        <td id=\"T_8943d_row2_col4\" class=\"data row2 col4\" >-0.027812</td>\n",
       "                        <td id=\"T_8943d_row2_col5\" class=\"data row2 col5\" >-0.028882</td>\n",
       "                        <td id=\"T_8943d_row2_col6\" class=\"data row2 col6\" >0.000902</td>\n",
       "                        <td id=\"T_8943d_row2_col7\" class=\"data row2 col7\" >-0.000648</td>\n",
       "                        <td id=\"T_8943d_row2_col8\" class=\"data row2 col8\" >0.034780</td>\n",
       "                        <td id=\"T_8943d_row2_col9\" class=\"data row2 col9\" >-0.064839</td>\n",
       "                        <td id=\"T_8943d_row2_col10\" class=\"data row2 col10\" >0.045004</td>\n",
       "                        <td id=\"T_8943d_row2_col11\" class=\"data row2 col11\" >0.001340</td>\n",
       "            </tr>\n",
       "            <tr>\n",
       "                        <th id=\"T_8943d_level0_row3\" class=\"row_heading level0 row3\" >2020</th>\n",
       "                        <td id=\"T_8943d_row3_col0\" class=\"data row3 col0\" >0.030516</td>\n",
       "                        <td id=\"T_8943d_row3_col1\" class=\"data row3 col1\" >-0.017300</td>\n",
       "                        <td id=\"T_8943d_row3_col2\" class=\"data row3 col2\" >-0.109937</td>\n",
       "                        <td id=\"T_8943d_row3_col3\" class=\"data row3 col3\" >0.027088</td>\n",
       "                        <td id=\"T_8943d_row3_col4\" class=\"data row3 col4\" >0.034965</td>\n",
       "                        <td id=\"T_8943d_row3_col5\" class=\"data row3 col5\" >0.049434</td>\n",
       "                        <td id=\"T_8943d_row3_col6\" class=\"data row3 col6\" >-0.028164</td>\n",
       "                        <td id=\"T_8943d_row3_col7\" class=\"data row3 col7\" >0.022727</td>\n",
       "                        <td id=\"T_8943d_row3_col8\" class=\"data row3 col8\" >-0.008044</td>\n",
       "                        <td id=\"T_8943d_row3_col9\" class=\"data row3 col9\" >0.077406</td>\n",
       "                        <td id=\"T_8943d_row3_col10\" class=\"data row3 col10\" >0.015715</td>\n",
       "                        <td id=\"T_8943d_row3_col11\" class=\"data row3 col11\" >0.001832</td>\n",
       "            </tr>\n",
       "            <tr>\n",
       "                        <th id=\"T_8943d_level0_row4\" class=\"row_heading level0 row4\" >2021</th>\n",
       "                        <td id=\"T_8943d_row4_col0\" class=\"data row4 col0\" >0.134817</td>\n",
       "                        <td id=\"T_8943d_row4_col1\" class=\"data row4 col1\" >nan</td>\n",
       "                        <td id=\"T_8943d_row4_col2\" class=\"data row4 col2\" >nan</td>\n",
       "                        <td id=\"T_8943d_row4_col3\" class=\"data row4 col3\" >0.057671</td>\n",
       "                        <td id=\"T_8943d_row4_col4\" class=\"data row4 col4\" >-0.023280</td>\n",
       "                        <td id=\"T_8943d_row4_col5\" class=\"data row4 col5\" >nan</td>\n",
       "                        <td id=\"T_8943d_row4_col6\" class=\"data row4 col6\" >-0.002823</td>\n",
       "                        <td id=\"T_8943d_row4_col7\" class=\"data row4 col7\" >0.041905</td>\n",
       "                        <td id=\"T_8943d_row4_col8\" class=\"data row4 col8\" >-0.031250</td>\n",
       "                        <td id=\"T_8943d_row4_col9\" class=\"data row4 col9\" >nan</td>\n",
       "                        <td id=\"T_8943d_row4_col10\" class=\"data row4 col10\" >nan</td>\n",
       "                        <td id=\"T_8943d_row4_col11\" class=\"data row4 col11\" >nan</td>\n",
       "            </tr>\n",
       "    </tbody></table>"
      ],
      "text/plain": [
       "<pandas.io.formats.style.Styler at 0x129284f70>"
      ]
     },
     "execution_count": 177,
     "metadata": {},
     "output_type": "execute_result"
    }
   ],
   "source": [
    "#=====\n",
    "K=6\n",
    "data = datum[['close','year','month']].copy()\n",
    "data['pct_change'] = data['close'].pct_change(periods=K)\n",
    "\n",
    "data = data.groupby(by=['month','year']).median().reset_index()\n",
    "# data = data.set_index('year')\n",
    "# months = list(np.uniquedata['month'].values)\n",
    "\n",
    "\n",
    "def color_negative_red(val):\n",
    "    \"\"\"\n",
    "    Takes a scalar and returns a string with\n",
    "    the css property `'color: red'` for negative\n",
    "    strings, black otherwise.\n",
    "    \"\"\"\n",
    "    color = 'red' if val < 0 else 'black'\n",
    "    return 'color: %s' % color\n",
    "\n",
    "cm = sns.light_palette(\"green\", as_cmap=True)\n",
    "# cm =sns.color_palette(palette=\"coolwarm\", as_cmap=True)\n",
    "df = data.pivot(index='year',columns=['month'],values='pct_change')\n",
    "del data\n",
    "s = (df.style.background_gradient(cmap=cm,low=-0.7,high=0.4).highlight_null(null_color='black'))\n",
    "# df.style.applymap(color_negative_red)\n",
    "s"
   ]
  },
  {
   "cell_type": "code",
   "execution_count": 91,
   "id": "cf08caf2-0a00-4696-9011-cf9c0b84b514",
   "metadata": {},
   "outputs": [
    {
     "data": {
      "text/html": [
       "<div>\n",
       "<style scoped>\n",
       "    .dataframe tbody tr th:only-of-type {\n",
       "        vertical-align: middle;\n",
       "    }\n",
       "\n",
       "    .dataframe tbody tr th {\n",
       "        vertical-align: top;\n",
       "    }\n",
       "\n",
       "    .dataframe thead th {\n",
       "        text-align: right;\n",
       "    }\n",
       "</style>\n",
       "<table border=\"1\" class=\"dataframe\">\n",
       "  <thead>\n",
       "    <tr style=\"text-align: right;\">\n",
       "      <th>month</th>\n",
       "      <th>Apr</th>\n",
       "      <th>Aug</th>\n",
       "      <th>Dec</th>\n",
       "      <th>Feb</th>\n",
       "      <th>Jan</th>\n",
       "      <th>Jul</th>\n",
       "      <th>Jun</th>\n",
       "      <th>Mar</th>\n",
       "      <th>May</th>\n",
       "      <th>Nov</th>\n",
       "      <th>Oct</th>\n",
       "      <th>Sep</th>\n",
       "    </tr>\n",
       "    <tr>\n",
       "      <th>year</th>\n",
       "      <th></th>\n",
       "      <th></th>\n",
       "      <th></th>\n",
       "      <th></th>\n",
       "      <th></th>\n",
       "      <th></th>\n",
       "      <th></th>\n",
       "      <th></th>\n",
       "      <th></th>\n",
       "      <th></th>\n",
       "      <th></th>\n",
       "      <th></th>\n",
       "    </tr>\n",
       "  </thead>\n",
       "  <tbody>\n",
       "    <tr>\n",
       "      <th>2017</th>\n",
       "      <td>0.033515</td>\n",
       "      <td>0.1797</td>\n",
       "      <td>0.7288</td>\n",
       "      <td>0.00616</td>\n",
       "      <td>0.0065</td>\n",
       "      <td>0.1861</td>\n",
       "      <td>0.27130</td>\n",
       "      <td>0.0065</td>\n",
       "      <td>0.2171</td>\n",
       "      <td>0.22090</td>\n",
       "      <td>0.2120</td>\n",
       "      <td>0.19815</td>\n",
       "    </tr>\n",
       "    <tr>\n",
       "      <th>2018</th>\n",
       "      <td>0.658250</td>\n",
       "      <td>0.3339</td>\n",
       "      <td>0.3472</td>\n",
       "      <td>0.93900</td>\n",
       "      <td>1.5880</td>\n",
       "      <td>0.4567</td>\n",
       "      <td>0.53950</td>\n",
       "      <td>0.6884</td>\n",
       "      <td>0.6842</td>\n",
       "      <td>0.46220</td>\n",
       "      <td>0.4547</td>\n",
       "      <td>0.32805</td>\n",
       "    </tr>\n",
       "    <tr>\n",
       "      <th>2019</th>\n",
       "      <td>0.326700</td>\n",
       "      <td>0.2776</td>\n",
       "      <td>0.2052</td>\n",
       "      <td>0.30575</td>\n",
       "      <td>0.3272</td>\n",
       "      <td>0.3236</td>\n",
       "      <td>0.42195</td>\n",
       "      <td>0.3094</td>\n",
       "      <td>0.3804</td>\n",
       "      <td>0.26250</td>\n",
       "      <td>0.2837</td>\n",
       "      <td>0.25865</td>\n",
       "    </tr>\n",
       "    <tr>\n",
       "      <th>2020</th>\n",
       "      <td>0.189300</td>\n",
       "      <td>0.2897</td>\n",
       "      <td>0.5380</td>\n",
       "      <td>0.27510</td>\n",
       "      <td>0.2250</td>\n",
       "      <td>0.1995</td>\n",
       "      <td>0.19115</td>\n",
       "      <td>0.1717</td>\n",
       "      <td>0.2015</td>\n",
       "      <td>0.27885</td>\n",
       "      <td>0.2483</td>\n",
       "      <td>0.24260</td>\n",
       "    </tr>\n",
       "    <tr>\n",
       "      <th>2021</th>\n",
       "      <td>1.330500</td>\n",
       "      <td>NaN</td>\n",
       "      <td>NaN</td>\n",
       "      <td>0.47665</td>\n",
       "      <td>0.2792</td>\n",
       "      <td>NaN</td>\n",
       "      <td>0.95790</td>\n",
       "      <td>0.4697</td>\n",
       "      <td>1.3890</td>\n",
       "      <td>NaN</td>\n",
       "      <td>NaN</td>\n",
       "      <td>NaN</td>\n",
       "    </tr>\n",
       "  </tbody>\n",
       "</table>\n",
       "</div>"
      ],
      "text/plain": [
       "month       Apr     Aug     Dec      Feb     Jan     Jul      Jun     Mar  \\\n",
       "year                                                                        \n",
       "2017   0.033515  0.1797  0.7288  0.00616  0.0065  0.1861  0.27130  0.0065   \n",
       "2018   0.658250  0.3339  0.3472  0.93900  1.5880  0.4567  0.53950  0.6884   \n",
       "2019   0.326700  0.2776  0.2052  0.30575  0.3272  0.3236  0.42195  0.3094   \n",
       "2020   0.189300  0.2897  0.5380  0.27510  0.2250  0.1995  0.19115  0.1717   \n",
       "2021   1.330500     NaN     NaN  0.47665  0.2792     NaN  0.95790  0.4697   \n",
       "\n",
       "month     May      Nov     Oct      Sep  \n",
       "year                                     \n",
       "2017   0.2171  0.22090  0.2120  0.19815  \n",
       "2018   0.6842  0.46220  0.4547  0.32805  \n",
       "2019   0.3804  0.26250  0.2837  0.25865  \n",
       "2020   0.2015  0.27885  0.2483  0.24260  \n",
       "2021   1.3890      NaN     NaN      NaN  "
      ]
     },
     "execution_count": 91,
     "metadata": {},
     "output_type": "execute_result"
    }
   ],
   "source": [
    "# data.pivot(index='year',columns=['month'],values='close')"
   ]
  },
  {
   "cell_type": "code",
   "execution_count": 33,
   "id": "20f70021-5470-492f-85a6-71e4ab801e79",
   "metadata": {},
   "outputs": [
    {
     "data": {
      "text/plain": [
       "count    1539.000000\n",
       "mean        0.037329\n",
       "std         0.273900\n",
       "min        -0.554471\n",
       "25%        -0.065266\n",
       "50%        -0.004752\n",
       "75%         0.062904\n",
       "max         5.439791\n",
       "Name: pct_change, dtype: float64"
      ]
     },
     "metadata": {},
     "output_type": "display_data"
    },
    {
     "name": "stdout",
     "output_type": "stream",
     "text": [
      "[-0.18103678 -0.00475185  0.41426488]\n"
     ]
    },
    {
     "data": {
      "image/png": "[encoded data removed]",
      "text/plain": [
       "<Figure size 720x360 with 1 Axes>"
      ]
     },
     "metadata": {
      "needs_background": "light"
     },
     "output_type": "display_data"
    }
   ],
   "source": [
    "\n",
    "K = 5\n",
    "data['pct_change'] = data['close'].pct_change(periods=K)\n",
    " \n",
    "\n",
    "\n",
    "data = data[['date','close','pct_change']].dropna()\n",
    "x_val= data['pct_change'].values\n",
    "res = np.quantile( x_val, [0.05,0.5,0.95])\n",
    "display(data['pct_change'].describe())\n",
    "print(res)\n",
    "\n",
    "fig,ax = plt.subplots(figsize=(10,5))\n",
    "\n",
    "\n",
    "sns.histplot(x=x_val,log_scale=False,ax=ax)\n",
    "plt.xlim(-0.40,1)\n",
    "ax.axvline(-0.17,lw=3,ls='--',color='red',label='Stop loss')\n",
    "plt.legend()\n",
    "plt.grid(True)\n",
    "plt.title(f'{NAME} \\n Percentage change in a {K} days windows')\n",
    "plt.show()"
   ]
  },
  {
   "cell_type": "markdown",
   "id": "2653a8dd-33e9-4373-a8d2-49ccbe3f2a56",
   "metadata": {},
   "source": [
    "## Summary\n",
    "\n",
    "- for 5 days windows define a stop loss base q=0.05 , 5% of the percentage change are below -17%.\n",
    "- Mening we are willing to loss 17% of our initial investment."
   ]
  }
 ],
 "metadata": {
  "kernelspec": {
   "display_name": "Python 3",
   "language": "python",
   "name": "python3"
  },
  "language_info": {
   "codemirror_mode": {
    "name": "ipython",
    "version": 3
   },
   "file_extension": ".py",
   "mimetype": "text/x-python",
   "name": "python",
   "nbconvert_exporter": "python",
   "pygments_lexer": "ipython3",
   "version": "3.8.1"
  }
 },
 "nbformat": 4,
 "nbformat_minor": 5
}
