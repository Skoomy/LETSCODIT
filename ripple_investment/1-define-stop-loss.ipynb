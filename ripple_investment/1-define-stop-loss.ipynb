{
 "cells": [
  {
   "cell_type": "markdown",
   "id": "a448b821-48af-4bbd-ada6-a7e06f3ef4d0",
   "metadata": {},
   "source": [
    "## Define a stop loss \n",
    "\n",
    "- A stop-loss order specifies that a stock be bought or sold when it reaches a specified price known as the stop price.\n",
    "- A disadvantage is that a short-term price fluctuation could activate the stop and trigger an unnecessary sale\n",
    "\n",
    "Since we are working with a trending strategy of 5 days windows we need to know what is the average volatility in a 5 days time windows."
   ]
  },
  {
   "cell_type": "code",
   "execution_count": 12,
   "id": "225c1e19-49a6-4bdf-8e98-15d959984945",
   "metadata": {},
   "outputs": [],
   "source": [
    "import pandas as pd \n",
    "import numpy as np\n",
    "import seaborn as sns\n",
    "import matplotlib.pylab as plt\n",
    "\n",
    "data = pd.read_csv(\"data/XRP_price_20210608.csv\")\n",
    "data['date'] = data['time'].apply(pd.Timestamp)\n",
    "\n",
    "NAME='RIPPLE'"
   ]
  },
  {
   "cell_type": "code",
   "execution_count": 21,
   "id": "13a18f42-fb95-4033-bf41-be72e9618796",
   "metadata": {},
   "outputs": [
    {
     "data": {
      "text/plain": [
       "count    1599.000000\n",
       "mean        0.036043\n",
       "std         0.269031\n",
       "min        -0.554471\n",
       "25%        -0.061975\n",
       "50%        -0.005462\n",
       "75%         0.060809\n",
       "max         5.439791\n",
       "Name: pct_change, dtype: float64"
      ]
     },
     "execution_count": 21,
     "metadata": {},
     "output_type": "execute_result"
    }
   ],
   "source": []
  },
  {
   "cell_type": "code",
   "execution_count": 33,
   "id": "20f70021-5470-492f-85a6-71e4ab801e79",
   "metadata": {},
   "outputs": [
    {
     "data": {
      "text/plain": [
       "count    1539.000000\n",
       "mean        0.037329\n",
       "std         0.273900\n",
       "min        -0.554471\n",
       "25%        -0.065266\n",
       "50%        -0.004752\n",
       "75%         0.062904\n",
       "max         5.439791\n",
       "Name: pct_change, dtype: float64"
      ]
     },
     "metadata": {},
     "output_type": "display_data"
    },
    {
     "name": "stdout",
     "output_type": "stream",
     "text": [
      "[-0.18103678 -0.00475185  0.41426488]\n"
     ]
    },
    {
     "data": {
      "image/png": "[encoded data removed]",
      "text/plain": [
       "<Figure size 720x360 with 1 Axes>"
      ]
     },
     "metadata": {
      "needs_background": "light"
     },
     "output_type": "display_data"
    }
   ],
   "source": [
    "\n",
    "K = 5\n",
    "data['pct_change'] = data['close'].pct_change(periods=K)\n",
    " \n",
    "\n",
    "\n",
    "data = data[['date','close','pct_change']].dropna()\n",
    "x_val= data['pct_change'].values\n",
    "res = np.quantile( x_val, [0.05,0.5,0.95])\n",
    "display(data['pct_change'].describe())\n",
    "print(res)\n",
    "\n",
    "fig,ax = plt.subplots(figsize=(10,5))\n",
    "\n",
    "\n",
    "sns.histplot(x=x_val,log_scale=False,ax=ax)\n",
    "plt.xlim(-0.40,1)\n",
    "ax.axvline(-0.17,lw=3,ls='--',color='red',label='Stop loss')\n",
    "plt.legend()\n",
    "plt.grid(True)\n",
    "plt.title(f'{NAME} \\n Percentage change in a {K} days windows')\n",
    "plt.show()"
   ]
  },
  {
   "cell_type": "markdown",
   "id": "2653a8dd-33e9-4373-a8d2-49ccbe3f2a56",
   "metadata": {},
   "source": [
    "## Summary\n",
    "\n",
    "- for 5 days windows define a stop loss base q=0.05 , 5% of the percentage change are below -17%.\n",
    "- Mening we are willing to loss 17% of our initial investment."
   ]
  }
 ],
 "metadata": {
  "kernelspec": {
   "display_name": "Python 3",
   "language": "python",
   "name": "python3"
  },
  "language_info": {
   "codemirror_mode": {
    "name": "ipython",
    "version": 3
   },
   "file_extension": ".py",
   "mimetype": "text/x-python",
   "name": "python",
   "nbconvert_exporter": "python",
   "pygments_lexer": "ipython3",
   "version": "3.8.1"
  }
 },
 "nbformat": 4,
 "nbformat_minor": 5
}
